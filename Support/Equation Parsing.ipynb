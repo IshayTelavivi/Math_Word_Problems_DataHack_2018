{
 "cells": [
  {
   "cell_type": "markdown",
   "metadata": {},
   "source": [
    "Original: https://stackoverflow.com/questions/35759247/converting-infix-to-prefix-in-python"
   ]
  },
  {
   "cell_type": "code",
   "execution_count": 429,
   "metadata": {},
   "outputs": [
    {
     "name": "stdout",
     "output_type": "stream",
     "text": [
      "<class 'tuple'>\n"
     ]
    }
   ],
   "source": [
    "import sys\n",
    "from enum import Enum\n",
    "\n",
    "class Type(Enum):  # This could also be done with individual classes\n",
    "    leftparentheses = 0\n",
    "    rightparentheses = 1\n",
    "    operator = 2\n",
    "    empty = 3\n",
    "    operand = 4\n",
    "\n",
    "OPERATORS = {  # get your data out of your code...\n",
    "    \"+\": \"add\",\n",
    "    \"-\": \"subtract\",\n",
    "    \"*\": \"multiply\",\n",
    "    \"%\": \"modulus\",\n",
    "    \"/\": \"divide\",\n",
    "}\n",
    "\n",
    "def textOperator(string):\n",
    "    \"\"\" Returns the text form of the operator\"\"\"\n",
    "    \n",
    "    if string not in OPERATORS:\n",
    "        sys.exit(\"Unknown operator: \" + string)\n",
    "    return OPERATORS[string]\n",
    "\n",
    "def typeof(string):\n",
    "    if string == '(':\n",
    "        return Type.leftparentheses\n",
    "    elif string == ')':\n",
    "        return Type.rightparentheses\n",
    "    elif string in OPERATORS:\n",
    "        return Type.operator\n",
    "    elif string == ' ':\n",
    "        return Type.empty\n",
    "    else:\n",
    "        return Type.operand\n",
    "\n",
    "def process(tokens):\n",
    "\n",
    "    stack = []\n",
    "    previous_token = \" \"\n",
    "    \n",
    "    while tokens:\n",
    "        token = tokens.pop()\n",
    "\n",
    "        category = typeof(token)\n",
    "\n",
    "        #print(\"token = \", token, \" (\" + str(category) + \")\")\n",
    "\n",
    "        if category == Type.operand:\n",
    "            if typeof(previous_token) == Type.operand:\n",
    "                new_token = previous_token + token\n",
    "                stack.pop()\n",
    "                stack.append(new_token)\n",
    "                previous_token = new_token\n",
    "            else:\n",
    "                stack.append(token)\n",
    "                previous_token = token\n",
    "        elif category == Type.operator:\n",
    "            stack.append((textOperator(token), stack.pop(), process(tokens)))\n",
    "            previous_token = token\n",
    "        elif category == Type.leftparentheses:\n",
    "            stack.append(process(tokens))\n",
    "            previous_token = token\n",
    "        elif category == Type.rightparentheses:\n",
    "            return stack.pop()\n",
    "            previous_token = token\n",
    "        elif category == Type.empty:\n",
    "            continue\n",
    "        \n",
    "        #print(\"previous_token \", previous_token)\n",
    "\n",
    "#         print(\"stack = \", stack)\n",
    "\n",
    "    return stack[0]\n",
    "\n",
    "INFIX = \"180 - ((3*A) + (152*B))\"\n",
    "\n",
    "# pop/append work from right, so reverse, and require a real list\n",
    "postfix = process(list(INFIX[::-1]))\n",
    "\n",
    "print(type(postfix[2]))"
   ]
  },
  {
   "cell_type": "code",
   "execution_count": 431,
   "metadata": {},
   "outputs": [
    {
     "name": "stdout",
     "output_type": "stream",
     "text": [
      "('subtract', '180', ('add', ('multiply', '3', 'A'), ('multiply', '152', 'B')))\n"
     ]
    }
   ],
   "source": [
    "print(postfix)"
   ]
  },
  {
   "cell_type": "markdown",
   "metadata": {},
   "source": [
    "Flatten"
   ]
  },
  {
   "cell_type": "markdown",
   "metadata": {},
   "source": [
    "Based on: https://softwareengineering.stackexchange.com/questions/254279/why-doesnt-python-have-a-flatten-function-for-lists"
   ]
  },
  {
   "cell_type": "code",
   "execution_count": 438,
   "metadata": {
    "collapsed": true
   },
   "outputs": [],
   "source": [
    "#def flatten(l): return flatten(l[0]) + (flatten(l[1:]) if len(l) > 1 else []) if type(l) is list else [l]"
   ]
  },
  {
   "cell_type": "code",
   "execution_count": 439,
   "metadata": {
    "collapsed": true
   },
   "outputs": [],
   "source": [
    "def flatten_tup(tup):\n",
    "    if type(tup) is tuple:\n",
    "        if len(tup) > 1: \n",
    "            return list(flatten_tup(tup[0])) + list(flatten_tup(tup[1:]))\n",
    "        else:\n",
    "            return list(flatten_tup(tup[0])) # + [\")\"] \n",
    "    else:\n",
    "        return [tup]"
   ]
  },
  {
   "cell_type": "code",
   "execution_count": 440,
   "metadata": {},
   "outputs": [
    {
     "name": "stdout",
     "output_type": "stream",
     "text": [
      "['subtract', '180', 'add', 'multiply', '3', 'A', 'multiply', '152', 'B']\n"
     ]
    }
   ],
   "source": [
    "print(flatten_tup(postfix))"
   ]
  },
  {
   "cell_type": "code",
   "execution_count": null,
   "metadata": {
    "collapsed": true
   },
   "outputs": [],
   "source": [
    "#stack_tup = (4,5,(1,2,90),(5,6), (40,(70,80),12),66)"
   ]
  },
  {
   "cell_type": "markdown",
   "metadata": {},
   "source": [
    "Can also use the following snippet, also not tests. From: https://stackoverflow.com/questions/20805614/tokenize-a-mathematical-expression-in-python"
   ]
  },
  {
   "cell_type": "code",
   "execution_count": null,
   "metadata": {
    "collapsed": true
   },
   "outputs": [],
   "source": [
    "# import collections\n",
    "\n",
    "# def flatten(l):\n",
    "#     for el in l:\n",
    "#         if isinstance(el, collections.Iterable) and not isinstance(el, basestring):\n",
    "#             for sub in flatten(el):\n",
    "#                 yield sub\n",
    "#         else:\n",
    "#             yield el\n",
    "\n",
    "# print list(flatten(result))"
   ]
  }
 ],
 "metadata": {
  "kernelspec": {
   "display_name": "Python 3",
   "language": "python",
   "name": "python3"
  },
  "language_info": {
   "codemirror_mode": {
    "name": "ipython",
    "version": 3
   },
   "file_extension": ".py",
   "mimetype": "text/x-python",
   "name": "python",
   "nbconvert_exporter": "python",
   "pygments_lexer": "ipython3",
   "version": "3.6.3"
  }
 },
 "nbformat": 4,
 "nbformat_minor": 2
}
