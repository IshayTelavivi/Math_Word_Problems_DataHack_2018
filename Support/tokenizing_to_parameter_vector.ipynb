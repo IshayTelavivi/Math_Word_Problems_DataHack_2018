{
 "cells": [
  {
   "cell_type": "code",
   "execution_count": 1,
   "metadata": {
    "collapsed": true
   },
   "outputs": [],
   "source": [
    "import pandas as pd\n",
    "import numpy as np\n",
    "import sympy\n",
    "import re"
   ]
  },
  {
   "cell_type": "code",
   "execution_count": 175,
   "metadata": {
    "collapsed": true
   },
   "outputs": [],
   "source": [
    "math_train = pd.read_json('number_word_std.dev.json')"
   ]
  },
  {
   "cell_type": "code",
   "execution_count": 176,
   "metadata": {
    "scrolled": true
   },
   "outputs": [
    {
     "data": {
      "text/html": [
       "<div>\n",
       "<style>\n",
       "    .dataframe thead tr:only-child th {\n",
       "        text-align: right;\n",
       "    }\n",
       "\n",
       "    .dataframe thead th {\n",
       "        text-align: left;\n",
       "    }\n",
       "\n",
       "    .dataframe tbody tr th {\n",
       "        vertical-align: top;\n",
       "    }\n",
       "</style>\n",
       "<table border=\"1\" class=\"dataframe\">\n",
       "  <thead>\n",
       "    <tr style=\"text-align: right;\">\n",
       "      <th></th>\n",
       "      <th>ans</th>\n",
       "      <th>ans_simple</th>\n",
       "      <th>equations</th>\n",
       "      <th>id</th>\n",
       "      <th>index</th>\n",
       "      <th>sources</th>\n",
       "      <th>text</th>\n",
       "    </tr>\n",
       "  </thead>\n",
       "  <tbody>\n",
       "    <tr>\n",
       "      <th>33</th>\n",
       "      <td>11; 13</td>\n",
       "      <td>[11, 13]</td>\n",
       "      <td>[unkn: 2*k-1, 2*k+1, equ: 3(2*k-1)=7+2*(2*k+1)]</td>\n",
       "      <td>algebra.com.797657</td>\n",
       "      <td>868</td>\n",
       "      <td>algebra.com.797657</td>\n",
       "      <td>find two consecutive odd integers such that th...</td>\n",
       "    </tr>\n",
       "    <tr>\n",
       "      <th>34</th>\n",
       "      <td>{11; 3}</td>\n",
       "      <td>[11, 3]</td>\n",
       "      <td>[unkn: x,y, equ: x + y = 14, equ: x^2 + y^2 = ...</td>\n",
       "      <td>yahoo.answers.20061106190512aaqso2e</td>\n",
       "      <td>1381</td>\n",
       "      <td>https://answers.yahoo.com/question/index?qid=2...</td>\n",
       "      <td>The sum of two numbers is fourteen. The sum of...</td>\n",
       "    </tr>\n",
       "    <tr>\n",
       "      <th>35</th>\n",
       "      <td>22; 24; 26</td>\n",
       "      <td>[22, 24, 26]</td>\n",
       "      <td>[unkn: 2*x,2*x+2,2*x+4, equ: 2(2*x+2+2*x+4)-34...</td>\n",
       "      <td>algebra.com.2530</td>\n",
       "      <td>35</td>\n",
       "      <td>algebra.com.2530</td>\n",
       "      <td>Find three consecutive even integers such that...</td>\n",
       "    </tr>\n",
       "    <tr>\n",
       "      <th>36</th>\n",
       "      <td>{3; 7}</td>\n",
       "      <td>[3, 7]</td>\n",
       "      <td>[unkn: x,y, equ: x+y=10, equ: 3*y+3=8*x]</td>\n",
       "      <td>algebra.com.2819</td>\n",
       "      <td>36</td>\n",
       "      <td>[algebra.com.2819, algebra.com.24638, algebra....</td>\n",
       "      <td>The sum of two integers is 10. Three times the...</td>\n",
       "    </tr>\n",
       "    <tr>\n",
       "      <th>37</th>\n",
       "      <td>{12; 17}</td>\n",
       "      <td>[12, 17]</td>\n",
       "      <td>[unkn: x,y, equ: x+y=29, equ: 8*x=5*y+11]</td>\n",
       "      <td>algebra.com.457023</td>\n",
       "      <td>610</td>\n",
       "      <td>algebra.com.457023</td>\n",
       "      <td>The sum of two integers is twenty-nine. Eight ...</td>\n",
       "    </tr>\n",
       "    <tr>\n",
       "      <th>38</th>\n",
       "      <td>{52; 73}</td>\n",
       "      <td>[52, 73]</td>\n",
       "      <td>[unkn: x,y, equ: x + y = 125, equ: 5*x - 3*y =...</td>\n",
       "      <td>yahoo.answers.20090223121444aar9wxc</td>\n",
       "      <td>1566</td>\n",
       "      <td>https://answers.yahoo.com/question/index?qid=2...</td>\n",
       "      <td>The sum of two numbers is 125. Five times one ...</td>\n",
       "    </tr>\n",
       "    <tr>\n",
       "      <th>39</th>\n",
       "      <td>ans_no_result</td>\n",
       "      <td>[]</td>\n",
       "      <td>[unkn: n,n+7, equ: n+(n+7) = 84]</td>\n",
       "      <td>algebra.com.367618</td>\n",
       "      <td>507</td>\n",
       "      <td>algebra.com.367618</td>\n",
       "      <td>find two consecutive multiples of 7 whose sum ...</td>\n",
       "    </tr>\n",
       "    <tr>\n",
       "      <th>40</th>\n",
       "      <td>92; 93</td>\n",
       "      <td>[92, 93]</td>\n",
       "      <td>[unkn: x,x+1, equ: x+(x+1)=185]</td>\n",
       "      <td>algebra.com.449815</td>\n",
       "      <td>606</td>\n",
       "      <td>algebra.com.449815</td>\n",
       "      <td>the sum of two consecutive integers is 185. Fi...</td>\n",
       "    </tr>\n",
       "    <tr>\n",
       "      <th>41</th>\n",
       "      <td>90</td>\n",
       "      <td>[90]</td>\n",
       "      <td>[unkn: x, equ: x/3+60=x/15+84]</td>\n",
       "      <td>algebra.com.3318</td>\n",
       "      <td>42</td>\n",
       "      <td>algebra.com.3318</td>\n",
       "      <td>Sixty more than a number divided by three is e...</td>\n",
       "    </tr>\n",
       "    <tr>\n",
       "      <th>42</th>\n",
       "      <td>17; 18; 19</td>\n",
       "      <td>[17, 18, 19]</td>\n",
       "      <td>[unkn: k-1,k,k+1, equ: 2*k=(k+1)+17]</td>\n",
       "      <td>algebra.com.100249</td>\n",
       "      <td>44</td>\n",
       "      <td>algebra.com.100249</td>\n",
       "      <td>Find 3 consecutive numbers such that twice the...</td>\n",
       "    </tr>\n",
       "  </tbody>\n",
       "</table>\n",
       "</div>"
      ],
      "text/plain": [
       "              ans    ans_simple  \\\n",
       "33         11; 13      [11, 13]   \n",
       "34        {11; 3}       [11, 3]   \n",
       "35     22; 24; 26  [22, 24, 26]   \n",
       "36         {3; 7}        [3, 7]   \n",
       "37       {12; 17}      [12, 17]   \n",
       "38       {52; 73}      [52, 73]   \n",
       "39  ans_no_result            []   \n",
       "40         92; 93      [92, 93]   \n",
       "41             90          [90]   \n",
       "42     17; 18; 19  [17, 18, 19]   \n",
       "\n",
       "                                            equations  \\\n",
       "33    [unkn: 2*k-1, 2*k+1, equ: 3(2*k-1)=7+2*(2*k+1)]   \n",
       "34  [unkn: x,y, equ: x + y = 14, equ: x^2 + y^2 = ...   \n",
       "35  [unkn: 2*x,2*x+2,2*x+4, equ: 2(2*x+2+2*x+4)-34...   \n",
       "36           [unkn: x,y, equ: x+y=10, equ: 3*y+3=8*x]   \n",
       "37          [unkn: x,y, equ: x+y=29, equ: 8*x=5*y+11]   \n",
       "38  [unkn: x,y, equ: x + y = 125, equ: 5*x - 3*y =...   \n",
       "39                   [unkn: n,n+7, equ: n+(n+7) = 84]   \n",
       "40                    [unkn: x,x+1, equ: x+(x+1)=185]   \n",
       "41                     [unkn: x, equ: x/3+60=x/15+84]   \n",
       "42               [unkn: k-1,k,k+1, equ: 2*k=(k+1)+17]   \n",
       "\n",
       "                                     id  index  \\\n",
       "33                   algebra.com.797657    868   \n",
       "34  yahoo.answers.20061106190512aaqso2e   1381   \n",
       "35                     algebra.com.2530     35   \n",
       "36                     algebra.com.2819     36   \n",
       "37                   algebra.com.457023    610   \n",
       "38  yahoo.answers.20090223121444aar9wxc   1566   \n",
       "39                   algebra.com.367618    507   \n",
       "40                   algebra.com.449815    606   \n",
       "41                     algebra.com.3318     42   \n",
       "42                   algebra.com.100249     44   \n",
       "\n",
       "                                              sources  \\\n",
       "33                                 algebra.com.797657   \n",
       "34  https://answers.yahoo.com/question/index?qid=2...   \n",
       "35                                   algebra.com.2530   \n",
       "36  [algebra.com.2819, algebra.com.24638, algebra....   \n",
       "37                                 algebra.com.457023   \n",
       "38  https://answers.yahoo.com/question/index?qid=2...   \n",
       "39                                 algebra.com.367618   \n",
       "40                                 algebra.com.449815   \n",
       "41                                   algebra.com.3318   \n",
       "42                                 algebra.com.100249   \n",
       "\n",
       "                                                 text  \n",
       "33  find two consecutive odd integers such that th...  \n",
       "34  The sum of two numbers is fourteen. The sum of...  \n",
       "35  Find three consecutive even integers such that...  \n",
       "36  The sum of two integers is 10. Three times the...  \n",
       "37  The sum of two integers is twenty-nine. Eight ...  \n",
       "38  The sum of two numbers is 125. Five times one ...  \n",
       "39  find two consecutive multiples of 7 whose sum ...  \n",
       "40  the sum of two consecutive integers is 185. Fi...  \n",
       "41  Sixty more than a number divided by three is e...  \n",
       "42  Find 3 consecutive numbers such that twice the...  "
      ]
     },
     "execution_count": 176,
     "metadata": {},
     "output_type": "execute_result"
    }
   ],
   "source": [
    "math_train.iloc[33:43,:]"
   ]
  },
  {
   "cell_type": "code",
   "execution_count": 177,
   "metadata": {
    "collapsed": true
   },
   "outputs": [],
   "source": [
    "def is_linear(original_string_equation):\n",
    "    \"\"\" Checks if an equation is linear\"\"\"\n",
    "    try:    \n",
    "        # Strips the 'equ:\"\n",
    "        strip_equ = original_string_equation.lstrip(\"equ: \")\n",
    "        # Adds '*' where missing like in 2(k+1) to 2*(k+1)\n",
    "        reg = re.findall('\\d+\\(', strip_equ)\n",
    "        for item in reg:\n",
    "            reg_with_mul = reg[0][0] + \"*\" + reg[0][1]\n",
    "            strip_equ = strip_equ.replace(item, reg_with_mul)\n",
    "        # Finds the variables\n",
    "        list_of_var = []\n",
    "        variables = \"\"\n",
    "        for char in strip_equ:\n",
    "            if char in \"abcdefghijklmnopqrstuvwxyxABCDEFGHIJKLMNOPQRSTUVWXYZ\":\n",
    "                if char not in list_of_var:\n",
    "                    variables = variables + char + \" \"\n",
    "                    list_of_var.append(char)\n",
    "        # Generates an Eq object for separation of the sides of equation\n",
    "        eq_S = sympy.Eq(*map(sympy.S, strip_equ.split(\"=\")))\n",
    "        # Combines two sides of the equation\n",
    "        final_version = eq_S.args[0] + eq_S.args[1]*-1\n",
    "        # Put it in a list so that the 'linear_eq_to_matrix' can handle\n",
    "        if final_version.args_cnc()[0] == []:\n",
    "            final_as_list = final_version.args_cnc()[1]\n",
    "        else:\n",
    "            final_as_list = final_version.args_cnc()[0]\n",
    "        symb = sympy.symbols(variables)\n",
    "        A, b = sympy.linear_eq_to_matrix(final_as_list, symb)\n",
    "        if not any(list(A)) and list(b)[0] != 0:\n",
    "            return False\n",
    "        else:\n",
    "            return True\n",
    "    except:\n",
    "        return False"
   ]
  },
  {
   "cell_type": "code",
   "execution_count": 173,
   "metadata": {},
   "outputs": [
    {
     "data": {
      "text/plain": [
       "False"
      ]
     },
     "execution_count": 173,
     "metadata": {},
     "output_type": "execute_result"
    }
   ],
   "source": [
    "trial = [1,'v']\n",
    "all([type(el) == int for el in trial]) "
   ]
  },
  {
   "cell_type": "code",
   "execution_count": 178,
   "metadata": {
    "collapsed": true
   },
   "outputs": [],
   "source": [
    "def is_set_linear(list_of_equations):\n",
    "    all_linear = True\n",
    "    list_without_unkn = list_of_equations[1:]\n",
    "    if not all(map(is_linear, list_without_unkn)):\n",
    "        return False\n",
    "    else:\n",
    "        return True"
   ]
  },
  {
   "cell_type": "code",
   "execution_count": 161,
   "metadata": {},
   "outputs": [],
   "source": [
    "is_linear(math_train[\"equations\"][0][1])"
   ]
  },
  {
   "cell_type": "code",
   "execution_count": 162,
   "metadata": {},
   "outputs": [
    {
     "data": {
      "text/plain": [
       "'equ: x+y=64'"
      ]
     },
     "execution_count": 162,
     "metadata": {},
     "output_type": "execute_result"
    }
   ],
   "source": [
    "xy = math_train[\"equations\"][18][1]\n",
    "xy"
   ]
  },
  {
   "cell_type": "code",
   "execution_count": 163,
   "metadata": {},
   "outputs": [
    {
     "data": {
      "text/plain": [
       "'x+y=64'"
      ]
     },
     "execution_count": 163,
     "metadata": {},
     "output_type": "execute_result"
    }
   ],
   "source": [
    "strip_equ = xy.lstrip(\"equ: \")\n",
    "strip_equ"
   ]
  },
  {
   "cell_type": "code",
   "execution_count": 124,
   "metadata": {
    "collapsed": true
   },
   "outputs": [],
   "source": [
    "reg = re.findall('\\d+\\(', strip_equ)\n",
    "for item in reg:\n",
    "    reg_with_mul = reg[0][0] + \"*\" + reg[0][1]\n",
    "    strip_equ = strip_equ.replace(item, reg_with_mul)"
   ]
  },
  {
   "cell_type": "code",
   "execution_count": 125,
   "metadata": {},
   "outputs": [
    {
     "data": {
      "text/plain": [
       "['x', 'y']"
      ]
     },
     "execution_count": 125,
     "metadata": {},
     "output_type": "execute_result"
    }
   ],
   "source": [
    "list_of_var = []\n",
    "variables = \"\"\n",
    "for char in strip_equ:\n",
    "    if char in \"abcdefghijklmnopqrstuvwxyxABCDEFGHIJKLMNOPQRSTUVWXYZ\":\n",
    "        if char not in list_of_var:\n",
    "            variables = variables + char + \" \"\n",
    "            list_of_var.append(char)\n",
    "list_of_var "
   ]
  },
  {
   "cell_type": "code",
   "execution_count": 126,
   "metadata": {},
   "outputs": [
    {
     "data": {
      "text/plain": [
       "Eq(x + y, 10)"
      ]
     },
     "execution_count": 126,
     "metadata": {},
     "output_type": "execute_result"
    }
   ],
   "source": [
    "eq_S = sympy.Eq(*map(sympy.S, strip_equ.split(\"=\")))\n",
    "eq_S"
   ]
  },
  {
   "cell_type": "code",
   "execution_count": 127,
   "metadata": {},
   "outputs": [
    {
     "data": {
      "text/plain": [
       "x + y - 10"
      ]
     },
     "execution_count": 127,
     "metadata": {},
     "output_type": "execute_result"
    }
   ],
   "source": [
    "final_version = eq_S.args[0] + eq_S.args[1]*-1\n",
    "final_version"
   ]
  },
  {
   "cell_type": "code",
   "execution_count": 128,
   "metadata": {},
   "outputs": [
    {
     "data": {
      "text/plain": [
       "[x + y - 10]"
      ]
     },
     "execution_count": 128,
     "metadata": {},
     "output_type": "execute_result"
    }
   ],
   "source": [
    "if final_version.args_cnc()[0] == []:\n",
    "    final_as_list = final_version.args_cnc()[1]\n",
    "else:\n",
    "    final_as_list = final_version.args_cnc()[0]\n",
    "final_as_list"
   ]
  },
  {
   "cell_type": "code",
   "execution_count": 129,
   "metadata": {},
   "outputs": [
    {
     "data": {
      "text/plain": [
       "(x, y)"
      ]
     },
     "execution_count": 129,
     "metadata": {},
     "output_type": "execute_result"
    }
   ],
   "source": [
    "symb = sympy.symbols(variables)\n",
    "symb"
   ]
  },
  {
   "cell_type": "code",
   "execution_count": 130,
   "metadata": {
    "collapsed": true
   },
   "outputs": [],
   "source": [
    "A, b = sympy.linear_eq_to_matrix(final_as_list, symb)"
   ]
  },
  {
   "cell_type": "code",
   "execution_count": 133,
   "metadata": {},
   "outputs": [
    {
     "ename": "SyntaxError",
     "evalue": "can't assign to function call (<ipython-input-133-0af3f60f89d2>, line 2)",
     "output_type": "error",
     "traceback": [
      "\u001b[1;36m  File \u001b[1;32m\"<ipython-input-133-0af3f60f89d2>\"\u001b[1;36m, line \u001b[1;32m2\u001b[0m\n\u001b[1;33m    type(listA[0]) = int\u001b[0m\n\u001b[1;37m                        ^\u001b[0m\n\u001b[1;31mSyntaxError\u001b[0m\u001b[1;31m:\u001b[0m can't assign to function call\n"
     ]
    }
   ],
   "source": [
    "listA = list(A)\n",
    "type(listA[0]) = int"
   ]
  },
  {
   "cell_type": "code",
   "execution_count": 120,
   "metadata": {},
   "outputs": [
    {
     "data": {
      "text/plain": [
       "[y, x]"
      ]
     },
     "execution_count": 120,
     "metadata": {},
     "output_type": "execute_result"
    }
   ],
   "source": [
    "listA"
   ]
  },
  {
   "cell_type": "code",
   "execution_count": 121,
   "metadata": {},
   "outputs": [
    {
     "ename": "NameError",
     "evalue": "name 'Symbol' is not defined",
     "output_type": "error",
     "traceback": [
      "\u001b[1;31m---------------------------------------------------------------------------\u001b[0m",
      "\u001b[1;31mNameError\u001b[0m                                 Traceback (most recent call last)",
      "\u001b[1;32m<ipython-input-121-8e438186d2e0>\u001b[0m in \u001b[0;36m<module>\u001b[1;34m()\u001b[0m\n\u001b[1;32m----> 1\u001b[1;33m \u001b[0mall\u001b[0m\u001b[1;33m(\u001b[0m\u001b[1;33m[\u001b[0m\u001b[0mtype\u001b[0m\u001b[1;33m(\u001b[0m\u001b[0mel\u001b[0m\u001b[1;33m)\u001b[0m \u001b[1;33m==\u001b[0m \u001b[0mSymbol\u001b[0m \u001b[1;32mfor\u001b[0m \u001b[0mel\u001b[0m \u001b[1;32min\u001b[0m \u001b[0mlistA\u001b[0m\u001b[1;33m]\u001b[0m\u001b[1;33m)\u001b[0m\u001b[1;33m\u001b[0m\u001b[0m\n\u001b[0m",
      "\u001b[1;32m<ipython-input-121-8e438186d2e0>\u001b[0m in \u001b[0;36m<listcomp>\u001b[1;34m(.0)\u001b[0m\n\u001b[1;32m----> 1\u001b[1;33m \u001b[0mall\u001b[0m\u001b[1;33m(\u001b[0m\u001b[1;33m[\u001b[0m\u001b[0mtype\u001b[0m\u001b[1;33m(\u001b[0m\u001b[0mel\u001b[0m\u001b[1;33m)\u001b[0m \u001b[1;33m==\u001b[0m \u001b[0mSymbol\u001b[0m \u001b[1;32mfor\u001b[0m \u001b[0mel\u001b[0m \u001b[1;32min\u001b[0m \u001b[0mlistA\u001b[0m\u001b[1;33m]\u001b[0m\u001b[1;33m)\u001b[0m\u001b[1;33m\u001b[0m\u001b[0m\n\u001b[0m",
      "\u001b[1;31mNameError\u001b[0m: name 'Symbol' is not defined"
     ]
    }
   ],
   "source": [
    "all([type(el) == Symbol for el in listA])"
   ]
  },
  {
   "cell_type": "code",
   "execution_count": 105,
   "metadata": {},
   "outputs": [
    {
     "name": "stdout",
     "output_type": "stream",
     "text": [
      "n\n"
     ]
    }
   ],
   "source": [
    "if all([type(el) == int for el in listA]):\n",
    "    print(\"y\")\n",
    "else:\n",
    "    print(\"n\")"
   ]
  },
  {
   "cell_type": "code",
   "execution_count": 69,
   "metadata": {},
   "outputs": [
    {
     "data": {
      "text/plain": [
       "Matrix([[y, x]])"
      ]
     },
     "execution_count": 69,
     "metadata": {},
     "output_type": "execute_result"
    }
   ],
   "source": [
    "A"
   ]
  },
  {
   "cell_type": "code",
   "execution_count": 70,
   "metadata": {},
   "outputs": [
    {
     "data": {
      "text/plain": [
       "Matrix([[20]])"
      ]
     },
     "execution_count": 70,
     "metadata": {},
     "output_type": "execute_result"
    }
   ],
   "source": [
    "b"
   ]
  },
  {
   "cell_type": "code",
   "execution_count": 179,
   "metadata": {
    "collapsed": true
   },
   "outputs": [],
   "source": [
    "math_train[\"is_linear\"] = math_train[\"equations\"].map(is_set_linear)"
   ]
  },
  {
   "cell_type": "code",
   "execution_count": 188,
   "metadata": {},
   "outputs": [
    {
     "data": {
      "text/html": [
       "<div>\n",
       "<style>\n",
       "    .dataframe thead tr:only-child th {\n",
       "        text-align: right;\n",
       "    }\n",
       "\n",
       "    .dataframe thead th {\n",
       "        text-align: left;\n",
       "    }\n",
       "\n",
       "    .dataframe tbody tr th {\n",
       "        vertical-align: top;\n",
       "    }\n",
       "</style>\n",
       "<table border=\"1\" class=\"dataframe\">\n",
       "  <thead>\n",
       "    <tr style=\"text-align: right;\">\n",
       "      <th></th>\n",
       "      <th>ans</th>\n",
       "      <th>ans_simple</th>\n",
       "      <th>equations</th>\n",
       "      <th>id</th>\n",
       "      <th>index</th>\n",
       "      <th>sources</th>\n",
       "      <th>text</th>\n",
       "      <th>is_linear</th>\n",
       "    </tr>\n",
       "  </thead>\n",
       "  <tbody>\n",
       "    <tr>\n",
       "      <th>184</th>\n",
       "      <td>23; 50; 64</td>\n",
       "      <td>[23, 50, 64]</td>\n",
       "      <td>[unkn: x,y,z, equ: x+y+z=137, equ: y = 4 + 2*x...</td>\n",
       "      <td>algebra.com.18080</td>\n",
       "      <td>1236</td>\n",
       "      <td>algebra.com.18080</td>\n",
       "      <td>The sum of 3 numbers is 137.  The second numbe...</td>\n",
       "      <td>True</td>\n",
       "    </tr>\n",
       "  </tbody>\n",
       "</table>\n",
       "</div>"
      ],
      "text/plain": [
       "            ans    ans_simple  \\\n",
       "184  23; 50; 64  [23, 50, 64]   \n",
       "\n",
       "                                             equations                 id  \\\n",
       "184  [unkn: x,y,z, equ: x+y+z=137, equ: y = 4 + 2*x...  algebra.com.18080   \n",
       "\n",
       "     index            sources  \\\n",
       "184   1236  algebra.com.18080   \n",
       "\n",
       "                                                  text  is_linear  \n",
       "184  The sum of 3 numbers is 137.  The second numbe...       True  "
      ]
     },
     "execution_count": 188,
     "metadata": {},
     "output_type": "execute_result"
    }
   ],
   "source": [
    "math_train[math_train[\"index\"] == 1236]"
   ]
  },
  {
   "cell_type": "code",
   "execution_count": 171,
   "metadata": {},
   "outputs": [
    {
     "data": {
      "text/plain": [
       "True     307\n",
       "False     67\n",
       "Name: is_linear, dtype: int64"
      ]
     },
     "execution_count": 171,
     "metadata": {},
     "output_type": "execute_result"
    }
   ],
   "source": [
    "math_train[\"is_linear\"].value_counts()"
   ]
  },
  {
   "cell_type": "code",
   "execution_count": 155,
   "metadata": {
    "collapsed": true
   },
   "outputs": [],
   "source": [
    "N_PARAMS = 4 # number of coefficients\n",
    "def convert_equation_to_vector(original_string_equation):\n",
    "    \"\"\" Converts an equation to a list of parameters of linear combination\"\"\" \n",
    "    \n",
    "    # Strips the 'equ:\"\n",
    "    strip_equ = original_string_equation.lstrip(\"equ: \")\n",
    "    # Adds '*' where missing like in 2(k+1) to 2*(k+1)\n",
    "    reg = re.findall('\\d+\\(', strip_equ)\n",
    "    for item in reg:\n",
    "        reg_with_mul = reg[0][0] + \"*\" + reg[0][1]\n",
    "        strip_equ = strip_equ.replace(item, reg_with_mul)\n",
    "    # Finds the variables\n",
    "    list_of_var = []\n",
    "    variables = \"\"\n",
    "    for char in strip_equ:\n",
    "        if char in \"abcdefghijklmnopqrstuvwxyxABCDEFGHIJKLMNOPQRSTUVWXYZ\":\n",
    "            if char not in list_of_var:\n",
    "                variables = variables + char + \" \"\n",
    "                list_of_var.append(char)\n",
    "    # Generates an Eq object for separation of the sides of equation\n",
    "    eq_S = sympy.Eq(*map(sympy.S, strip_equ.split(\"=\")))\n",
    "    # Combines two sides of the equation\n",
    "    final_version = eq_S.args[0] + eq_S.args[1]*-1\n",
    "    # Put it in a list so that the 'linear_eq_to_matrix' can handle\n",
    "    if final_version.args_cnc()[0] == []:\n",
    "        final_as_list = final_version.args_cnc()[1]\n",
    "    else:\n",
    "        final_as_list = final_version.args_cnc()[0]\n",
    "    symb = sympy.symbols(variables)\n",
    "    A, b = sympy.linear_eq_to_matrix(final_as_list, symb)\n",
    "    negative_b = list(b)[0]\n",
    "    A_params = list(A)\n",
    "    params = [*list(A)] #, list(b)[0]*-1]\n",
    "    # Now vectorizing\n",
    "    param_A_vector = np.zeros((N_PARAMS,))\n",
    "    for i, num in enumerate(params):\n",
    "        param_A_vector[i] = num\n",
    "    param_vector = np.hstack((param_A_vector, list(b)[0]*-1))\n",
    "    param_vector_with_closure = np.hstack((8888, param_vector, 9999)) # 8888 - start equation; 9999 - end equation\n",
    "    \n",
    "    return param_vector_with_closure"
   ]
  },
  {
   "cell_type": "code",
   "execution_count": 200,
   "metadata": {
    "collapsed": true
   },
   "outputs": [],
   "source": [
    "N_EQUATIONS = 3\n",
    "def form_vectorized_matrix(list_of_unkn_and_equations):\n",
    "    \"\"\"Generates a vectoer based on the equations parameters\"\"\"\n",
    "    \n",
    "    matrix = np.zeros((N_EQUATIONS, N_PARAMS+3)) # Added 3, one for the b in the matrix, and two for the 9999/8888 breakers\n",
    "    list_of_equtions = list_of_unkn_and_equations[1:]\n",
    "    for i, equaition in enumerate(list_of_equtions):\n",
    "        vector = convert_equation_to_vector(equaition)\n",
    "        matrix[i] = vector\n",
    "    vectorized_matrix = matrix.reshape((N_PARAMS+3)*N_EQUATIONS,)\n",
    "    \n",
    "    return vectorized_matrix"
   ]
  },
  {
   "cell_type": "code",
   "execution_count": 187,
   "metadata": {},
   "outputs": [
    {
     "data": {
      "text/plain": [
       "17"
      ]
     },
     "execution_count": 187,
     "metadata": {},
     "output_type": "execute_result"
    }
   ],
   "source": [
    "len(list(math_train['equations'][:17].map(form_vectorized_matrix))"
   ]
  },
  {
   "cell_type": "code",
   "execution_count": 193,
   "metadata": {},
   "outputs": [
    {
     "data": {
      "text/plain": [
       "'equ: z = 3*x - 5'"
      ]
     },
     "execution_count": 193,
     "metadata": {},
     "output_type": "execute_result"
    }
   ],
   "source": [
    "test_eq = math_train['equations'][184][3]\n",
    "test_eq"
   ]
  },
  {
   "cell_type": "code",
   "execution_count": 192,
   "metadata": {},
   "outputs": [
    {
     "data": {
      "text/plain": [
       "array([8888, -3.0, 0.0, 0.0, 0.0, z + 5, 9999], dtype=object)"
      ]
     },
     "execution_count": 192,
     "metadata": {},
     "output_type": "execute_result"
    }
   ],
   "source": [
    "convert_equation_to_vector(test_eq)"
   ]
  },
  {
   "cell_type": "code",
   "execution_count": 195,
   "metadata": {},
   "outputs": [
    {
     "data": {
      "text/plain": [
       "'z = 3*x - 5'"
      ]
     },
     "execution_count": 195,
     "metadata": {},
     "output_type": "execute_result"
    }
   ],
   "source": [
    "strip_equ = test_eq.lstrip(\"equ: \")\n",
    "strip_equ"
   ]
  },
  {
   "cell_type": "code",
   "execution_count": 199,
   "metadata": {},
   "outputs": [
    {
     "data": {
      "text/plain": [
       "array([  8.88800000e+03,   1.00000000e+00,   1.00000000e+00,\n",
       "         0.00000000e+00,   0.00000000e+00,  -6.80000000e+01,\n",
       "         9.99900000e+03,   8.88800000e+03,   1.00000000e+00,\n",
       "        -1.00000000e+00,   0.00000000e+00,   0.00000000e+00,\n",
       "        -1.60000000e+01,   9.99900000e+03,   0.00000000e+00,\n",
       "         0.00000000e+00,   0.00000000e+00,   0.00000000e+00,\n",
       "         0.00000000e+00,   0.00000000e+00,   0.00000000e+00])"
      ]
     },
     "execution_count": 199,
     "metadata": {},
     "output_type": "execute_result"
    }
   ],
   "source": [
    "form_vectorized_matrix(math_train['equations'][3])"
   ]
  },
  {
   "cell_type": "code",
   "execution_count": null,
   "metadata": {
    "collapsed": true
   },
   "outputs": [],
   "source": []
  }
 ],
 "metadata": {
  "kernelspec": {
   "display_name": "Python 3",
   "language": "python",
   "name": "python3"
  },
  "language_info": {
   "codemirror_mode": {
    "name": "ipython",
    "version": 3
   },
   "file_extension": ".py",
   "mimetype": "text/x-python",
   "name": "python",
   "nbconvert_exporter": "python",
   "pygments_lexer": "ipython3",
   "version": "3.6.3"
  }
 },
 "nbformat": 4,
 "nbformat_minor": 2
}
