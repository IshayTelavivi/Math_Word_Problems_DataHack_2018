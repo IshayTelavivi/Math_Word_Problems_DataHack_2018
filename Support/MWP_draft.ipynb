{
 "cells": [
  {
   "cell_type": "code",
   "execution_count": 1,
   "metadata": {
    "collapsed": true
   },
   "outputs": [],
   "source": [
    "from __future__ import print_function, division\n",
    "from builtins import range, input"
   ]
  },
  {
   "cell_type": "code",
   "execution_count": 2,
   "metadata": {
    "collapsed": true
   },
   "outputs": [],
   "source": [
    "import os, sys"
   ]
  },
  {
   "cell_type": "code",
   "execution_count": 3,
   "metadata": {},
   "outputs": [
    {
     "name": "stderr",
     "output_type": "stream",
     "text": [
      "Using TensorFlow backend.\n"
     ]
    }
   ],
   "source": [
    "from keras.models import Model\n",
    "from keras.layers import Input, LSTM, GRU, Dense, Embedding\n",
    "from keras.preprocessing.text import Tokenizer\n",
    "from keras.preprocessing.sequence import pad_sequences\n",
    "from keras.utils import to_categorical\n",
    "import numpy as np\n",
    "import matplotlib.pyplot as plt\n",
    "import pandas as pd\n",
    "from tqdm import tqdm_notebook as tqdm\n",
    "from collections import Counter"
   ]
  },
  {
   "cell_type": "code",
   "execution_count": 4,
   "metadata": {
    "collapsed": true
   },
   "outputs": [],
   "source": [
    "import keras.backend as K\n",
    "if len(K.tensorflow_backend._get_available_gpus()) > 0:\n",
    "    from keras.layers import CuDNNLSTM as LSTM\n",
    "    from keras.layers import CuDNNGRU as GRU"
   ]
  },
  {
   "cell_type": "code",
   "execution_count": 5,
   "metadata": {
    "collapsed": true
   },
   "outputs": [],
   "source": [
    "# some config\n",
    "BATCH_SIZE = 64  # Batch size for training.\n",
    "EPOCHS = 100  # Number of epochs to train for.\n",
    "LATENT_DIM = 256  # Latent dimensionality of the encoding space.\n",
    "#NUM_SAMPLES = 10000  # Number of samples to train on (only when the data length is very high and we want to train on less)\n",
    "MAX_SEQUENCE_LENGTH = 100\n",
    "MAX_NUM_WORDS = 10000\n",
    "EMBEDDING_DIM = 100"
   ]
  },
  {
   "cell_type": "code",
   "execution_count": 6,
   "metadata": {},
   "outputs": [],
   "source": [
    "data = pd.read_json(\"dolphin_t2_final.json\")"
   ]
  },
  {
   "cell_type": "code",
   "execution_count": 7,
   "metadata": {},
   "outputs": [
    {
     "data": {
      "text/html": [
       "<div>\n",
       "<style>\n",
       "    .dataframe thead tr:only-child th {\n",
       "        text-align: right;\n",
       "    }\n",
       "\n",
       "    .dataframe thead th {\n",
       "        text-align: left;\n",
       "    }\n",
       "\n",
       "    .dataframe tbody tr th {\n",
       "        vertical-align: top;\n",
       "    }\n",
       "</style>\n",
       "<table border=\"1\" class=\"dataframe\">\n",
       "  <thead>\n",
       "    <tr style=\"text-align: right;\">\n",
       "      <th></th>\n",
       "      <th>Alignment</th>\n",
       "      <th>Equiv</th>\n",
       "      <th>Template</th>\n",
       "      <th>iIndex</th>\n",
       "      <th>lEquations</th>\n",
       "      <th>lSolutions</th>\n",
       "      <th>sQuestion</th>\n",
       "    </tr>\n",
       "  </thead>\n",
       "  <tbody>\n",
       "    <tr>\n",
       "      <th>0</th>\n",
       "      <td>[{'coeff': 'a', 'SentenceId': 0, 'Value': 18.0...</td>\n",
       "      <td>[]</td>\n",
       "      <td>[m + n = a, m - n = b]</td>\n",
       "      <td>2000989</td>\n",
       "      <td>[x+y=18.0, x-y=4.0]</td>\n",
       "      <td>[11.0, 7.0]</td>\n",
       "      <td>The sum of two numbers is 18 and their differe...</td>\n",
       "    </tr>\n",
       "    <tr>\n",
       "      <th>1</th>\n",
       "      <td>[{'coeff': 'a', 'SentenceId': 0, 'Value': 22.0...</td>\n",
       "      <td>[]</td>\n",
       "      <td>[m + n = a, m - n = b]</td>\n",
       "      <td>2001344</td>\n",
       "      <td>[x+y=22.0, x-y=4.0]</td>\n",
       "      <td>[13.0, 9.0]</td>\n",
       "      <td>Two numbers have a sum of 22 . Their differenc...</td>\n",
       "    </tr>\n",
       "    <tr>\n",
       "      <th>2</th>\n",
       "      <td>[{'coeff': 'a', 'SentenceId': 0, 'Value': 34.0...</td>\n",
       "      <td>[]</td>\n",
       "      <td>[m + n = a, m - n = b]</td>\n",
       "      <td>2001019</td>\n",
       "      <td>[x-y=10.0, x+y=34.0]</td>\n",
       "      <td>[22.0, 12.0]</td>\n",
       "      <td>Two numbers have a difference of 10 and the su...</td>\n",
       "    </tr>\n",
       "    <tr>\n",
       "      <th>3</th>\n",
       "      <td>[{'coeff': 'a', 'SentenceId': 0, 'Value': 38.0...</td>\n",
       "      <td>[]</td>\n",
       "      <td>[m + n = a, m - n = b]</td>\n",
       "      <td>2001024</td>\n",
       "      <td>[x+y=38.0, x-y=12.0]</td>\n",
       "      <td>[25.0, 13.0]</td>\n",
       "      <td>The sum of two numbers is 38 . Their differenc...</td>\n",
       "    </tr>\n",
       "    <tr>\n",
       "      <th>4</th>\n",
       "      <td>[{'coeff': 'a', 'SentenceId': 0, 'Value': 39.0...</td>\n",
       "      <td>[]</td>\n",
       "      <td>[m + n = a, m - n = b]</td>\n",
       "      <td>2001038</td>\n",
       "      <td>[x+y=39.0, x-y=7.0]</td>\n",
       "      <td>[23.0, 16.0]</td>\n",
       "      <td>The sum of two numbers is 39 and their differe...</td>\n",
       "    </tr>\n",
       "  </tbody>\n",
       "</table>\n",
       "</div>"
      ],
      "text/plain": [
       "                                           Alignment Equiv  \\\n",
       "0  [{'coeff': 'a', 'SentenceId': 0, 'Value': 18.0...    []   \n",
       "1  [{'coeff': 'a', 'SentenceId': 0, 'Value': 22.0...    []   \n",
       "2  [{'coeff': 'a', 'SentenceId': 0, 'Value': 34.0...    []   \n",
       "3  [{'coeff': 'a', 'SentenceId': 0, 'Value': 38.0...    []   \n",
       "4  [{'coeff': 'a', 'SentenceId': 0, 'Value': 39.0...    []   \n",
       "\n",
       "                 Template   iIndex            lEquations    lSolutions  \\\n",
       "0  [m + n = a, m - n = b]  2000989   [x+y=18.0, x-y=4.0]   [11.0, 7.0]   \n",
       "1  [m + n = a, m - n = b]  2001344   [x+y=22.0, x-y=4.0]   [13.0, 9.0]   \n",
       "2  [m + n = a, m - n = b]  2001019  [x-y=10.0, x+y=34.0]  [22.0, 12.0]   \n",
       "3  [m + n = a, m - n = b]  2001024  [x+y=38.0, x-y=12.0]  [25.0, 13.0]   \n",
       "4  [m + n = a, m - n = b]  2001038   [x+y=39.0, x-y=7.0]  [23.0, 16.0]   \n",
       "\n",
       "                                           sQuestion  \n",
       "0  The sum of two numbers is 18 and their differe...  \n",
       "1  Two numbers have a sum of 22 . Their differenc...  \n",
       "2  Two numbers have a difference of 10 and the su...  \n",
       "3  The sum of two numbers is 38 . Their differenc...  \n",
       "4  The sum of two numbers is 39 and their differe...  "
      ]
     },
     "execution_count": 7,
     "metadata": {},
     "output_type": "execute_result"
    }
   ],
   "source": [
    "data.head()"
   ]
  },
  {
   "cell_type": "code",
   "execution_count": 8,
   "metadata": {},
   "outputs": [
    {
     "name": "stdout",
     "output_type": "stream",
     "text": [
      "num samples: 831\n"
     ]
    }
   ],
   "source": [
    "print(\"num samples:\", len(data))"
   ]
  },
  {
   "cell_type": "code",
   "execution_count": 9,
   "metadata": {},
   "outputs": [
    {
     "name": "stdout",
     "output_type": "stream",
     "text": [
      "Example:\n",
      "--------\n",
      "Question:  find two consecutive even integers whose sum is 126\n",
      "Equation:  ['x+(x+2.0)=126.0']\n",
      "Solution:  [62.0]\n"
     ]
    }
   ],
   "source": [
    "# Example question\n",
    "print(\"Example:\")\n",
    "print(\"--------\")\n",
    "print(\"Question: \", data.iloc[110,6])\n",
    "print(\"Equation: \", data.iloc[110,4])\n",
    "print(\"Solution: \", data.iloc[110,5])"
   ]
  },
  {
   "cell_type": "markdown",
   "metadata": {},
   "source": [
    "Question Length"
   ]
  },
  {
   "cell_type": "code",
   "execution_count": 10,
   "metadata": {},
   "outputs": [
    {
     "data": {
      "text/plain": [
       "0    19\n",
       "1    19\n",
       "2    18\n",
       "3    19\n",
       "4    18\n",
       "Name: Question_Length, dtype: int64"
      ]
     },
     "execution_count": 10,
     "metadata": {},
     "output_type": "execute_result"
    }
   ],
   "source": [
    "def quest_len(text):\n",
    "    split_text = text.split()\n",
    "    return len(split_text)\n",
    "\n",
    "data[\"Question_Length\"] = data[\"sQuestion\"].apply(quest_len)\n",
    "data[\"Question_Length\"].head()"
   ]
  },
  {
   "cell_type": "code",
   "execution_count": 11,
   "metadata": {},
   "outputs": [
    {
     "data": {
      "image/png": "[encoded data removed]",
      "text/plain": [
       "<matplotlib.figure.Figure at 0x21ff45a5f28>"
      ]
     },
     "metadata": {},
     "output_type": "display_data"
    }
   ],
   "source": [
    "data[\"Question_Length\"].hist(bins=30)\n",
    "plt.show()"
   ]
  },
  {
   "cell_type": "code",
   "execution_count": 12,
   "metadata": {},
   "outputs": [],
   "source": [
    "# # determine maximum length input sequence\n",
    "# max_len_input = max(len(s) for s in input_sequences)\n",
    "# max_len_input"
   ]
  },
  {
   "cell_type": "code",
   "execution_count": 13,
   "metadata": {
    "collapsed": true
   },
   "outputs": [],
   "source": [
    "# I am not taking maximun, to avoid wasted calsulation (knowing that any question beyond 33 will get false prediction)\n",
    "max_len_input = 33"
   ]
  },
  {
   "cell_type": "markdown",
   "metadata": {},
   "source": [
    "Now we need to store the input (questions), the target (equations with EOS) and the target input (equations with SOS)"
   ]
  },
  {
   "cell_type": "code",
   "execution_count": 14,
   "metadata": {},
   "outputs": [
    {
     "data": {
      "text/plain": [
       "['The sum of two numbers is 18 and their difference is 4 . What are the two numbers ?',\n",
       " 'Two numbers have a sum of 22 . Their difference is 4 . what are the two numbers ?',\n",
       " 'Two numbers have a difference of 10 and the sum of 34 . What are the numbers ?']"
      ]
     },
     "execution_count": 14,
     "metadata": {},
     "output_type": "execute_result"
    }
   ],
   "source": [
    "# Here we store the questions\n",
    "input_texts = list(data[\"sQuestion\"])\n",
    "input_texts[:3]"
   ]
  },
  {
   "cell_type": "code",
   "execution_count": 15,
   "metadata": {},
   "outputs": [
    {
     "data": {
      "text/plain": [
       "0     <sos> ['x+y=18.0', 'x-y=4.0']\n",
       "1     <sos> ['x+y=22.0', 'x-y=4.0']\n",
       "2    <sos> ['x-y=10.0', 'x+y=34.0']\n",
       "3    <sos> ['x+y=38.0', 'x-y=12.0']\n",
       "4     <sos> ['x+y=39.0', 'x-y=7.0']\n",
       "Name: lEquations_sos, dtype: object"
      ]
     },
     "execution_count": 15,
     "metadata": {},
     "output_type": "execute_result"
    }
   ],
   "source": [
    "data[\"lEquations_sos\"]  = '<sos> ' + data[\"lEquations\"].astype(str)\n",
    "data[\"lEquations_sos\"].head()"
   ]
  },
  {
   "cell_type": "code",
   "execution_count": 16,
   "metadata": {},
   "outputs": [
    {
     "data": {
      "text/plain": [
       "0     ['x+y=18.0', 'x-y=4.0'] <eos>\n",
       "1     ['x+y=22.0', 'x-y=4.0'] <eos>\n",
       "2    ['x-y=10.0', 'x+y=34.0'] <eos>\n",
       "3    ['x+y=38.0', 'x-y=12.0'] <eos>\n",
       "4     ['x+y=39.0', 'x-y=7.0'] <eos>\n",
       "Name: lEquations_eos, dtype: object"
      ]
     },
     "execution_count": 16,
     "metadata": {},
     "output_type": "execute_result"
    }
   ],
   "source": [
    "data[\"lEquations_eos\"]  = data[\"lEquations\"].astype(str) + \" <eos>\"\n",
    "data[\"lEquations_eos\"].head()"
   ]
  },
  {
   "cell_type": "code",
   "execution_count": 17,
   "metadata": {
    "collapsed": true
   },
   "outputs": [],
   "source": [
    "target_texts = list(data[\"lEquations_eos\"]) # sentence in target language\n",
    "target_texts_inputs = list(data[\"lEquations_sos\"]) # sentence in target language offset by 1"
   ]
  },
  {
   "cell_type": "code",
   "execution_count": 18,
   "metadata": {},
   "outputs": [],
   "source": [
    "# tokenize the inputs\n",
    "tokenizer_inputs = Tokenizer(num_words=MAX_NUM_WORDS)\n",
    "tokenizer_inputs.fit_on_texts(input_texts)\n",
    "input_sequences = tokenizer_inputs.texts_to_sequences(input_texts)"
   ]
  },
  {
   "cell_type": "code",
   "execution_count": 19,
   "metadata": {},
   "outputs": [
    {
     "data": {
      "text/plain": [
       "[[1, 6, 3, 10, 12, 2, 89, 15, 47, 39, 2, 36, 14, 25, 1, 10, 12],\n",
       " [10, 12, 63, 23, 6, 3, 119, 47, 39, 2, 36, 14, 25, 1, 10, 12],\n",
       " [10, 12, 63, 23, 39, 3, 58, 15, 1, 6, 3, 120, 14, 25, 1, 12],\n",
       " [1, 6, 3, 10, 12, 2, 143, 47, 39, 2, 59, 14, 25, 1, 10, 12],\n",
       " [1, 6, 3, 10, 12, 2, 121, 15, 47, 39, 2, 54, 14, 25, 1, 12]]"
      ]
     },
     "execution_count": 19,
     "metadata": {},
     "output_type": "execute_result"
    }
   ],
   "source": [
    "# Examining the input sequences\n",
    "input_sequences[:5]"
   ]
  },
  {
   "cell_type": "markdown",
   "metadata": {},
   "source": [
    "Each **input** word receives a designated index. For example '1' is 'the'; '10' is 'two' "
   ]
  },
  {
   "cell_type": "code",
   "execution_count": 20,
   "metadata": {},
   "outputs": [
    {
     "name": "stdout",
     "output_type": "stream",
     "text": [
      "Found 542 unique input tokens.\n"
     ]
    }
   ],
   "source": [
    "# get the word to index mapping for input language (dictionary of each word and its frequency)\n",
    "word2idx_inputs = tokenizer_inputs.word_index\n",
    "print('Found %s unique input tokens.' % len(word2idx_inputs))"
   ]
  },
  {
   "cell_type": "code",
   "execution_count": 21,
   "metadata": {},
   "outputs": [
    {
     "data": {
      "text/plain": [
       "{\"'re\": 254,\n",
       " \"'s\": 186,\n",
       " '0': 79,\n",
       " '00': 503,\n",
       " '000': 237,\n",
       " '038': 435,\n",
       " '1': 68,\n",
       " '10': 58,\n",
       " '100': 135,\n",
       " '101': 464,\n",
       " '105': 217,\n",
       " '107': 510,\n",
       " '108': 528,\n",
       " '109': 327,\n",
       " '11': 97,\n",
       " '110': 384,\n",
       " '111': 223,\n",
       " '112': 215,\n",
       " '114': 187,\n",
       " '116': 518,\n",
       " '117': 507,\n",
       " '118': 445,\n",
       " '119': 280,\n",
       " '12': 59,\n",
       " '120': 225,\n",
       " '122': 408,\n",
       " '123': 228,\n",
       " '1236': 468,\n",
       " '124': 192,\n",
       " '126': 265,\n",
       " '127': 359,\n",
       " '128': 526,\n",
       " '129': 337,\n",
       " '13': 104,\n",
       " '130': 426,\n",
       " '133': 334,\n",
       " '134': 437,\n",
       " '135': 302,\n",
       " '137': 200,\n",
       " '138': 502,\n",
       " '14': 153,\n",
       " '140': 537,\n",
       " '1405': 330,\n",
       " '144': 226,\n",
       " '145': 329,\n",
       " '1457': 442,\n",
       " '147': 418,\n",
       " '148': 517,\n",
       " '149': 446,\n",
       " '15': 80,\n",
       " '150': 257,\n",
       " '152': 501,\n",
       " '1524': 388,\n",
       " '153': 322,\n",
       " '156': 406,\n",
       " '157': 467,\n",
       " '16': 91,\n",
       " '162': 541,\n",
       " '164': 268,\n",
       " '16666666': 458,\n",
       " '168': 540,\n",
       " '17': 115,\n",
       " '171': 271,\n",
       " '174': 319,\n",
       " '176': 266,\n",
       " '18': 89,\n",
       " '182': 465,\n",
       " '185': 293,\n",
       " '186': 240,\n",
       " '188': 450,\n",
       " '19': 208,\n",
       " '192': 282,\n",
       " '194': 423,\n",
       " '195': 443,\n",
       " '199': 377,\n",
       " '1st': 233,\n",
       " '2': 43,\n",
       " '20': 83,\n",
       " '200': 312,\n",
       " '2001': 403,\n",
       " '2005': 398,\n",
       " '201': 376,\n",
       " '203': 378,\n",
       " '21': 147,\n",
       " '216': 224,\n",
       " '218': 424,\n",
       " '22': 119,\n",
       " '220': 275,\n",
       " '222': 381,\n",
       " '223': 417,\n",
       " '227': 405,\n",
       " '228': 382,\n",
       " '23': 105,\n",
       " '231': 454,\n",
       " '234': 166,\n",
       " '236': 396,\n",
       " '237': 182,\n",
       " '24': 86,\n",
       " '240': 262,\n",
       " '246': 386,\n",
       " '249': 221,\n",
       " '25': 99,\n",
       " '250': 404,\n",
       " '251': 438,\n",
       " '26': 189,\n",
       " '260': 527,\n",
       " '264': 451,\n",
       " '267': 320,\n",
       " '27': 113,\n",
       " '270': 389,\n",
       " '273': 230,\n",
       " '277': 416,\n",
       " '279': 515,\n",
       " '28': 125,\n",
       " '287': 415,\n",
       " '29': 122,\n",
       " '291': 350,\n",
       " '298': 391,\n",
       " '2nd': 179,\n",
       " '3': 29,\n",
       " '30': 76,\n",
       " '303': 394,\n",
       " '306': 481,\n",
       " '31': 210,\n",
       " '315': 364,\n",
       " '32': 100,\n",
       " '33': 106,\n",
       " '330': 509,\n",
       " '333333': 513,\n",
       " '336': 185,\n",
       " '34': 120,\n",
       " '340': 279,\n",
       " '344': 519,\n",
       " '35': 123,\n",
       " '357': 516,\n",
       " '36': 93,\n",
       " '360': 274,\n",
       " '365': 490,\n",
       " '37': 234,\n",
       " '38': 143,\n",
       " '383': 357,\n",
       " '388888': 368,\n",
       " '39': 121,\n",
       " '3rd': 116,\n",
       " '3w': 315,\n",
       " '3y': 285,\n",
       " '4': 36,\n",
       " '40': 110,\n",
       " '401b': 400,\n",
       " '403c': 401,\n",
       " '405d': 402,\n",
       " '41': 235,\n",
       " '416': 365,\n",
       " '417': 276,\n",
       " '42': 84,\n",
       " '420': 427,\n",
       " '43': 194,\n",
       " '434': 367,\n",
       " '44': 291,\n",
       " '449': 349,\n",
       " '45': 201,\n",
       " '46': 134,\n",
       " '468': 449,\n",
       " '47': 165,\n",
       " '48': 92,\n",
       " '480': 512,\n",
       " '49': 286,\n",
       " '490': 539,\n",
       " '4th': 393,\n",
       " '4y': 284,\n",
       " '5': 41,\n",
       " '50': 112,\n",
       " '500': 480,\n",
       " '51': 529,\n",
       " '52': 232,\n",
       " '53': 173,\n",
       " '54': 108,\n",
       " '547': 355,\n",
       " '55': 171,\n",
       " '55555555': 486,\n",
       " '56': 85,\n",
       " '57': 136,\n",
       " '574': 521,\n",
       " '58': 162,\n",
       " '59': 269,\n",
       " '6': 51,\n",
       " '60': 124,\n",
       " '61': 239,\n",
       " '62': 160,\n",
       " '621': 326,\n",
       " '63': 188,\n",
       " '64': 157,\n",
       " '640': 314,\n",
       " '65': 290,\n",
       " '66': 301,\n",
       " '67': 219,\n",
       " '68': 193,\n",
       " '680': 469,\n",
       " '69': 190,\n",
       " '7': 54,\n",
       " '70': 172,\n",
       " '71': 183,\n",
       " '72': 127,\n",
       " '720': 478,\n",
       " '73': 324,\n",
       " '74': 241,\n",
       " '75': 90,\n",
       " '753': 505,\n",
       " '76': 175,\n",
       " '770': 372,\n",
       " '78': 159,\n",
       " '79': 380,\n",
       " '8': 52,\n",
       " '80': 142,\n",
       " '804': 448,\n",
       " '81': 212,\n",
       " '82': 338,\n",
       " '825': 331,\n",
       " '83': 264,\n",
       " '84': 218,\n",
       " '85': 155,\n",
       " '86': 425,\n",
       " '87': 184,\n",
       " '875': 370,\n",
       " '88': 181,\n",
       " '89': 340,\n",
       " '9': 62,\n",
       " '90': 114,\n",
       " '91': 508,\n",
       " '93': 439,\n",
       " '94': 213,\n",
       " '95': 356,\n",
       " '96': 220,\n",
       " '960': 428,\n",
       " '97': 506,\n",
       " '98': 447,\n",
       " '99': 278,\n",
       " 'a': 23,\n",
       " 'actual': 373,\n",
       " 'add': 152,\n",
       " 'added': 49,\n",
       " 'adding': 379,\n",
       " 'adds': 245,\n",
       " 'after': 419,\n",
       " 'ages': 303,\n",
       " 'algebraically': 429,\n",
       " 'all': 231,\n",
       " 'also': 288,\n",
       " 'among': 407,\n",
       " 'an': 75,\n",
       " 'and': 15,\n",
       " 'another': 50,\n",
       " 'answer': 170,\n",
       " 'answers': 360,\n",
       " 'are': 25,\n",
       " 'arithmetic': 196,\n",
       " 'as': 53,\n",
       " 'athletes': 411,\n",
       " 'b': 158,\n",
       " 'be': 249,\n",
       " 'becomes': 538,\n",
       " 'begin': 420,\n",
       " 'between': 67,\n",
       " 'bigger': 292,\n",
       " 'book': 348,\n",
       " 'both': 242,\n",
       " 'boxes': 354,\n",
       " 'by': 38,\n",
       " 'c': 294,\n",
       " 'can': 317,\n",
       " 'certain': 202,\n",
       " 'consecutive': 8,\n",
       " 'consecutives': 525,\n",
       " 'cosecutive': 504,\n",
       " 'count': 421,\n",
       " 'counting': 422,\n",
       " 'countries': 412,\n",
       " 'country': 414,\n",
       " 'd': 295,\n",
       " 'days': 431,\n",
       " 'decreased': 81,\n",
       " 'describes': 375,\n",
       " 'determine': 229,\n",
       " 'differ': 466,\n",
       " 'difference': 39,\n",
       " 'digit': 111,\n",
       " 'digits': 82,\n",
       " 'diminished': 161,\n",
       " 'divided': 126,\n",
       " 'dividing': 332,\n",
       " 'do': 298,\n",
       " 'double': 300,\n",
       " 'doubled': 163,\n",
       " 'each': 131,\n",
       " 'eight': 73,\n",
       " 'eighteen': 520,\n",
       " 'eighty': 277,\n",
       " 'eleven': 174,\n",
       " 'end': 532,\n",
       " 'equal': 55,\n",
       " 'equals': 48,\n",
       " 'equation': 151,\n",
       " 'even': 30,\n",
       " 'every': 489,\n",
       " 'exceeds': 70,\n",
       " 'f': 297,\n",
       " 'fifteen': 214,\n",
       " 'fifth': 132,\n",
       " 'fifty': 392,\n",
       " 'figure': 483,\n",
       " 'find': 7,\n",
       " 'finds': 536,\n",
       " 'fine': 358,\n",
       " 'first': 18,\n",
       " 'fits': 363,\n",
       " 'five': 40,\n",
       " 'following': 383,\n",
       " 'for': 164,\n",
       " 'formed': 475,\n",
       " 'forty': 390,\n",
       " 'found': 336,\n",
       " 'four': 32,\n",
       " 'fourteen': 261,\n",
       " 'fourth': 96,\n",
       " 'fraction': 434,\n",
       " 'frida': 534,\n",
       " 'from': 61,\n",
       " 'gets': 462,\n",
       " 'give': 444,\n",
       " 'given': 216,\n",
       " 'gives': 146,\n",
       " 'got': 371,\n",
       " 'grant': 341,\n",
       " 'great': 287,\n",
       " 'greater': 44,\n",
       " 'greatest': 69,\n",
       " 'half': 129,\n",
       " 'has': 203,\n",
       " 'have': 63,\n",
       " 'he': 178,\n",
       " 'her': 253,\n",
       " 'highest': 395,\n",
       " 'his': 307,\n",
       " 'how': 169,\n",
       " 'hundred': 374,\n",
       " 'hundreds': 496,\n",
       " 'i': 95,\n",
       " 'if': 31,\n",
       " 'in': 139,\n",
       " 'inclusive': 488,\n",
       " 'increased': 94,\n",
       " 'increases': 473,\n",
       " 'increasing': 522,\n",
       " 'instead': 369,\n",
       " 'integer': 21,\n",
       " 'integers': 4,\n",
       " 'interchanged': 321,\n",
       " 'interchanging': 476,\n",
       " 'into': 258,\n",
       " 'is': 2,\n",
       " 'it': 167,\n",
       " 'its': 133,\n",
       " 'itself': 296,\n",
       " 'lager': 472,\n",
       " 'large': 141,\n",
       " 'larger': 27,\n",
       " 'largest': 46,\n",
       " 'last': 198,\n",
       " 'least': 78,\n",
       " 'left': 345,\n",
       " 'less': 26,\n",
       " 'lesser': 72,\n",
       " 'let': 524,\n",
       " 'letting': 270,\n",
       " 'list': 267,\n",
       " 'lrb': 168,\n",
       " 'm': 325,\n",
       " 'made': 494,\n",
       " 'make': 195,\n",
       " 'makes': 511,\n",
       " 'many': 316,\n",
       " 'mean': 385,\n",
       " 'medals': 409,\n",
       " 'metals': 413,\n",
       " 'middle': 103,\n",
       " 'minus': 88,\n",
       " 'more': 20,\n",
       " 'mulitples': 460,\n",
       " 'multiples': 463,\n",
       " 'multiplied': 227,\n",
       " 'multiply': 252,\n",
       " 'multiplyed': 485,\n",
       " 'my': 309,\n",
       " 'n': 156,\n",
       " 'need': 482,\n",
       " 'negative': 244,\n",
       " 'next': 128,\n",
       " 'nine': 109,\n",
       " 'no': 206,\n",
       " 'not': 499,\n",
       " 'number': 5,\n",
       " 'numbers': 12,\n",
       " 'numbersa': 399,\n",
       " 'obtained': 440,\n",
       " 'odd': 16,\n",
       " 'of': 3,\n",
       " 'office': 353,\n",
       " 'old': 455,\n",
       " 'oldest': 456,\n",
       " 'on': 351,\n",
       " 'one': 34,\n",
       " 'only': 474,\n",
       " 'open': 347,\n",
       " 'opposite': 148,\n",
       " 'or': 479,\n",
       " 'order': 523,\n",
       " 'original': 138,\n",
       " 'other': 56,\n",
       " 'out': 484,\n",
       " 'page': 263,\n",
       " 'part': 260,\n",
       " 'parts': 259,\n",
       " 'percent': 248,\n",
       " 'percentage': 311,\n",
       " 'permitted': 500,\n",
       " 'phil': 335,\n",
       " 'plus': 87,\n",
       " 'positive': 154,\n",
       " 'post': 352,\n",
       " 'prime': 497,\n",
       " 'problem': 397,\n",
       " 'product': 117,\n",
       " 'quantity': 310,\n",
       " 'quarter': 542,\n",
       " 'quotient': 176,\n",
       " 'ratio': 430,\n",
       " 'reciprocal': 433,\n",
       " 'remainder': 256,\n",
       " 'repeated': 495,\n",
       " 'repetition': 498,\n",
       " 'represent': 222,\n",
       " 'represents': 255,\n",
       " 'result': 42,\n",
       " 'results': 304,\n",
       " 'reversal': 477,\n",
       " 'reversed': 204,\n",
       " 'right': 346,\n",
       " 'robert': 306,\n",
       " 'rosenberg': 452,\n",
       " 'rrb': 118,\n",
       " 'same': 64,\n",
       " 'says': 342,\n",
       " 'second': 28,\n",
       " 'secret': 247,\n",
       " 'separate': 339,\n",
       " 'seperate': 343,\n",
       " 'sequence': 243,\n",
       " 'sequencey': 283,\n",
       " 'set': 362,\n",
       " 'seven': 71,\n",
       " 'she': 535,\n",
       " 'sister': 457,\n",
       " 'sisters': 453,\n",
       " 'situation': 273,\n",
       " 'six': 57,\n",
       " 'sixteen': 308,\n",
       " 'sixths': 487,\n",
       " 'size': 471,\n",
       " 'smaller': 22,\n",
       " 'smallest': 45,\n",
       " 'so': 98,\n",
       " 'solve': 238,\n",
       " 'some': 441,\n",
       " 'started': 533,\n",
       " 'subtract': 514,\n",
       " 'subtracted': 66,\n",
       " 'subtracts': 461,\n",
       " 'such': 24,\n",
       " 'suck': 387,\n",
       " 'sum': 6,\n",
       " 'ten': 102,\n",
       " 'terms': 318,\n",
       " 'than': 13,\n",
       " 'that': 19,\n",
       " 'the': 1,\n",
       " 'their': 47,\n",
       " 'them': 207,\n",
       " 'then': 130,\n",
       " 'there': 107,\n",
       " 'these': 77,\n",
       " 'they': 211,\n",
       " 'think': 251,\n",
       " 'thinking': 177,\n",
       " 'thinks': 459,\n",
       " 'third': 35,\n",
       " 'thirteen': 344,\n",
       " 'thirty': 272,\n",
       " 'this': 149,\n",
       " 'those': 246,\n",
       " 'three': 11,\n",
       " 'thrice': 289,\n",
       " 'time': 236,\n",
       " 'times': 9,\n",
       " 'to': 37,\n",
       " 'together': 492,\n",
       " 'total': 144,\n",
       " 'totaled': 366,\n",
       " 'totals': 530,\n",
       " 'triple': 281,\n",
       " 'tripled': 305,\n",
       " 'twelve': 199,\n",
       " 'twenty': 180,\n",
       " 'twice': 17,\n",
       " 'two': 10,\n",
       " 'twos': 436,\n",
       " 'up': 145,\n",
       " 'using': 250,\n",
       " 'value': 74,\n",
       " 'w': 205,\n",
       " 'was': 323,\n",
       " 'weeks': 432,\n",
       " 'were': 491,\n",
       " 'what': 14,\n",
       " 'whats': 470,\n",
       " 'when': 60,\n",
       " 'where': 197,\n",
       " 'which': 150,\n",
       " 'who': 361,\n",
       " 'whole': 137,\n",
       " 'whos': 299,\n",
       " 'whose': 33,\n",
       " 'will': 531,\n",
       " 'with': 101,\n",
       " 'won': 410,\n",
       " 'would': 493,\n",
       " 'write': 191,\n",
       " 'x': 65,\n",
       " 'y': 209,\n",
       " 'yeilds': 333,\n",
       " 'you': 140,\n",
       " 'z': 313,\n",
       " 'zero': 328}"
      ]
     },
     "execution_count": 21,
     "metadata": {},
     "output_type": "execute_result"
    }
   ],
   "source": [
    "# Examining word_index\n",
    "word2idx_inputs"
   ]
  },
  {
   "cell_type": "code",
   "execution_count": 22,
   "metadata": {
    "collapsed": true
   },
   "outputs": [],
   "source": [
    "# # tokenize the outputs\n",
    "# # don't filter out special characters\n",
    "# # otherwise <sos> and <eos> won't appear\n",
    "# tokenizer_outputs = Tokenizer(num_words=MAX_NUM_WORDS, filters='[]')\n",
    "# tokenizer_outputs.fit_on_texts(target_texts + target_texts_inputs) \n",
    "# target_sequences = tokenizer_outputs.texts_to_sequences(target_texts)\n",
    "# target_sequences_inputs = tokenizer_outputs.texts_to_sequences(target_texts_inputs)"
   ]
  },
  {
   "cell_type": "code",
   "execution_count": 23,
   "metadata": {},
   "outputs": [],
   "source": [
    "# # Examining the target sequences\n",
    "# target_sequences_inputs[:10]"
   ]
  },
  {
   "cell_type": "code",
   "execution_count": 24,
   "metadata": {},
   "outputs": [],
   "source": [
    "# tokenizer_outputs.word_index"
   ]
  },
  {
   "cell_type": "code",
   "execution_count": 25,
   "metadata": {},
   "outputs": [],
   "source": [
    "from nltk import wordpunct_tokenize"
   ]
  },
  {
   "cell_type": "code",
   "execution_count": 26,
   "metadata": {
    "collapsed": true
   },
   "outputs": [],
   "source": [
    "# !!! Currently takes as input only the train_data for the vocabulary!!!\n",
    "def create_counter(clean_df):\n",
    "    \"\"\"\n",
    "    The purpose of this function is to crate a word counter for a corpus for 1. adjust the desired vocabulary size (see \n",
    "    vocab_coverage function), 2. to create a word index for padding (see create_word_index function)\n",
    "    input:\n",
    "    - clean_df: a pandas dataframe with a column of clean text (after initial preprocessing)\n",
    "    The function returns:\n",
    "    - lexicon: a list of all the tokens in the corpus\n",
    "    - word_count: a dictionary with all the tokens and their frequency\n",
    "    \"\"\"\n",
    "    \n",
    "    # First create the full lexicon (all the words/symbols form the new_text colomn)\n",
    "    lexicon = []\n",
    "    for sent in clean_df[\"lEquations_eos\"].values:\n",
    "        token = wordpunct_tokenize(sent) # Tokenizes each sentence\n",
    "        lexicon += token # and adds it to the lexicon\n",
    "    print(\"Full lexicon length: {}.\".format(len(lexicon)))\n",
    "    # Create a Counter object, which is a dictionary of all the words in the lexicon, and their frequency\n",
    "    word_counts = Counter(lexicon) \n",
    "    print(\"Counter (unique words) length: {}.\".format(len(word_counts)))\n",
    "    # I need to return both the lexicon and the word_count, since I use then for reducing the vocabulary\n",
    "    return lexicon, word_counts"
   ]
  },
  {
   "cell_type": "code",
   "execution_count": 27,
   "metadata": {},
   "outputs": [
    {
     "name": "stdout",
     "output_type": "stream",
     "text": [
      "Full lexicon length: 22856.\n",
      "Counter (unique words) length: 276.\n"
     ]
    }
   ],
   "source": [
    "# Creating the lexicon and the counter\n",
    "lexicon, word_counter = create_counter(data)"
   ]
  },
  {
   "cell_type": "code",
   "execution_count": 28,
   "metadata": {
    "collapsed": true
   },
   "outputs": [],
   "source": [
    "def create_word_index(lb, ub, counter):\n",
    "    \"\"\"\n",
    "    The function creates a word index, where each token is designated with an index. This is used for encoding.\n",
    "    input:\n",
    "    - lb: lower bound, the minimum number that a word appears in the original korpus\n",
    "    - ub: upper bound, the maximum number that a word appears in the original korpus\n",
    "    - counter: a Counter object that contains the frequency of each word \n",
    "    The function returns a dictionary with the words as keys and the index as values \n",
    "    \"\"\"\n",
    "    \n",
    "    lexicon_2 = [w for w in counter if ub >= counter[w] >= lb]\n",
    "    print(\"New lexicon length: {}.\".format(len(lexicon_2)))\n",
    "    word_index = {}\n",
    "    counter = 1\n",
    "    for word in lexicon_2:\n",
    "        word_index[word] = counter\n",
    "        counter += 1\n",
    "    return word_index"
   ]
  },
  {
   "cell_type": "code",
   "execution_count": 29,
   "metadata": {},
   "outputs": [
    {
     "name": "stdout",
     "output_type": "stream",
     "text": [
      "New lexicon length: 276.\n"
     ]
    }
   ],
   "source": [
    "nltk_word_index = create_word_index(0, 5000, word_counter)"
   ]
  },
  {
   "cell_type": "code",
   "execution_count": 30,
   "metadata": {},
   "outputs": [
    {
     "data": {
      "text/plain": [
       "{\"'\": 10,\n",
       " \"'(\": 168,\n",
       " \"',\": 9,\n",
       " \"']\": 13,\n",
       " '(': 218,\n",
       " '(-': 86,\n",
       " ')': 217,\n",
       " \")',\": 36,\n",
       " \")']\": 87,\n",
       " ')*': 144,\n",
       " ')*(': 268,\n",
       " ')+': 70,\n",
       " ')+(': 69,\n",
       " ')-': 73,\n",
       " ')=': 72,\n",
       " ')=(': 68,\n",
       " ')=-': 74,\n",
       " '*': 66,\n",
       " '*(': 65,\n",
       " '+': 3,\n",
       " '+(': 105,\n",
       " '+(-': 34,\n",
       " '-': 11,\n",
       " '.': 7,\n",
       " '0': 8,\n",
       " '01': 193,\n",
       " '038': 209,\n",
       " '08': 250,\n",
       " '1': 52,\n",
       " '10': 18,\n",
       " '100': 96,\n",
       " '1000': 182,\n",
       " '101': 230,\n",
       " '105': 104,\n",
       " '107': 257,\n",
       " '108': 271,\n",
       " '109': 28,\n",
       " '11': 37,\n",
       " '110': 167,\n",
       " '111': 128,\n",
       " '112': 94,\n",
       " '114': 127,\n",
       " '116': 264,\n",
       " '117': 254,\n",
       " '118': 219,\n",
       " '119': 159,\n",
       " '12': 21,\n",
       " '120': 132,\n",
       " '122': 189,\n",
       " '123': 146,\n",
       " '1236': 233,\n",
       " '124': 153,\n",
       " '126': 113,\n",
       " '127': 118,\n",
       " '128': 269,\n",
       " '129': 92,\n",
       " '13': 32,\n",
       " '130': 201,\n",
       " '133': 89,\n",
       " '134': 211,\n",
       " '135': 227,\n",
       " '137': 202,\n",
       " '138': 246,\n",
       " '14': 97,\n",
       " '140': 273,\n",
       " '1405': 60,\n",
       " '144': 134,\n",
       " '145': 53,\n",
       " '1457': 215,\n",
       " '147': 195,\n",
       " '148': 263,\n",
       " '149': 220,\n",
       " '15': 83,\n",
       " '150': 90,\n",
       " '152': 247,\n",
       " '1524': 171,\n",
       " '153': 258,\n",
       " '156': 187,\n",
       " '157': 232,\n",
       " '16': 48,\n",
       " '164': 117,\n",
       " '16666666': 229,\n",
       " '168': 276,\n",
       " '17': 85,\n",
       " '171': 126,\n",
       " '174': 248,\n",
       " '176': 115,\n",
       " '18': 6,\n",
       " '182': 231,\n",
       " '183': 147,\n",
       " '185': 183,\n",
       " '186': 194,\n",
       " '188': 225,\n",
       " '19': 33,\n",
       " '192': 164,\n",
       " '194': 197,\n",
       " '195': 216,\n",
       " '199': 155,\n",
       " '2': 38,\n",
       " '20': 24,\n",
       " '200': 274,\n",
       " '2000': 249,\n",
       " '2005': 184,\n",
       " '201': 150,\n",
       " '203': 158,\n",
       " '21': 88,\n",
       " '216': 131,\n",
       " '218': 198,\n",
       " '22': 17,\n",
       " '220': 143,\n",
       " '222': 162,\n",
       " '223': 192,\n",
       " '227': 186,\n",
       " '228': 163,\n",
       " '23': 101,\n",
       " '231': 228,\n",
       " '234': 161,\n",
       " '236': 180,\n",
       " '237': 106,\n",
       " '24': 63,\n",
       " '240': 98,\n",
       " '246': 169,\n",
       " '249': 124,\n",
       " '25': 77,\n",
       " '250': 185,\n",
       " '251': 212,\n",
       " '26': 137,\n",
       " '260': 270,\n",
       " '264': 226,\n",
       " '267': 251,\n",
       " '27': 51,\n",
       " '270': 172,\n",
       " '273': 149,\n",
       " '277': 191,\n",
       " '279': 261,\n",
       " '28': 55,\n",
       " '287': 190,\n",
       " '29': 26,\n",
       " '291': 109,\n",
       " '298': 176,\n",
       " '3': 44,\n",
       " '30': 45,\n",
       " '303': 179,\n",
       " '306000': 238,\n",
       " '31': 56,\n",
       " '315': 129,\n",
       " '32': 79,\n",
       " '33': 103,\n",
       " '330': 256,\n",
       " '333333': 260,\n",
       " '333333333333': 139,\n",
       " '336': 125,\n",
       " '34': 19,\n",
       " '340': 152,\n",
       " '344': 265,\n",
       " '35': 47,\n",
       " '357': 262,\n",
       " '36': 80,\n",
       " '360': 135,\n",
       " '365': 244,\n",
       " '37': 177,\n",
       " '38': 20,\n",
       " '383': 112,\n",
       " '388888': 140,\n",
       " '39': 22,\n",
       " '4': 12,\n",
       " '40': 166,\n",
       " '41': 178,\n",
       " '416': 133,\n",
       " '417': 145,\n",
       " '42': 41,\n",
       " '420': 204,\n",
       " '43': 157,\n",
       " '434': 136,\n",
       " '44': 175,\n",
       " '449': 107,\n",
       " '45': 203,\n",
       " '46': 64,\n",
       " '468': 223,\n",
       " '47': 156,\n",
       " '48': 62,\n",
       " '480': 259,\n",
       " '49': 170,\n",
       " '490': 275,\n",
       " '5': 25,\n",
       " '50': 46,\n",
       " '500': 236,\n",
       " '51': 272,\n",
       " '52': 173,\n",
       " '53': 50,\n",
       " '54': 165,\n",
       " '547': 110,\n",
       " '55': 31,\n",
       " '55555555': 243,\n",
       " '56': 54,\n",
       " '57': 99,\n",
       " '574': 266,\n",
       " '58': 121,\n",
       " '59': 119,\n",
       " '6': 35,\n",
       " '60': 49,\n",
       " '61': 188,\n",
       " '62': 100,\n",
       " '621': 27,\n",
       " '63': 130,\n",
       " '64': 40,\n",
       " '640': 241,\n",
       " '65': 174,\n",
       " '66': 224,\n",
       " '67': 120,\n",
       " '68': 154,\n",
       " '680': 234,\n",
       " '69': 148,\n",
       " '7': 23,\n",
       " '70': 42,\n",
       " '71': 114,\n",
       " '72': 91,\n",
       " '720': 235,\n",
       " '73': 267,\n",
       " '74': 199,\n",
       " '75': 43,\n",
       " '753': 252,\n",
       " '76': 76,\n",
       " '770': 142,\n",
       " '78': 78,\n",
       " '79': 160,\n",
       " '8': 39,\n",
       " '80': 214,\n",
       " '804': 222,\n",
       " '81': 75,\n",
       " '82': 93,\n",
       " '8200': 239,\n",
       " '825': 82,\n",
       " '83': 108,\n",
       " '84': 116,\n",
       " '85': 196,\n",
       " '86': 200,\n",
       " '87': 122,\n",
       " '875': 141,\n",
       " '88': 102,\n",
       " '89': 95,\n",
       " '9': 57,\n",
       " '90': 61,\n",
       " '91': 255,\n",
       " '93': 213,\n",
       " '94': 81,\n",
       " '95': 111,\n",
       " '96': 123,\n",
       " '960': 205,\n",
       " '97': 253,\n",
       " '98': 221,\n",
       " '99': 151,\n",
       " '<': 14,\n",
       " '=': 5,\n",
       " '=(': 138,\n",
       " '=-': 181,\n",
       " '>': 16,\n",
       " \"['\": 1,\n",
       " \"['(\": 71,\n",
       " \"['-\": 84,\n",
       " 'a': 58,\n",
       " 'b': 59,\n",
       " 'd': 245,\n",
       " 'eos': 15,\n",
       " 'f': 206,\n",
       " 'g': 207,\n",
       " 'k': 67,\n",
       " 'm': 29,\n",
       " 'n': 30,\n",
       " 'p': 240,\n",
       " 'q': 237,\n",
       " 's': 208,\n",
       " 'w': 242,\n",
       " 'x': 2,\n",
       " 'y': 4,\n",
       " 'z': 210}"
      ]
     },
     "execution_count": 30,
     "metadata": {},
     "output_type": "execute_result"
    }
   ],
   "source": [
    "nltk_word_index"
   ]
  },
  {
   "cell_type": "code",
   "execution_count": 31,
   "metadata": {
    "collapsed": true
   },
   "outputs": [],
   "source": [
    "# I define this variable since I will need it later for the model\n",
    "nltk_vocab_size = len(nltk_word_index)"
   ]
  },
  {
   "cell_type": "code",
   "execution_count": 32,
   "metadata": {},
   "outputs": [],
   "source": [
    "def preprocess_with_nltk(column, word_index):\n",
    "    \"\"\"\n",
    "    The function turns a text into padded arrays, ready as an input for the model\n",
    "    input:\n",
    "    - df: a pandas dataframe\n",
    "    - max_len: the length of the array for padding the comments\n",
    "    - encoding_support: needs to receive 'word_index'. The purpose of this argument is to allow using this function when creating\n",
    "      the datasets for the model.\n",
    "    The function return a matrix with the padded arrays\n",
    "    \"\"\"\n",
    "        \n",
    "    X_text = column.values\n",
    "    X_encode_list = []\n",
    "    max_len = 0 # Capture the max len of the sentences (equations)\n",
    "    for sent in X_text:\n",
    "        tokenized = wordpunct_tokenize(sent)\n",
    "        encoded = np.array([word_index[word] for word in tokenized if word in word_index])\n",
    "        X_encode_list.append(encoded)\n",
    "        length = len(encoded)\n",
    "        if length > max_len:\n",
    "            max_len = length\n",
    "    X_pad = pad_sequences(X_encode_list, maxlen=max_len, padding='post')\n",
    "        \n",
    "    return X_pad"
   ]
  },
  {
   "cell_type": "code",
   "execution_count": 33,
   "metadata": {},
   "outputs": [],
   "source": [
    "decoder_targets = preprocess_with_nltk(data[\"lEquations_eos\"], nltk_word_index)"
   ]
  },
  {
   "cell_type": "code",
   "execution_count": 34,
   "metadata": {
    "collapsed": true
   },
   "outputs": [],
   "source": [
    "decoder_inputs = preprocess_with_nltk(data[\"lEquations_sos\"], nltk_word_index)"
   ]
  },
  {
   "cell_type": "markdown",
   "metadata": {},
   "source": [
    "Shapes should be the same"
   ]
  },
  {
   "cell_type": "code",
   "execution_count": 35,
   "metadata": {},
   "outputs": [
    {
     "data": {
      "text/plain": [
       "(831, 57)"
      ]
     },
     "execution_count": 35,
     "metadata": {},
     "output_type": "execute_result"
    }
   ],
   "source": [
    "decoder_inputs.shape"
   ]
  },
  {
   "cell_type": "code",
   "execution_count": 36,
   "metadata": {},
   "outputs": [
    {
     "data": {
      "text/plain": [
       "array([  1,   2, 105,   2,   3,  52,   7,   8,  72,  33,   7,   8,  13,\n",
       "        14,  15,  16,   0,   0,   0,   0,   0,   0,   0,   0,   0,   0,\n",
       "         0,   0,   0,   0,   0,   0,   0,   0,   0,   0,   0,   0,   0,\n",
       "         0,   0,   0,   0,   0,   0,   0,   0,   0,   0,   0,   0,   0,\n",
       "         0,   0,   0,   0,   0,   0])"
      ]
     },
     "execution_count": 36,
     "metadata": {},
     "output_type": "execute_result"
    }
   ],
   "source": [
    "decoder_targets[100]"
   ]
  },
  {
   "cell_type": "markdown",
   "metadata": {},
   "source": [
    "Each **target** word receives a designated index."
   ]
  },
  {
   "cell_type": "code",
   "execution_count": 37,
   "metadata": {},
   "outputs": [],
   "source": [
    "# # get the word to index mapping for output language\n",
    "# word2idx_outputs = tokenizer_outputs.word_index\n",
    "# print('Found %s unique output tokens.' % len(word2idx_outputs))"
   ]
  },
  {
   "cell_type": "code",
   "execution_count": 38,
   "metadata": {},
   "outputs": [],
   "source": [
    "# # Examining word_index. This tokenuzer relates to both 'target' and 'target_inputs' (that's why it includes both <eos> and <sos>\n",
    "# word2idx_outputs"
   ]
  },
  {
   "cell_type": "code",
   "execution_count": 39,
   "metadata": {
    "collapsed": true
   },
   "outputs": [],
   "source": [
    "# store number of output words for later\n",
    "# remember to add 1 since indexing starts at 1\n",
    "num_words_output = len(nltk_word_index) + 1"
   ]
  },
  {
   "cell_type": "code",
   "execution_count": 40,
   "metadata": {},
   "outputs": [
    {
     "data": {
      "text/plain": [
       "277"
      ]
     },
     "execution_count": 40,
     "metadata": {},
     "output_type": "execute_result"
    }
   ],
   "source": [
    "num_words_output"
   ]
  },
  {
   "cell_type": "markdown",
   "metadata": {},
   "source": [
    "This is the size of the one-hot matrix (times the input length 57) as the output of the model"
   ]
  },
  {
   "cell_type": "markdown",
   "metadata": {},
   "source": [
    "The max_len_target may be larger than this one if the data is really small, so I may consider enlarge it manually."
   ]
  },
  {
   "cell_type": "code",
   "execution_count": 41,
   "metadata": {},
   "outputs": [
    {
     "name": "stdout",
     "output_type": "stream",
     "text": [
      "encoder_inputs.shape: (831, 33)\n",
      "encoder_inputs[0]: [  0   0   0   0   0   0   0   0   0   0   0   0   0   0   0   0   0  10\n",
      "  12  63  23   6   3 119  47  39   2  36  14  25   1  10  12]\n",
      "\n",
      "decoder_inputs[0]: [14 16  1  2  3  4  5 17  7  8  9 10  2 11  4  5 12  7  8 13  0  0  0  0  0\n",
      "  0  0  0  0  0  0  0  0  0  0  0  0  0  0  0  0  0  0  0  0  0  0  0  0  0\n",
      "  0  0  0  0  0  0  0]\n",
      "decoder_inputs.shape: (831, 57)\n",
      "\n",
      "decoder_targets[0]: [ 1  2  3  4  5 17  7  8  9 10  2 11  4  5 12  7  8 13 14 15 16  0  0  0  0\n",
      "  0  0  0  0  0  0  0  0  0  0  0  0  0  0  0  0  0  0  0  0  0  0  0  0  0\n",
      "  0  0  0  0  0  0  0  0]\n",
      "decoder_targets.shape: (831, 58)\n"
     ]
    }
   ],
   "source": [
    "# pad the sequences\n",
    "encoder_inputs = pad_sequences(input_sequences, maxlen=max_len_input)\n",
    "print(\"encoder_inputs.shape:\", encoder_inputs.shape)\n",
    "print(\"encoder_inputs[0]:\", encoder_inputs[1])\n",
    "print()\n",
    "# I commented the following line due to use of NLTK\n",
    "#decoder_inputs = pad_sequences(target_sequences_inputs, maxlen=max_len_target, padding='post')\n",
    "print(\"decoder_inputs[0]:\", decoder_inputs[1])\n",
    "print(\"decoder_inputs.shape:\", decoder_inputs.shape)\n",
    "print()\n",
    "# I commented the following line due to use of NLTK\n",
    "#decoder_targets = pad_sequences(target_sequences, maxlen=max_len_target, padding='post')\n",
    "print(\"decoder_targets[0]:\", decoder_targets[1])\n",
    "print(\"decoder_targets.shape:\", decoder_targets.shape)"
   ]
  },
  {
   "cell_type": "code",
   "execution_count": 42,
   "metadata": {},
   "outputs": [],
   "source": [
    "# I am taking out the 19th element in the decoder input, '15' to make the shape the same\n",
    "decoder_targets = decoder_targets[: , np.r_[0:19, 20:58]]"
   ]
  },
  {
   "cell_type": "code",
   "execution_count": 43,
   "metadata": {},
   "outputs": [
    {
     "data": {
      "text/plain": [
       "57"
      ]
     },
     "execution_count": 43,
     "metadata": {},
     "output_type": "execute_result"
    }
   ],
   "source": [
    "# determine maximum length output sequence\n",
    "max_len_target = max(len(s) for s in decoder_targets)\n",
    "max_len_target"
   ]
  },
  {
   "cell_type": "code",
   "execution_count": 44,
   "metadata": {
    "collapsed": true
   },
   "outputs": [],
   "source": [
    "# # store all the pre-trained word vectors\n",
    "# print('Loading word vectors...')\n",
    "# word2vec = {}\n",
    "# with open(os.path.join('../large_files/glove.6B/glove.6B.%sd.txt' % EMBEDDING_DIM)) as f:\n",
    "#   # is just a space-separated text file in the format:\n",
    "#   # word vec[0] vec[1] vec[2] ...\n",
    "#   for line in f:\n",
    "#     values = line.split()\n",
    "#     word = values[0]\n",
    "#     vec = np.asarray(values[1:], dtype='float32')\n",
    "#     word2vec[word] = vec\n",
    "# print('Found %s word vectors.' % len(word2vec))\n",
    "\n",
    "\n",
    "\n",
    "\n",
    "# # prepare embedding matrix\n",
    "# print('Filling pre-trained embeddings...')\n",
    "# num_words = min(MAX_NUM_WORDS, len(word2idx_inputs) + 1)\n",
    "# embedding_matrix = np.zeros((num_words, EMBEDDING_DIM))\n",
    "# for word, i in word2idx_inputs.items():\n",
    "#   if i < MAX_NUM_WORDS:\n",
    "#     embedding_vector = word2vec.get(word)\n",
    "#     if embedding_vector is not None:\n",
    "#       # words not found in embedding index will be all zeros.\n",
    "#       embedding_matrix[i] = embedding_vector"
   ]
  },
  {
   "cell_type": "code",
   "execution_count": 45,
   "metadata": {
    "collapsed": true
   },
   "outputs": [],
   "source": [
    "# This is instead of the row in the embedding matrix. If I use pre-trained I don't need this line\n",
    "num_words = min(MAX_NUM_WORDS, len(word2idx_inputs) + 1)"
   ]
  },
  {
   "cell_type": "markdown",
   "metadata": {},
   "source": [
    "For now I am not using a pre-trained"
   ]
  },
  {
   "cell_type": "code",
   "execution_count": 46,
   "metadata": {
    "collapsed": true
   },
   "outputs": [],
   "source": [
    "# create embedding layer\n",
    "embedding_layer = Embedding(\n",
    "  num_words,\n",
    "  EMBEDDING_DIM,\n",
    "  #weights=[embedding_matrix],\n",
    "  input_length=max_len_input,\n",
    "  # trainable=True\n",
    ")"
   ]
  },
  {
   "cell_type": "code",
   "execution_count": 47,
   "metadata": {},
   "outputs": [
    {
     "data": {
      "text/plain": [
       "831"
      ]
     },
     "execution_count": 47,
     "metadata": {},
     "output_type": "execute_result"
    }
   ],
   "source": [
    "len(input_texts)"
   ]
  },
  {
   "cell_type": "code",
   "execution_count": 48,
   "metadata": {
    "collapsed": true
   },
   "outputs": [],
   "source": [
    "# create targets, since we cannot use sparse\n",
    "# categorical cross entropy when we have sequences\n",
    "decoder_targets_one_hot = np.zeros(\n",
    "  (\n",
    "    len(input_texts),\n",
    "    max_len_target,\n",
    "    num_words_output #########################################\n",
    "  ),\n",
    "  dtype='float32'\n",
    ")"
   ]
  },
  {
   "cell_type": "code",
   "execution_count": 49,
   "metadata": {},
   "outputs": [
    {
     "data": {
      "text/plain": [
       "array([[  1,   2,   3, ...,   0,   0,   0],\n",
       "       [  1,   2,   3, ...,   0,   0,   0],\n",
       "       [  1,   2,  11, ...,   0,   0,   0],\n",
       "       ..., \n",
       "       [  1, 245,   5, ...,  16,   0,   0],\n",
       "       [  1,  23,   7, ...,   0,   0,   0],\n",
       "       [  1,   2,   3, ...,   0,   0,   0]])"
      ]
     },
     "execution_count": 49,
     "metadata": {},
     "output_type": "execute_result"
    }
   ],
   "source": [
    "# Remind myself what decoder_targets is\n",
    "decoder_targets"
   ]
  },
  {
   "cell_type": "code",
   "execution_count": 50,
   "metadata": {
    "collapsed": true
   },
   "outputs": [],
   "source": [
    "# assign the values. So the one hot has three dimensions: the first is the 10000 data rows, the second is the 7 words of the \n",
    "# target, and the third is the 'num_word_output' which is the number of unique words in the target. So the 'word' varaible is the\n",
    "# value in the 'decoder_targets', for example 147, so this will be the index in the third dimension of the one_hot\n",
    "for i, d in enumerate(decoder_targets):\n",
    "    for t, word in enumerate(d):\n",
    "        decoder_targets_one_hot[i, t, word] = 1"
   ]
  },
  {
   "cell_type": "code",
   "execution_count": 51,
   "metadata": {
    "collapsed": true
   },
   "outputs": [],
   "source": [
    "##### build the model #####\n",
    "encoder_inputs_placeholder = Input(shape=(max_len_input,))\n",
    "\n",
    "embed_encod = embedding_layer(encoder_inputs_placeholder)\n",
    "encoder = LSTM(\n",
    "  LATENT_DIM,\n",
    "  return_state=True, # Because I use return_state=True I can have h and c, otherwise I would get only the encoder outputs\n",
    "  dropout=0.3 # dropout not available on gpu\n",
    ")\n",
    "encoder_outputs, h, c = encoder(embed_encod)\n",
    "# encoder_outputs, h = encoder(embed_encod) #gru\n",
    "\n",
    "# keep only the states to pass into decoder\n",
    "encoder_states = [h, c]\n",
    "# encoder_states = [state_h] # gru\n",
    "\n",
    "# Set up the decoder, using [h, c] as initial state.\n",
    "decoder_inputs_placeholder = Input(shape=(max_len_target,)) # Important. I am using the max_len of the target(!) here\n",
    "\n",
    "# this word embedding will not use pre-trained vectors\n",
    "# although you could\n",
    "decoder_embedding = Embedding(num_words_output, LATENT_DIM)\n",
    "decoder_inputs_x = decoder_embedding(decoder_inputs_placeholder)\n",
    "\n",
    "# since the decoder is a \"to-many\" model we want to have\n",
    "# return_sequences=True\n",
    "decoder_lstm = LSTM(\n",
    "  LATENT_DIM,\n",
    "  return_sequences=True,\n",
    "  return_state=True,\n",
    "  dropout=0.3 # dropout not available on gpu\n",
    ")\n",
    "# Below - like the encoder receives an input of 'embed_encode', here are two inputs: 1. the target text, represented by \n",
    "# decoder_input_x, 2. the the encoder_state (h,c) from the encoder\n",
    "# Also, I don't need the h and c as outputs (as I willl need them in the prediction)\n",
    "decoder_outputs, _, _ = decoder_lstm(decoder_inputs_x, initial_state=encoder_states)\n",
    "\n",
    "# decoder_outputs, _ = decoder_gru(\n",
    "#   decoder_inputs_x,\n",
    "#   initial_state=encoder_states\n",
    "# )\n",
    "\n",
    "# final dense layer for predictions\n",
    "decoder_dense = Dense(num_words_output, activation='softmax')\n",
    "decoder_outputs = decoder_dense(decoder_outputs)"
   ]
  },
  {
   "cell_type": "code",
   "execution_count": 52,
   "metadata": {
    "collapsed": true
   },
   "outputs": [],
   "source": [
    "# Create the model object\n",
    "model = Model([encoder_inputs_placeholder, decoder_inputs_placeholder], decoder_outputs)"
   ]
  },
  {
   "cell_type": "code",
   "execution_count": 53,
   "metadata": {
    "collapsed": true
   },
   "outputs": [],
   "source": [
    "# Compile the model\n",
    "model.compile(\n",
    "  optimizer='adam',\n",
    "  loss='categorical_crossentropy',\n",
    "  metrics=['accuracy']\n",
    ")"
   ]
  },
  {
   "cell_type": "code",
   "execution_count": 54,
   "metadata": {},
   "outputs": [
    {
     "name": "stdout",
     "output_type": "stream",
     "text": [
      "__________________________________________________________________________________________________\n",
      "Layer (type)                    Output Shape         Param #     Connected to                     \n",
      "==================================================================================================\n",
      "input_1 (InputLayer)            (None, 33)           0                                            \n",
      "__________________________________________________________________________________________________\n",
      "input_2 (InputLayer)            (None, 57)           0                                            \n",
      "__________________________________________________________________________________________________\n",
      "embedding_1 (Embedding)         (None, 33, 100)      54300       input_1[0][0]                    \n",
      "__________________________________________________________________________________________________\n",
      "embedding_2 (Embedding)         (None, 57, 256)      70912       input_2[0][0]                    \n",
      "__________________________________________________________________________________________________\n",
      "lstm_1 (LSTM)                   [(None, 256), (None, 365568      embedding_1[0][0]                \n",
      "__________________________________________________________________________________________________\n",
      "lstm_2 (LSTM)                   [(None, 57, 256), (N 525312      embedding_2[0][0]                \n",
      "                                                                 lstm_1[0][1]                     \n",
      "                                                                 lstm_1[0][2]                     \n",
      "__________________________________________________________________________________________________\n",
      "dense_1 (Dense)                 (None, 57, 277)      71189       lstm_2[0][0]                     \n",
      "==================================================================================================\n",
      "Total params: 1,087,281\n",
      "Trainable params: 1,087,281\n",
      "Non-trainable params: 0\n",
      "__________________________________________________________________________________________________\n"
     ]
    }
   ],
   "source": [
    "model.summary()"
   ]
  },
  {
   "cell_type": "code",
   "execution_count": 55,
   "metadata": {},
   "outputs": [
    {
     "name": "stdout",
     "output_type": "stream",
     "text": [
      "Train on 664 samples, validate on 167 samples\n",
      "Epoch 1/100\n",
      "664/664 [==============================] - ETA: 15s - loss: 5.6308 - acc: 0.00 - ETA: 8s - loss: 5.5939 - acc: 0.2762 - ETA: 5s - loss: 5.5532 - acc: 0.380 - ETA: 4s - loss: 5.5078 - acc: 0.426 - ETA: 3s - loss: 5.4487 - acc: 0.449 - ETA: 2s - loss: 5.3559 - acc: 0.462 - ETA: 1s - loss: 5.1963 - acc: 0.473 - ETA: 1s - loss: 4.9516 - acc: 0.484 - ETA: 0s - loss: 4.6769 - acc: 0.495 - ETA: 0s - loss: 4.5057 - acc: 0.500 - 5s 8ms/step - loss: 4.4626 - acc: 0.5009 - val_loss: 3.0143 - val_acc: 0.5367\n",
      "Epoch 2/100\n",
      "664/664 [==============================] - ETA: 3s - loss: 2.9166 - acc: 0.550 - ETA: 2s - loss: 2.8751 - acc: 0.546 - ETA: 2s - loss: 2.7635 - acc: 0.553 - ETA: 2s - loss: 2.7366 - acc: 0.547 - ETA: 1s - loss: 2.6890 - acc: 0.546 - ETA: 1s - loss: 2.6523 - acc: 0.546 - ETA: 1s - loss: 2.6071 - acc: 0.549 - ETA: 0s - loss: 2.5771 - acc: 0.550 - ETA: 0s - loss: 2.5585 - acc: 0.548 - ETA: 0s - loss: 2.5367 - acc: 0.548 - 4s 6ms/step - loss: 2.5274 - acc: 0.5485 - val_loss: 2.2873 - val_acc: 0.5367\n",
      "Epoch 3/100\n",
      "664/664 [==============================] - ETA: 3s - loss: 2.2158 - acc: 0.556 - ETA: 3s - loss: 2.1721 - acc: 0.561 - ETA: 2s - loss: 2.1949 - acc: 0.546 - ETA: 2s - loss: 2.1761 - acc: 0.542 - ETA: 2s - loss: 2.1521 - acc: 0.543 - ETA: 1s - loss: 2.1546 - acc: 0.539 - ETA: 1s - loss: 2.1485 - acc: 0.536 - ETA: 0s - loss: 2.1292 - acc: 0.538 - ETA: 0s - loss: 2.1085 - acc: 0.539 - ETA: 0s - loss: 2.0977 - acc: 0.539 - 4s 7ms/step - loss: 2.0960 - acc: 0.5385 - val_loss: 1.9833 - val_acc: 0.5235\n",
      "Epoch 4/100\n",
      "664/664 [==============================] - ETA: 3s - loss: 1.9440 - acc: 0.522 - ETA: 3s - loss: 1.8720 - acc: 0.541 - ETA: 2s - loss: 1.8456 - acc: 0.544 - ETA: 2s - loss: 1.8352 - acc: 0.545 - ETA: 2s - loss: 1.8070 - acc: 0.548 - ETA: 1s - loss: 1.8106 - acc: 0.543 - ETA: 1s - loss: 1.8120 - acc: 0.540 - ETA: 0s - loss: 1.7897 - acc: 0.545 - ETA: 0s - loss: 1.7725 - acc: 0.550 - ETA: 0s - loss: 1.7554 - acc: 0.553 - 4s 7ms/step - loss: 1.7496 - acc: 0.5556 - val_loss: 1.6288 - val_acc: 0.5962\n",
      "Epoch 5/100\n",
      "664/664 [==============================] - ETA: 3s - loss: 1.5723 - acc: 0.603 - ETA: 3s - loss: 1.5509 - acc: 0.608 - ETA: 2s - loss: 1.5648 - acc: 0.600 - ETA: 2s - loss: 1.5289 - acc: 0.611 - ETA: 2s - loss: 1.5240 - acc: 0.612 - ETA: 1s - loss: 1.5319 - acc: 0.609 - ETA: 1s - loss: 1.5286 - acc: 0.612 - ETA: 0s - loss: 1.5265 - acc: 0.614 - ETA: 0s - loss: 1.5231 - acc: 0.615 - ETA: 0s - loss: 1.5198 - acc: 0.615 - 4s 7ms/step - loss: 1.5175 - acc: 0.6164 - val_loss: 1.5219 - val_acc: 0.6241\n",
      "Epoch 6/100\n",
      "664/664 [==============================] - ETA: 3s - loss: 1.4598 - acc: 0.632 - ETA: 3s - loss: 1.4993 - acc: 0.617 - ETA: 2s - loss: 1.5068 - acc: 0.615 - ETA: 2s - loss: 1.4834 - acc: 0.622 - ETA: 2s - loss: 1.4764 - acc: 0.624 - ETA: 1s - loss: 1.4684 - acc: 0.626 - ETA: 1s - loss: 1.4568 - acc: 0.631 - ETA: 0s - loss: 1.4410 - acc: 0.637 - ETA: 0s - loss: 1.4484 - acc: 0.636 - ETA: 0s - loss: 1.4369 - acc: 0.638 - 4s 7ms/step - loss: 1.4355 - acc: 0.6383 - val_loss: 1.4695 - val_acc: 0.6388\n",
      "Epoch 7/100\n",
      "664/664 [==============================] - ETA: 3s - loss: 1.3932 - acc: 0.650 - ETA: 3s - loss: 1.3940 - acc: 0.653 - ETA: 2s - loss: 1.4002 - acc: 0.654 - ETA: 2s - loss: 1.4045 - acc: 0.655 - ETA: 2s - loss: 1.4201 - acc: 0.650 - ETA: 1s - loss: 1.4019 - acc: 0.655 - ETA: 1s - loss: 1.3918 - acc: 0.658 - ETA: 0s - loss: 1.3898 - acc: 0.659 - ETA: 0s - loss: 1.3854 - acc: 0.660 - ETA: 0s - loss: 1.3838 - acc: 0.660 - 5s 7ms/step - loss: 1.3838 - acc: 0.6605 - val_loss: 1.4280 - val_acc: 0.6625\n",
      "Epoch 8/100\n",
      "664/664 [==============================] - ETA: 3s - loss: 1.3757 - acc: 0.669 - ETA: 3s - loss: 1.3918 - acc: 0.663 - ETA: 2s - loss: 1.3655 - acc: 0.667 - ETA: 2s - loss: 1.3780 - acc: 0.664 - ETA: 2s - loss: 1.3685 - acc: 0.666 - ETA: 1s - loss: 1.3769 - acc: 0.664 - ETA: 1s - loss: 1.3574 - acc: 0.668 - ETA: 0s - loss: 1.3544 - acc: 0.668 - ETA: 0s - loss: 1.3499 - acc: 0.669 - ETA: 0s - loss: 1.3435 - acc: 0.670 - 5s 7ms/step - loss: 1.3415 - acc: 0.6706 - val_loss: 1.3957 - val_acc: 0.6675\n",
      "Epoch 9/100\n",
      "664/664 [==============================] - ETA: 3s - loss: 1.3022 - acc: 0.682 - ETA: 3s - loss: 1.3408 - acc: 0.676 - ETA: 3s - loss: 1.3110 - acc: 0.684 - ETA: 2s - loss: 1.3070 - acc: 0.686 - ETA: 2s - loss: 1.3298 - acc: 0.681 - ETA: 1s - loss: 1.3301 - acc: 0.681 - ETA: 1s - loss: 1.3253 - acc: 0.683 - ETA: 0s - loss: 1.3142 - acc: 0.684 - ETA: 0s - loss: 1.3098 - acc: 0.685 - ETA: 0s - loss: 1.3008 - acc: 0.688 - 5s 7ms/step - loss: 1.3005 - acc: 0.6887 - val_loss: 1.3735 - val_acc: 0.6832\n",
      "Epoch 10/100\n",
      "664/664 [==============================] - ETA: 3s - loss: 1.3133 - acc: 0.684 - ETA: 3s - loss: 1.2945 - acc: 0.686 - ETA: 2s - loss: 1.3051 - acc: 0.684 - ETA: 2s - loss: 1.2900 - acc: 0.686 - ETA: 2s - loss: 1.2883 - acc: 0.687 - ETA: 1s - loss: 1.2769 - acc: 0.690 - ETA: 1s - loss: 1.2744 - acc: 0.691 - ETA: 0s - loss: 1.2639 - acc: 0.693 - ETA: 0s - loss: 1.2721 - acc: 0.691 - ETA: 0s - loss: 1.2656 - acc: 0.693 - 5s 7ms/step - loss: 1.2671 - acc: 0.6935 - val_loss: 1.3290 - val_acc: 0.6880\n",
      "Epoch 11/100\n",
      "664/664 [==============================] - ETA: 3s - loss: 1.2607 - acc: 0.698 - ETA: 3s - loss: 1.2290 - acc: 0.703 - ETA: 2s - loss: 1.2413 - acc: 0.698 - ETA: 2s - loss: 1.2226 - acc: 0.702 - ETA: 2s - loss: 1.2167 - acc: 0.705 - ETA: 1s - loss: 1.2177 - acc: 0.706 - ETA: 1s - loss: 1.2191 - acc: 0.706 - ETA: 0s - loss: 1.2248 - acc: 0.706 - ETA: 0s - loss: 1.2281 - acc: 0.705 - ETA: 0s - loss: 1.2235 - acc: 0.707 - 5s 7ms/step - loss: 1.2251 - acc: 0.7070 - val_loss: 1.2920 - val_acc: 0.6981\n",
      "Epoch 12/100\n",
      "664/664 [==============================] - ETA: 3s - loss: 1.2358 - acc: 0.702 - ETA: 3s - loss: 1.2029 - acc: 0.710 - ETA: 3s - loss: 1.1802 - acc: 0.714 - ETA: 2s - loss: 1.1727 - acc: 0.715 - ETA: 2s - loss: 1.1950 - acc: 0.710 - ETA: 1s - loss: 1.2030 - acc: 0.706 - ETA: 1s - loss: 1.1910 - acc: 0.709 - ETA: 0s - loss: 1.1848 - acc: 0.710 - ETA: 0s - loss: 1.1851 - acc: 0.711 - ETA: 0s - loss: 1.1849 - acc: 0.712 - 5s 7ms/step - loss: 1.1830 - acc: 0.7128 - val_loss: 1.2565 - val_acc: 0.7062\n",
      "Epoch 13/100\n",
      "664/664 [==============================] - ETA: 3s - loss: 1.1288 - acc: 0.723 - ETA: 3s - loss: 1.1144 - acc: 0.728 - ETA: 3s - loss: 1.1470 - acc: 0.719 - ETA: 2s - loss: 1.1277 - acc: 0.721 - ETA: 2s - loss: 1.1212 - acc: 0.726 - ETA: 1s - loss: 1.1239 - acc: 0.727 - ETA: 1s - loss: 1.1292 - acc: 0.726 - ETA: 1s - loss: 1.1427 - acc: 0.723 - ETA: 0s - loss: 1.1399 - acc: 0.724 - ETA: 0s - loss: 1.1347 - acc: 0.726 - 5s 7ms/step - loss: 1.1336 - acc: 0.7261 - val_loss: 1.2015 - val_acc: 0.7131\n",
      "Epoch 14/100\n",
      "664/664 [==============================] - ETA: 4s - loss: 1.0826 - acc: 0.727 - ETA: 3s - loss: 1.0602 - acc: 0.738 - ETA: 3s - loss: 1.0777 - acc: 0.737 - ETA: 2s - loss: 1.0815 - acc: 0.736 - ETA: 2s - loss: 1.0874 - acc: 0.734 - ETA: 1s - loss: 1.0827 - acc: 0.736 - ETA: 1s - loss: 1.0774 - acc: 0.737 - ETA: 0s - loss: 1.0704 - acc: 0.738 - ETA: 0s - loss: 1.0651 - acc: 0.739 - ETA: 0s - loss: 1.0643 - acc: 0.739 - 5s 7ms/step - loss: 1.0674 - acc: 0.7389 - val_loss: 1.1354 - val_acc: 0.7269\n",
      "Epoch 15/100\n",
      "664/664 [==============================] - ETA: 3s - loss: 1.0715 - acc: 0.728 - ETA: 3s - loss: 1.0047 - acc: 0.750 - ETA: 3s - loss: 1.0117 - acc: 0.747 - ETA: 2s - loss: 1.0173 - acc: 0.748 - ETA: 2s - loss: 0.9986 - acc: 0.754 - ETA: 1s - loss: 0.9992 - acc: 0.753 - ETA: 1s - loss: 1.0054 - acc: 0.751 - ETA: 0s - loss: 1.0050 - acc: 0.751 - ETA: 0s - loss: 1.0070 - acc: 0.750 - ETA: 0s - loss: 1.0015 - acc: 0.751 - 5s 7ms/step - loss: 1.0014 - acc: 0.7512 - val_loss: 1.0850 - val_acc: 0.7437\n",
      "Epoch 16/100\n",
      "664/664 [==============================] - ETA: 4s - loss: 0.9454 - acc: 0.768 - ETA: 3s - loss: 0.9409 - acc: 0.767 - ETA: 3s - loss: 0.9537 - acc: 0.762 - ETA: 2s - loss: 0.9674 - acc: 0.759 - ETA: 2s - loss: 0.9654 - acc: 0.757 - ETA: 1s - loss: 0.9568 - acc: 0.760 - ETA: 1s - loss: 0.9559 - acc: 0.760 - ETA: 1s - loss: 0.9429 - acc: 0.763 - ETA: 0s - loss: 0.9387 - acc: 0.764 - ETA: 0s - loss: 0.9444 - acc: 0.761 - 5s 7ms/step - loss: 0.9441 - acc: 0.7615 - val_loss: 1.0392 - val_acc: 0.7506\n"
     ]
    },
    {
     "name": "stdout",
     "output_type": "stream",
     "text": [
      "Epoch 17/100\n",
      "664/664 [==============================] - ETA: 4s - loss: 0.9370 - acc: 0.769 - ETA: 3s - loss: 0.9297 - acc: 0.767 - ETA: 3s - loss: 0.9153 - acc: 0.769 - ETA: 2s - loss: 0.9073 - acc: 0.770 - ETA: 2s - loss: 0.9074 - acc: 0.771 - ETA: 1s - loss: 0.9042 - acc: 0.771 - ETA: 1s - loss: 0.9060 - acc: 0.770 - ETA: 1s - loss: 0.9028 - acc: 0.770 - ETA: 0s - loss: 0.9010 - acc: 0.771 - ETA: 0s - loss: 0.9004 - acc: 0.771 - 5s 7ms/step - loss: 0.8981 - acc: 0.7726 - val_loss: 1.0121 - val_acc: 0.7530\n",
      "Epoch 18/100\n",
      "664/664 [==============================] - ETA: 3s - loss: 0.8394 - acc: 0.785 - ETA: 3s - loss: 0.8464 - acc: 0.788 - ETA: 2s - loss: 0.8645 - acc: 0.783 - ETA: 2s - loss: 0.8557 - acc: 0.784 - ETA: 2s - loss: 0.8640 - acc: 0.783 - ETA: 1s - loss: 0.8597 - acc: 0.784 - ETA: 1s - loss: 0.8544 - acc: 0.785 - ETA: 1s - loss: 0.8585 - acc: 0.784 - ETA: 0s - loss: 0.8606 - acc: 0.783 - ETA: 0s - loss: 0.8549 - acc: 0.784 - 5s 7ms/step - loss: 0.8555 - acc: 0.7846 - val_loss: 0.9734 - val_acc: 0.7615\n",
      "Epoch 19/100\n",
      "664/664 [==============================] - ETA: 3s - loss: 0.8174 - acc: 0.782 - ETA: 3s - loss: 0.8038 - acc: 0.791 - ETA: 3s - loss: 0.8088 - acc: 0.794 - ETA: 2s - loss: 0.8109 - acc: 0.794 - ETA: 2s - loss: 0.8140 - acc: 0.794 - ETA: 1s - loss: 0.8124 - acc: 0.794 - ETA: 1s - loss: 0.8113 - acc: 0.794 - ETA: 0s - loss: 0.8116 - acc: 0.795 - ETA: 0s - loss: 0.8165 - acc: 0.793 - ETA: 0s - loss: 0.8154 - acc: 0.794 - 5s 7ms/step - loss: 0.8126 - acc: 0.7944 - val_loss: 0.9274 - val_acc: 0.7784\n",
      "Epoch 20/100\n",
      "664/664 [==============================] - ETA: 3s - loss: 0.7564 - acc: 0.817 - ETA: 3s - loss: 0.7779 - acc: 0.806 - ETA: 2s - loss: 0.7758 - acc: 0.806 - ETA: 2s - loss: 0.7757 - acc: 0.806 - ETA: 2s - loss: 0.7795 - acc: 0.806 - ETA: 1s - loss: 0.7757 - acc: 0.807 - ETA: 1s - loss: 0.7787 - acc: 0.807 - ETA: 0s - loss: 0.7762 - acc: 0.807 - ETA: 0s - loss: 0.7760 - acc: 0.808 - ETA: 0s - loss: 0.7744 - acc: 0.809 - 5s 7ms/step - loss: 0.7693 - acc: 0.8112 - val_loss: 0.8831 - val_acc: 0.7946\n",
      "Epoch 21/100\n",
      "664/664 [==============================] - ETA: 3s - loss: 0.7554 - acc: 0.807 - ETA: 3s - loss: 0.7241 - acc: 0.819 - ETA: 3s - loss: 0.7359 - acc: 0.817 - ETA: 2s - loss: 0.7322 - acc: 0.820 - ETA: 2s - loss: 0.7229 - acc: 0.824 - ETA: 1s - loss: 0.7232 - acc: 0.824 - ETA: 1s - loss: 0.7208 - acc: 0.824 - ETA: 0s - loss: 0.7228 - acc: 0.824 - ETA: 0s - loss: 0.7217 - acc: 0.824 - ETA: 0s - loss: 0.7289 - acc: 0.823 - 5s 7ms/step - loss: 0.7308 - acc: 0.8224 - val_loss: 0.8543 - val_acc: 0.8018\n",
      "Epoch 22/100\n",
      "664/664 [==============================] - ETA: 3s - loss: 0.7031 - acc: 0.826 - ETA: 3s - loss: 0.7040 - acc: 0.830 - ETA: 3s - loss: 0.7217 - acc: 0.823 - ETA: 2s - loss: 0.7053 - acc: 0.826 - ETA: 2s - loss: 0.6901 - acc: 0.829 - ETA: 1s - loss: 0.7013 - acc: 0.826 - ETA: 1s - loss: 0.7014 - acc: 0.826 - ETA: 1s - loss: 0.7008 - acc: 0.827 - ETA: 0s - loss: 0.7024 - acc: 0.827 - ETA: 0s - loss: 0.6986 - acc: 0.828 - 5s 7ms/step - loss: 0.6969 - acc: 0.8289 - val_loss: 0.8177 - val_acc: 0.8091\n",
      "Epoch 23/100\n",
      "664/664 [==============================] - ETA: 3s - loss: 0.6627 - acc: 0.830 - ETA: 3s - loss: 0.6700 - acc: 0.829 - ETA: 2s - loss: 0.6752 - acc: 0.828 - ETA: 2s - loss: 0.6780 - acc: 0.829 - ETA: 2s - loss: 0.6748 - acc: 0.830 - ETA: 1s - loss: 0.6774 - acc: 0.831 - ETA: 1s - loss: 0.6723 - acc: 0.833 - ETA: 0s - loss: 0.6707 - acc: 0.834 - ETA: 0s - loss: 0.6676 - acc: 0.835 - ETA: 0s - loss: 0.6672 - acc: 0.835 - 5s 7ms/step - loss: 0.6643 - acc: 0.8363 - val_loss: 0.7909 - val_acc: 0.8152\n",
      "Epoch 24/100\n",
      "664/664 [==============================] - ETA: 3s - loss: 0.6489 - acc: 0.839 - ETA: 3s - loss: 0.6245 - acc: 0.842 - ETA: 3s - loss: 0.6142 - acc: 0.848 - ETA: 2s - loss: 0.6220 - acc: 0.847 - ETA: 2s - loss: 0.6262 - acc: 0.846 - ETA: 1s - loss: 0.6257 - acc: 0.846 - ETA: 1s - loss: 0.6268 - acc: 0.845 - ETA: 0s - loss: 0.6288 - acc: 0.844 - ETA: 0s - loss: 0.6293 - acc: 0.844 - ETA: 0s - loss: 0.6351 - acc: 0.843 - 5s 7ms/step - loss: 0.6364 - acc: 0.8431 - val_loss: 0.7701 - val_acc: 0.8195\n",
      "Epoch 25/100\n",
      "664/664 [==============================] - ETA: 3s - loss: 0.5624 - acc: 0.862 - ETA: 3s - loss: 0.5983 - acc: 0.852 - ETA: 2s - loss: 0.6048 - acc: 0.850 - ETA: 2s - loss: 0.6168 - acc: 0.846 - ETA: 2s - loss: 0.6203 - acc: 0.845 - ETA: 1s - loss: 0.6320 - acc: 0.843 - ETA: 1s - loss: 0.6233 - acc: 0.845 - ETA: 0s - loss: 0.6138 - acc: 0.848 - ETA: 0s - loss: 0.6150 - acc: 0.847 - ETA: 0s - loss: 0.6147 - acc: 0.847 - 5s 7ms/step - loss: 0.6127 - acc: 0.8479 - val_loss: 0.7529 - val_acc: 0.8239\n",
      "Epoch 26/100\n",
      "664/664 [==============================] - ETA: 3s - loss: 0.6058 - acc: 0.848 - ETA: 3s - loss: 0.5974 - acc: 0.849 - ETA: 3s - loss: 0.5965 - acc: 0.851 - ETA: 2s - loss: 0.5961 - acc: 0.852 - ETA: 2s - loss: 0.5897 - acc: 0.853 - ETA: 1s - loss: 0.5877 - acc: 0.854 - ETA: 1s - loss: 0.5896 - acc: 0.852 - ETA: 0s - loss: 0.5885 - acc: 0.853 - ETA: 0s - loss: 0.5878 - acc: 0.854 - ETA: 0s - loss: 0.5935 - acc: 0.852 - 5s 7ms/step - loss: 0.5915 - acc: 0.8531 - val_loss: 0.7369 - val_acc: 0.8262\n",
      "Epoch 27/100\n",
      "664/664 [==============================] - ETA: 3s - loss: 0.5737 - acc: 0.860 - ETA: 3s - loss: 0.5888 - acc: 0.854 - ETA: 2s - loss: 0.5816 - acc: 0.856 - ETA: 2s - loss: 0.5746 - acc: 0.857 - ETA: 2s - loss: 0.5713 - acc: 0.859 - ETA: 1s - loss: 0.5670 - acc: 0.860 - ETA: 1s - loss: 0.5676 - acc: 0.860 - ETA: 0s - loss: 0.5668 - acc: 0.859 - ETA: 0s - loss: 0.5710 - acc: 0.858 - ETA: 0s - loss: 0.5717 - acc: 0.858 - 5s 7ms/step - loss: 0.5723 - acc: 0.8575 - val_loss: 0.7206 - val_acc: 0.8294\n",
      "Epoch 28/100\n",
      "664/664 [==============================] - ETA: 4s - loss: 0.5754 - acc: 0.852 - ETA: 3s - loss: 0.5399 - acc: 0.862 - ETA: 3s - loss: 0.5540 - acc: 0.859 - ETA: 2s - loss: 0.5588 - acc: 0.859 - ETA: 2s - loss: 0.5598 - acc: 0.858 - ETA: 1s - loss: 0.5658 - acc: 0.857 - ETA: 1s - loss: 0.5648 - acc: 0.857 - ETA: 1s - loss: 0.5597 - acc: 0.859 - ETA: 0s - loss: 0.5563 - acc: 0.860 - ETA: 0s - loss: 0.5550 - acc: 0.860 - 5s 7ms/step - loss: 0.5553 - acc: 0.8603 - val_loss: 0.7150 - val_acc: 0.8308\n",
      "Epoch 29/100\n",
      "664/664 [==============================] - ETA: 3s - loss: 0.4931 - acc: 0.876 - ETA: 3s - loss: 0.5302 - acc: 0.868 - ETA: 3s - loss: 0.5372 - acc: 0.865 - ETA: 2s - loss: 0.5350 - acc: 0.866 - ETA: 2s - loss: 0.5389 - acc: 0.865 - ETA: 1s - loss: 0.5338 - acc: 0.865 - ETA: 1s - loss: 0.5347 - acc: 0.865 - ETA: 1s - loss: 0.5379 - acc: 0.864 - ETA: 0s - loss: 0.5400 - acc: 0.864 - ETA: 0s - loss: 0.5411 - acc: 0.864 - 5s 8ms/step - loss: 0.5406 - acc: 0.8642 - val_loss: 0.6915 - val_acc: 0.8348\n",
      "Epoch 30/100\n",
      "664/664 [==============================] - ETA: 3s - loss: 0.5172 - acc: 0.867 - ETA: 3s - loss: 0.5346 - acc: 0.862 - ETA: 3s - loss: 0.5261 - acc: 0.865 - ETA: 2s - loss: 0.5353 - acc: 0.864 - ETA: 2s - loss: 0.5344 - acc: 0.863 - ETA: 1s - loss: 0.5259 - acc: 0.866 - ETA: 1s - loss: 0.5253 - acc: 0.866 - ETA: 1s - loss: 0.5217 - acc: 0.868 - ETA: 0s - loss: 0.5223 - acc: 0.868 - ETA: 0s - loss: 0.5263 - acc: 0.867 - 5s 7ms/step - loss: 0.5265 - acc: 0.8668 - val_loss: 0.6839 - val_acc: 0.8384\n",
      "Epoch 31/100\n",
      "664/664 [==============================] - ETA: 4s - loss: 0.5492 - acc: 0.859 - ETA: 3s - loss: 0.5015 - acc: 0.874 - ETA: 3s - loss: 0.4965 - acc: 0.874 - ETA: 2s - loss: 0.5056 - acc: 0.872 - ETA: 2s - loss: 0.5074 - acc: 0.871 - ETA: 1s - loss: 0.5097 - acc: 0.870 - ETA: 1s - loss: 0.5059 - acc: 0.871 - ETA: 1s - loss: 0.5146 - acc: 0.869 - ETA: 0s - loss: 0.5104 - acc: 0.870 - ETA: 0s - loss: 0.5118 - acc: 0.869 - 5s 7ms/step - loss: 0.5149 - acc: 0.8692 - val_loss: 0.6708 - val_acc: 0.8417\n",
      "Epoch 32/100\n",
      "664/664 [==============================] - ETA: 3s - loss: 0.5082 - acc: 0.866 - ETA: 3s - loss: 0.5088 - acc: 0.867 - ETA: 3s - loss: 0.5394 - acc: 0.860 - ETA: 2s - loss: 0.5307 - acc: 0.864 - ETA: 2s - loss: 0.5142 - acc: 0.870 - ETA: 1s - loss: 0.5136 - acc: 0.869 - ETA: 1s - loss: 0.5195 - acc: 0.867 - ETA: 1s - loss: 0.5088 - acc: 0.870 - ETA: 0s - loss: 0.5032 - acc: 0.870 - ETA: 0s - loss: 0.4992 - acc: 0.872 - 5s 7ms/step - loss: 0.5013 - acc: 0.8719 - val_loss: 0.6599 - val_acc: 0.8426\n"
     ]
    },
    {
     "name": "stdout",
     "output_type": "stream",
     "text": [
      "Epoch 33/100\n",
      "664/664 [==============================] - ETA: 3s - loss: 0.5081 - acc: 0.866 - ETA: 3s - loss: 0.4730 - acc: 0.875 - ETA: 3s - loss: 0.4659 - acc: 0.879 - ETA: 2s - loss: 0.4828 - acc: 0.874 - ETA: 2s - loss: 0.4863 - acc: 0.875 - ETA: 1s - loss: 0.4927 - acc: 0.873 - ETA: 1s - loss: 0.4946 - acc: 0.873 - ETA: 1s - loss: 0.4978 - acc: 0.872 - ETA: 0s - loss: 0.4969 - acc: 0.873 - ETA: 0s - loss: 0.4938 - acc: 0.874 - 5s 7ms/step - loss: 0.4946 - acc: 0.8738 - val_loss: 0.6528 - val_acc: 0.8459\n",
      "Epoch 34/100\n",
      "664/664 [==============================] - ETA: 3s - loss: 0.5082 - acc: 0.875 - ETA: 3s - loss: 0.4730 - acc: 0.882 - ETA: 3s - loss: 0.4848 - acc: 0.876 - ETA: 2s - loss: 0.4825 - acc: 0.877 - ETA: 2s - loss: 0.4776 - acc: 0.878 - ETA: 1s - loss: 0.4799 - acc: 0.878 - ETA: 1s - loss: 0.4804 - acc: 0.878 - ETA: 1s - loss: 0.4857 - acc: 0.876 - ETA: 0s - loss: 0.4854 - acc: 0.876 - ETA: 0s - loss: 0.4815 - acc: 0.877 - 5s 7ms/step - loss: 0.4798 - acc: 0.8777 - val_loss: 0.6428 - val_acc: 0.8475\n",
      "Epoch 35/100\n",
      "664/664 [==============================] - ETA: 3s - loss: 0.5019 - acc: 0.874 - ETA: 3s - loss: 0.4867 - acc: 0.874 - ETA: 3s - loss: 0.4954 - acc: 0.873 - ETA: 2s - loss: 0.4840 - acc: 0.875 - ETA: 2s - loss: 0.4771 - acc: 0.877 - ETA: 1s - loss: 0.4790 - acc: 0.877 - ETA: 1s - loss: 0.4668 - acc: 0.879 - ETA: 1s - loss: 0.4648 - acc: 0.880 - ETA: 0s - loss: 0.4692 - acc: 0.879 - ETA: 0s - loss: 0.4684 - acc: 0.880 - 5s 7ms/step - loss: 0.4689 - acc: 0.8801 - val_loss: 0.6462 - val_acc: 0.8465\n",
      "Epoch 36/100\n",
      "664/664 [==============================] - ETA: 3s - loss: 0.4814 - acc: 0.882 - ETA: 3s - loss: 0.4660 - acc: 0.882 - ETA: 3s - loss: 0.4516 - acc: 0.886 - ETA: 2s - loss: 0.4439 - acc: 0.887 - ETA: 2s - loss: 0.4498 - acc: 0.884 - ETA: 1s - loss: 0.4603 - acc: 0.881 - ETA: 1s - loss: 0.4623 - acc: 0.881 - ETA: 1s - loss: 0.4607 - acc: 0.881 - ETA: 0s - loss: 0.4661 - acc: 0.878 - ETA: 0s - loss: 0.4653 - acc: 0.879 - 5s 7ms/step - loss: 0.4640 - acc: 0.8800 - val_loss: 0.6374 - val_acc: 0.8446\n",
      "Epoch 37/100\n",
      "664/664 [==============================] - ETA: 3s - loss: 0.4368 - acc: 0.883 - ETA: 3s - loss: 0.4465 - acc: 0.880 - ETA: 3s - loss: 0.4494 - acc: 0.881 - ETA: 2s - loss: 0.4405 - acc: 0.884 - ETA: 2s - loss: 0.4413 - acc: 0.885 - ETA: 1s - loss: 0.4365 - acc: 0.887 - ETA: 1s - loss: 0.4374 - acc: 0.887 - ETA: 0s - loss: 0.4469 - acc: 0.884 - ETA: 0s - loss: 0.4506 - acc: 0.883 - ETA: 0s - loss: 0.4532 - acc: 0.882 - 5s 7ms/step - loss: 0.4547 - acc: 0.8820 - val_loss: 0.6274 - val_acc: 0.8486\n",
      "Epoch 38/100\n",
      "664/664 [==============================] - ETA: 3s - loss: 0.4640 - acc: 0.878 - ETA: 3s - loss: 0.4471 - acc: 0.882 - ETA: 3s - loss: 0.4596 - acc: 0.880 - ETA: 2s - loss: 0.4594 - acc: 0.881 - ETA: 2s - loss: 0.4491 - acc: 0.884 - ETA: 1s - loss: 0.4513 - acc: 0.883 - ETA: 1s - loss: 0.4520 - acc: 0.882 - ETA: 0s - loss: 0.4487 - acc: 0.884 - ETA: 0s - loss: 0.4472 - acc: 0.884 - ETA: 0s - loss: 0.4454 - acc: 0.884 - 5s 7ms/step - loss: 0.4460 - acc: 0.8842 - val_loss: 0.6172 - val_acc: 0.8502\n",
      "Epoch 39/100\n",
      "664/664 [==============================] - ETA: 3s - loss: 0.4548 - acc: 0.876 - ETA: 3s - loss: 0.4339 - acc: 0.885 - ETA: 3s - loss: 0.4275 - acc: 0.887 - ETA: 2s - loss: 0.4339 - acc: 0.887 - ETA: 2s - loss: 0.4394 - acc: 0.886 - ETA: 1s - loss: 0.4419 - acc: 0.885 - ETA: 1s - loss: 0.4431 - acc: 0.884 - ETA: 0s - loss: 0.4430 - acc: 0.884 - ETA: 0s - loss: 0.4425 - acc: 0.884 - ETA: 0s - loss: 0.4365 - acc: 0.885 - 5s 7ms/step - loss: 0.4369 - acc: 0.8858 - val_loss: 0.6096 - val_acc: 0.8535\n",
      "Epoch 40/100\n",
      "664/664 [==============================] - ETA: 3s - loss: 0.4798 - acc: 0.878 - ETA: 3s - loss: 0.4288 - acc: 0.890 - ETA: 3s - loss: 0.4284 - acc: 0.890 - ETA: 2s - loss: 0.4348 - acc: 0.887 - ETA: 2s - loss: 0.4351 - acc: 0.887 - ETA: 1s - loss: 0.4353 - acc: 0.886 - ETA: 1s - loss: 0.4412 - acc: 0.884 - ETA: 0s - loss: 0.4379 - acc: 0.885 - ETA: 0s - loss: 0.4343 - acc: 0.886 - ETA: 0s - loss: 0.4318 - acc: 0.887 - 5s 7ms/step - loss: 0.4298 - acc: 0.8881 - val_loss: 0.6082 - val_acc: 0.8536\n",
      "Epoch 41/100\n",
      "664/664 [==============================] - ETA: 4s - loss: 0.4191 - acc: 0.886 - ETA: 3s - loss: 0.4002 - acc: 0.893 - ETA: 3s - loss: 0.4104 - acc: 0.892 - ETA: 2s - loss: 0.4168 - acc: 0.891 - ETA: 2s - loss: 0.4129 - acc: 0.891 - ETA: 1s - loss: 0.4221 - acc: 0.888 - ETA: 1s - loss: 0.4231 - acc: 0.888 - ETA: 1s - loss: 0.4269 - acc: 0.888 - ETA: 0s - loss: 0.4249 - acc: 0.888 - ETA: 0s - loss: 0.4226 - acc: 0.889 - 5s 7ms/step - loss: 0.4212 - acc: 0.8895 - val_loss: 0.6032 - val_acc: 0.8547\n",
      "Epoch 42/100\n",
      "664/664 [==============================] - ETA: 3s - loss: 0.4256 - acc: 0.891 - ETA: 3s - loss: 0.4321 - acc: 0.890 - ETA: 3s - loss: 0.4207 - acc: 0.891 - ETA: 2s - loss: 0.4186 - acc: 0.891 - ETA: 2s - loss: 0.4173 - acc: 0.891 - ETA: 1s - loss: 0.4163 - acc: 0.891 - ETA: 1s - loss: 0.4229 - acc: 0.889 - ETA: 1s - loss: 0.4200 - acc: 0.889 - ETA: 0s - loss: 0.4162 - acc: 0.890 - ETA: 0s - loss: 0.4134 - acc: 0.891 - 5s 7ms/step - loss: 0.4163 - acc: 0.8909 - val_loss: 0.5994 - val_acc: 0.8556\n",
      "Epoch 43/100\n",
      "664/664 [==============================] - ETA: 3s - loss: 0.4265 - acc: 0.884 - ETA: 3s - loss: 0.4169 - acc: 0.890 - ETA: 3s - loss: 0.4175 - acc: 0.889 - ETA: 2s - loss: 0.4090 - acc: 0.891 - ETA: 2s - loss: 0.4114 - acc: 0.889 - ETA: 1s - loss: 0.4125 - acc: 0.889 - ETA: 1s - loss: 0.4148 - acc: 0.889 - ETA: 0s - loss: 0.4125 - acc: 0.890 - ETA: 0s - loss: 0.4091 - acc: 0.891 - ETA: 0s - loss: 0.4110 - acc: 0.891 - 5s 7ms/step - loss: 0.4076 - acc: 0.8923 - val_loss: 0.5996 - val_acc: 0.8566\n",
      "Epoch 44/100\n",
      "664/664 [==============================] - ETA: 3s - loss: 0.3926 - acc: 0.897 - ETA: 3s - loss: 0.3981 - acc: 0.896 - ETA: 3s - loss: 0.3967 - acc: 0.896 - ETA: 2s - loss: 0.3991 - acc: 0.894 - ETA: 2s - loss: 0.3998 - acc: 0.894 - ETA: 1s - loss: 0.4041 - acc: 0.893 - ETA: 1s - loss: 0.4072 - acc: 0.892 - ETA: 0s - loss: 0.4058 - acc: 0.892 - ETA: 0s - loss: 0.4042 - acc: 0.893 - ETA: 0s - loss: 0.4021 - acc: 0.893 - 5s 7ms/step - loss: 0.4018 - acc: 0.8942 - val_loss: 0.5866 - val_acc: 0.8594\n",
      "Epoch 45/100\n",
      "664/664 [==============================] - ETA: 3s - loss: 0.3830 - acc: 0.899 - ETA: 3s - loss: 0.3980 - acc: 0.895 - ETA: 3s - loss: 0.3880 - acc: 0.898 - ETA: 2s - loss: 0.3953 - acc: 0.896 - ETA: 2s - loss: 0.3966 - acc: 0.895 - ETA: 1s - loss: 0.3952 - acc: 0.895 - ETA: 1s - loss: 0.3903 - acc: 0.896 - ETA: 1s - loss: 0.3858 - acc: 0.898 - ETA: 0s - loss: 0.3890 - acc: 0.897 - ETA: 0s - loss: 0.3887 - acc: 0.897 - 5s 7ms/step - loss: 0.3931 - acc: 0.8965 - val_loss: 0.5881 - val_acc: 0.8588\n",
      "Epoch 46/100\n",
      "664/664 [==============================] - ETA: 3s - loss: 0.4014 - acc: 0.892 - ETA: 3s - loss: 0.3993 - acc: 0.893 - ETA: 3s - loss: 0.3910 - acc: 0.896 - ETA: 2s - loss: 0.3932 - acc: 0.895 - ETA: 2s - loss: 0.3859 - acc: 0.897 - ETA: 1s - loss: 0.3980 - acc: 0.894 - ETA: 1s - loss: 0.3972 - acc: 0.894 - ETA: 0s - loss: 0.3919 - acc: 0.895 - ETA: 0s - loss: 0.3898 - acc: 0.896 - ETA: 0s - loss: 0.3922 - acc: 0.896 - 5s 7ms/step - loss: 0.3905 - acc: 0.8967 - val_loss: 0.5899 - val_acc: 0.8593\n",
      "Epoch 47/100\n",
      "664/664 [==============================] - ETA: 3s - loss: 0.3844 - acc: 0.897 - ETA: 3s - loss: 0.3981 - acc: 0.895 - ETA: 3s - loss: 0.3945 - acc: 0.895 - ETA: 2s - loss: 0.3906 - acc: 0.895 - ETA: 2s - loss: 0.3801 - acc: 0.898 - ETA: 1s - loss: 0.3824 - acc: 0.899 - ETA: 1s - loss: 0.3839 - acc: 0.898 - ETA: 0s - loss: 0.3811 - acc: 0.899 - ETA: 0s - loss: 0.3827 - acc: 0.898 - ETA: 0s - loss: 0.3822 - acc: 0.898 - 5s 7ms/step - loss: 0.3829 - acc: 0.8980 - val_loss: 0.5814 - val_acc: 0.8596\n",
      "Epoch 48/100\n",
      "664/664 [==============================] - ETA: 3s - loss: 0.3644 - acc: 0.908 - ETA: 3s - loss: 0.3797 - acc: 0.903 - ETA: 2s - loss: 0.3828 - acc: 0.900 - ETA: 2s - loss: 0.3762 - acc: 0.901 - ETA: 2s - loss: 0.3746 - acc: 0.900 - ETA: 1s - loss: 0.3741 - acc: 0.900 - ETA: 1s - loss: 0.3785 - acc: 0.899 - ETA: 0s - loss: 0.3739 - acc: 0.901 - ETA: 0s - loss: 0.3750 - acc: 0.900 - ETA: 0s - loss: 0.3747 - acc: 0.900 - 5s 7ms/step - loss: 0.3758 - acc: 0.9000 - val_loss: 0.5863 - val_acc: 0.8609\n"
     ]
    },
    {
     "name": "stdout",
     "output_type": "stream",
     "text": [
      "Epoch 49/100\n",
      "664/664 [==============================] - ETA: 3s - loss: 0.3631 - acc: 0.899 - ETA: 3s - loss: 0.3635 - acc: 0.902 - ETA: 3s - loss: 0.3599 - acc: 0.904 - ETA: 2s - loss: 0.3694 - acc: 0.902 - ETA: 2s - loss: 0.3720 - acc: 0.901 - ETA: 1s - loss: 0.3682 - acc: 0.902 - ETA: 1s - loss: 0.3664 - acc: 0.903 - ETA: 0s - loss: 0.3667 - acc: 0.903 - ETA: 0s - loss: 0.3685 - acc: 0.902 - ETA: 0s - loss: 0.3690 - acc: 0.901 - 5s 7ms/step - loss: 0.3719 - acc: 0.9013 - val_loss: 0.5756 - val_acc: 0.8619\n",
      "Epoch 50/100\n",
      "664/664 [==============================] - ETA: 3s - loss: 0.3465 - acc: 0.909 - ETA: 3s - loss: 0.3558 - acc: 0.905 - ETA: 3s - loss: 0.3508 - acc: 0.906 - ETA: 2s - loss: 0.3607 - acc: 0.903 - ETA: 2s - loss: 0.3575 - acc: 0.904 - ETA: 1s - loss: 0.3602 - acc: 0.904 - ETA: 1s - loss: 0.3584 - acc: 0.904 - ETA: 0s - loss: 0.3628 - acc: 0.903 - ETA: 0s - loss: 0.3674 - acc: 0.902 - ETA: 0s - loss: 0.3667 - acc: 0.901 - 5s 7ms/step - loss: 0.3668 - acc: 0.9014 - val_loss: 0.5766 - val_acc: 0.8634\n",
      "Epoch 51/100\n",
      "664/664 [==============================] - ETA: 3s - loss: 0.3972 - acc: 0.887 - ETA: 3s - loss: 0.3772 - acc: 0.895 - ETA: 3s - loss: 0.3663 - acc: 0.899 - ETA: 2s - loss: 0.3586 - acc: 0.902 - ETA: 2s - loss: 0.3566 - acc: 0.902 - ETA: 1s - loss: 0.3574 - acc: 0.903 - ETA: 1s - loss: 0.3523 - acc: 0.906 - ETA: 0s - loss: 0.3538 - acc: 0.905 - ETA: 0s - loss: 0.3649 - acc: 0.902 - ETA: 0s - loss: 0.3629 - acc: 0.902 - 5s 7ms/step - loss: 0.3620 - acc: 0.9027 - val_loss: 0.5753 - val_acc: 0.8625\n",
      "Epoch 52/100\n",
      "664/664 [==============================] - ETA: 3s - loss: 0.3372 - acc: 0.908 - ETA: 3s - loss: 0.3308 - acc: 0.909 - ETA: 3s - loss: 0.3411 - acc: 0.907 - ETA: 2s - loss: 0.3416 - acc: 0.906 - ETA: 2s - loss: 0.3411 - acc: 0.907 - ETA: 1s - loss: 0.3646 - acc: 0.900 - ETA: 1s - loss: 0.3652 - acc: 0.900 - ETA: 1s - loss: 0.3621 - acc: 0.901 - ETA: 0s - loss: 0.3606 - acc: 0.902 - ETA: 0s - loss: 0.3589 - acc: 0.902 - 5s 7ms/step - loss: 0.3589 - acc: 0.9027 - val_loss: 0.5679 - val_acc: 0.8635\n",
      "Epoch 53/100\n",
      "664/664 [==============================] - ETA: 3s - loss: 0.3485 - acc: 0.904 - ETA: 3s - loss: 0.3388 - acc: 0.907 - ETA: 3s - loss: 0.3544 - acc: 0.903 - ETA: 2s - loss: 0.3623 - acc: 0.901 - ETA: 2s - loss: 0.3581 - acc: 0.902 - ETA: 1s - loss: 0.3581 - acc: 0.902 - ETA: 1s - loss: 0.3545 - acc: 0.903 - ETA: 1s - loss: 0.3527 - acc: 0.903 - ETA: 0s - loss: 0.3532 - acc: 0.903 - ETA: 0s - loss: 0.3538 - acc: 0.903 - 5s 7ms/step - loss: 0.3526 - acc: 0.9042 - val_loss: 0.5682 - val_acc: 0.8647\n",
      "Epoch 54/100\n",
      "664/664 [==============================] - ETA: 3s - loss: 0.3703 - acc: 0.900 - ETA: 3s - loss: 0.3407 - acc: 0.908 - ETA: 3s - loss: 0.3570 - acc: 0.904 - ETA: 2s - loss: 0.3458 - acc: 0.907 - ETA: 2s - loss: 0.3416 - acc: 0.909 - ETA: 1s - loss: 0.3459 - acc: 0.907 - ETA: 1s - loss: 0.3432 - acc: 0.908 - ETA: 1s - loss: 0.3482 - acc: 0.906 - ETA: 0s - loss: 0.3438 - acc: 0.907 - ETA: 0s - loss: 0.3470 - acc: 0.906 - 5s 7ms/step - loss: 0.3458 - acc: 0.9065 - val_loss: 0.5670 - val_acc: 0.8646\n",
      "Epoch 55/100\n",
      "664/664 [==============================] - ETA: 4s - loss: 0.3920 - acc: 0.894 - ETA: 3s - loss: 0.3543 - acc: 0.902 - ETA: 3s - loss: 0.3338 - acc: 0.908 - ETA: 2s - loss: 0.3416 - acc: 0.907 - ETA: 2s - loss: 0.3386 - acc: 0.908 - ETA: 1s - loss: 0.3363 - acc: 0.908 - ETA: 1s - loss: 0.3371 - acc: 0.908 - ETA: 1s - loss: 0.3382 - acc: 0.907 - ETA: 0s - loss: 0.3382 - acc: 0.907 - ETA: 0s - loss: 0.3395 - acc: 0.907 - 5s 7ms/step - loss: 0.3409 - acc: 0.9071 - val_loss: 0.5636 - val_acc: 0.8648\n",
      "Epoch 56/100\n",
      "664/664 [==============================] - ETA: 4s - loss: 0.3235 - acc: 0.905 - ETA: 3s - loss: 0.3144 - acc: 0.910 - ETA: 3s - loss: 0.3140 - acc: 0.913 - ETA: 2s - loss: 0.3303 - acc: 0.910 - ETA: 2s - loss: 0.3346 - acc: 0.908 - ETA: 1s - loss: 0.3317 - acc: 0.909 - ETA: 1s - loss: 0.3311 - acc: 0.909 - ETA: 1s - loss: 0.3361 - acc: 0.908 - ETA: 0s - loss: 0.3362 - acc: 0.908 - ETA: 0s - loss: 0.3371 - acc: 0.907 - 5s 7ms/step - loss: 0.3352 - acc: 0.9087 - val_loss: 0.5609 - val_acc: 0.8663\n",
      "Epoch 57/100\n",
      "664/664 [==============================] - ETA: 3s - loss: 0.3399 - acc: 0.907 - ETA: 3s - loss: 0.3321 - acc: 0.909 - ETA: 3s - loss: 0.3203 - acc: 0.912 - ETA: 2s - loss: 0.3154 - acc: 0.912 - ETA: 2s - loss: 0.3281 - acc: 0.909 - ETA: 1s - loss: 0.3235 - acc: 0.911 - ETA: 1s - loss: 0.3225 - acc: 0.911 - ETA: 1s - loss: 0.3215 - acc: 0.912 - ETA: 0s - loss: 0.3277 - acc: 0.910 - ETA: 0s - loss: 0.3283 - acc: 0.910 - 5s 7ms/step - loss: 0.3286 - acc: 0.9102 - val_loss: 0.5585 - val_acc: 0.8669\n",
      "Epoch 58/100\n",
      "664/664 [==============================] - ETA: 4s - loss: 0.3384 - acc: 0.905 - ETA: 3s - loss: 0.3314 - acc: 0.907 - ETA: 3s - loss: 0.3127 - acc: 0.913 - ETA: 2s - loss: 0.3102 - acc: 0.913 - ETA: 2s - loss: 0.3125 - acc: 0.913 - ETA: 1s - loss: 0.3207 - acc: 0.911 - ETA: 1s - loss: 0.3191 - acc: 0.912 - ETA: 1s - loss: 0.3200 - acc: 0.911 - ETA: 0s - loss: 0.3191 - acc: 0.912 - ETA: 0s - loss: 0.3213 - acc: 0.912 - 5s 7ms/step - loss: 0.3224 - acc: 0.9118 - val_loss: 0.5619 - val_acc: 0.8675\n",
      "Epoch 59/100\n",
      "664/664 [==============================] - ETA: 3s - loss: 0.3189 - acc: 0.909 - ETA: 3s - loss: 0.3160 - acc: 0.908 - ETA: 3s - loss: 0.3320 - acc: 0.907 - ETA: 2s - loss: 0.3302 - acc: 0.908 - ETA: 2s - loss: 0.3237 - acc: 0.910 - ETA: 2s - loss: 0.3271 - acc: 0.909 - ETA: 1s - loss: 0.3244 - acc: 0.910 - ETA: 1s - loss: 0.3225 - acc: 0.910 - ETA: 0s - loss: 0.3259 - acc: 0.909 - ETA: 0s - loss: 0.3229 - acc: 0.910 - 5s 8ms/step - loss: 0.3229 - acc: 0.9102 - val_loss: 0.5573 - val_acc: 0.8665\n",
      "Epoch 60/100\n",
      "664/664 [==============================] - ETA: 4s - loss: 0.3123 - acc: 0.908 - ETA: 3s - loss: 0.3097 - acc: 0.910 - ETA: 3s - loss: 0.3166 - acc: 0.909 - ETA: 2s - loss: 0.3133 - acc: 0.911 - ETA: 2s - loss: 0.3173 - acc: 0.910 - ETA: 1s - loss: 0.3167 - acc: 0.910 - ETA: 1s - loss: 0.3117 - acc: 0.912 - ETA: 1s - loss: 0.3165 - acc: 0.911 - ETA: 0s - loss: 0.3178 - acc: 0.911 - ETA: 0s - loss: 0.3208 - acc: 0.910 - 5s 8ms/step - loss: 0.3232 - acc: 0.9103 - val_loss: 0.5600 - val_acc: 0.8684\n",
      "Epoch 61/100\n",
      "664/664 [==============================] - ETA: 4s - loss: 0.3000 - acc: 0.917 - ETA: 3s - loss: 0.3054 - acc: 0.913 - ETA: 3s - loss: 0.3158 - acc: 0.910 - ETA: 2s - loss: 0.3130 - acc: 0.912 - ETA: 2s - loss: 0.3223 - acc: 0.910 - ETA: 1s - loss: 0.3176 - acc: 0.912 - ETA: 1s - loss: 0.3256 - acc: 0.910 - ETA: 1s - loss: 0.3247 - acc: 0.910 - ETA: 0s - loss: 0.3206 - acc: 0.910 - ETA: 0s - loss: 0.3222 - acc: 0.910 - 5s 8ms/step - loss: 0.3213 - acc: 0.9107 - val_loss: 0.5608 - val_acc: 0.8666\n",
      "Epoch 62/100\n",
      "664/664 [==============================] - ETA: 4s - loss: 0.3374 - acc: 0.906 - ETA: 3s - loss: 0.3217 - acc: 0.908 - ETA: 3s - loss: 0.3227 - acc: 0.908 - ETA: 2s - loss: 0.3177 - acc: 0.911 - ETA: 2s - loss: 0.3138 - acc: 0.912 - ETA: 1s - loss: 0.3101 - acc: 0.914 - ETA: 1s - loss: 0.3087 - acc: 0.914 - ETA: 1s - loss: 0.3127 - acc: 0.913 - ETA: 0s - loss: 0.3116 - acc: 0.913 - ETA: 0s - loss: 0.3115 - acc: 0.913 - 5s 8ms/step - loss: 0.3135 - acc: 0.9127 - val_loss: 0.5560 - val_acc: 0.8697\n",
      "Epoch 63/100\n",
      "664/664 [==============================] - ETA: 4s - loss: 0.3244 - acc: 0.909 - ETA: 3s - loss: 0.3150 - acc: 0.911 - ETA: 3s - loss: 0.3094 - acc: 0.913 - ETA: 2s - loss: 0.3125 - acc: 0.911 - ETA: 2s - loss: 0.3084 - acc: 0.912 - ETA: 1s - loss: 0.3077 - acc: 0.913 - ETA: 1s - loss: 0.3081 - acc: 0.913 - ETA: 1s - loss: 0.3033 - acc: 0.914 - ETA: 0s - loss: 0.3019 - acc: 0.915 - ETA: 0s - loss: 0.3048 - acc: 0.914 - 5s 8ms/step - loss: 0.3047 - acc: 0.9147 - val_loss: 0.5525 - val_acc: 0.8679\n",
      "Epoch 64/100\n",
      "664/664 [==============================] - ETA: 3s - loss: 0.3033 - acc: 0.916 - ETA: 3s - loss: 0.3025 - acc: 0.916 - ETA: 3s - loss: 0.3184 - acc: 0.912 - ETA: 2s - loss: 0.3057 - acc: 0.915 - ETA: 2s - loss: 0.3014 - acc: 0.916 - ETA: 1s - loss: 0.2993 - acc: 0.917 - ETA: 1s - loss: 0.3032 - acc: 0.916 - ETA: 1s - loss: 0.3031 - acc: 0.915 - ETA: 0s - loss: 0.3046 - acc: 0.915 - ETA: 0s - loss: 0.3024 - acc: 0.916 - 5s 7ms/step - loss: 0.3037 - acc: 0.9155 - val_loss: 0.5511 - val_acc: 0.8693\n"
     ]
    },
    {
     "name": "stdout",
     "output_type": "stream",
     "text": [
      "Epoch 65/100\n",
      "664/664 [==============================] - ETA: 4s - loss: 0.3240 - acc: 0.908 - ETA: 3s - loss: 0.3174 - acc: 0.910 - ETA: 3s - loss: 0.3138 - acc: 0.912 - ETA: 2s - loss: 0.3087 - acc: 0.913 - ETA: 2s - loss: 0.3045 - acc: 0.913 - ETA: 1s - loss: 0.3038 - acc: 0.914 - ETA: 1s - loss: 0.3022 - acc: 0.915 - ETA: 1s - loss: 0.3019 - acc: 0.915 - ETA: 0s - loss: 0.3014 - acc: 0.915 - ETA: 0s - loss: 0.2995 - acc: 0.916 - 5s 8ms/step - loss: 0.2982 - acc: 0.9166 - val_loss: 0.5621 - val_acc: 0.8694\n",
      "Epoch 66/100\n",
      "664/664 [==============================] - ETA: 3s - loss: 0.3157 - acc: 0.915 - ETA: 3s - loss: 0.2970 - acc: 0.917 - ETA: 3s - loss: 0.2922 - acc: 0.919 - ETA: 2s - loss: 0.2981 - acc: 0.918 - ETA: 2s - loss: 0.3002 - acc: 0.917 - ETA: 1s - loss: 0.3019 - acc: 0.916 - ETA: 1s - loss: 0.3035 - acc: 0.915 - ETA: 1s - loss: 0.2992 - acc: 0.917 - ETA: 0s - loss: 0.2982 - acc: 0.917 - ETA: 0s - loss: 0.2960 - acc: 0.918 - 5s 8ms/step - loss: 0.2943 - acc: 0.9182 - val_loss: 0.5521 - val_acc: 0.8707\n",
      "Epoch 67/100\n",
      "664/664 [==============================] - ETA: 4s - loss: 0.3029 - acc: 0.913 - ETA: 3s - loss: 0.2865 - acc: 0.918 - ETA: 3s - loss: 0.2814 - acc: 0.920 - ETA: 2s - loss: 0.2950 - acc: 0.915 - ETA: 2s - loss: 0.2940 - acc: 0.916 - ETA: 1s - loss: 0.2948 - acc: 0.916 - ETA: 1s - loss: 0.2958 - acc: 0.916 - ETA: 1s - loss: 0.2984 - acc: 0.916 - ETA: 0s - loss: 0.2972 - acc: 0.917 - ETA: 0s - loss: 0.2919 - acc: 0.918 - 5s 8ms/step - loss: 0.2907 - acc: 0.9189 - val_loss: 0.5709 - val_acc: 0.8666\n",
      "Epoch 68/100\n",
      "664/664 [==============================] - ETA: 4s - loss: 0.2897 - acc: 0.921 - ETA: 3s - loss: 0.2910 - acc: 0.918 - ETA: 3s - loss: 0.2907 - acc: 0.918 - ETA: 2s - loss: 0.3035 - acc: 0.914 - ETA: 2s - loss: 0.2992 - acc: 0.915 - ETA: 1s - loss: 0.2924 - acc: 0.918 - ETA: 1s - loss: 0.2919 - acc: 0.917 - ETA: 1s - loss: 0.2960 - acc: 0.916 - ETA: 0s - loss: 0.2903 - acc: 0.918 - ETA: 0s - loss: 0.2914 - acc: 0.918 - 5s 8ms/step - loss: 0.2912 - acc: 0.9184 - val_loss: 0.5549 - val_acc: 0.8686\n",
      "Epoch 69/100\n",
      "664/664 [==============================] - ETA: 4s - loss: 0.3067 - acc: 0.915 - ETA: 3s - loss: 0.2853 - acc: 0.920 - ETA: 3s - loss: 0.2745 - acc: 0.925 - ETA: 2s - loss: 0.2790 - acc: 0.923 - ETA: 2s - loss: 0.2849 - acc: 0.920 - ETA: 1s - loss: 0.2823 - acc: 0.920 - ETA: 1s - loss: 0.2832 - acc: 0.920 - ETA: 1s - loss: 0.2835 - acc: 0.919 - ETA: 0s - loss: 0.2835 - acc: 0.919 - ETA: 0s - loss: 0.2872 - acc: 0.919 - 5s 8ms/step - loss: 0.2876 - acc: 0.9193 - val_loss: 0.5559 - val_acc: 0.8688\n",
      "Epoch 70/100\n",
      "664/664 [==============================] - ETA: 4s - loss: 0.2678 - acc: 0.928 - ETA: 3s - loss: 0.3044 - acc: 0.915 - ETA: 3s - loss: 0.2973 - acc: 0.917 - ETA: 2s - loss: 0.2999 - acc: 0.916 - ETA: 2s - loss: 0.2953 - acc: 0.917 - ETA: 2s - loss: 0.2889 - acc: 0.919 - ETA: 1s - loss: 0.2863 - acc: 0.920 - ETA: 1s - loss: 0.2856 - acc: 0.920 - ETA: 0s - loss: 0.2862 - acc: 0.919 - ETA: 0s - loss: 0.2851 - acc: 0.920 - 5s 8ms/step - loss: 0.2832 - acc: 0.9207 - val_loss: 0.5442 - val_acc: 0.8716\n",
      "Epoch 71/100\n",
      "664/664 [==============================] - ETA: 4s - loss: 0.2518 - acc: 0.929 - ETA: 4s - loss: 0.2640 - acc: 0.926 - ETA: 3s - loss: 0.2802 - acc: 0.922 - ETA: 3s - loss: 0.2786 - acc: 0.922 - ETA: 2s - loss: 0.2753 - acc: 0.924 - ETA: 2s - loss: 0.2778 - acc: 0.923 - ETA: 1s - loss: 0.2800 - acc: 0.922 - ETA: 1s - loss: 0.2812 - acc: 0.921 - ETA: 0s - loss: 0.2790 - acc: 0.921 - ETA: 0s - loss: 0.2785 - acc: 0.921 - 5s 8ms/step - loss: 0.2778 - acc: 0.9217 - val_loss: 0.5490 - val_acc: 0.8724\n",
      "Epoch 72/100\n",
      "664/664 [==============================] - ETA: 4s - loss: 0.2930 - acc: 0.918 - ETA: 3s - loss: 0.2838 - acc: 0.921 - ETA: 3s - loss: 0.2779 - acc: 0.923 - ETA: 2s - loss: 0.2734 - acc: 0.924 - ETA: 2s - loss: 0.2758 - acc: 0.923 - ETA: 1s - loss: 0.2740 - acc: 0.924 - ETA: 1s - loss: 0.2766 - acc: 0.923 - ETA: 1s - loss: 0.2747 - acc: 0.924 - ETA: 0s - loss: 0.2719 - acc: 0.925 - ETA: 0s - loss: 0.2749 - acc: 0.923 - 5s 8ms/step - loss: 0.2738 - acc: 0.9240 - val_loss: 0.5458 - val_acc: 0.8698\n",
      "Epoch 73/100\n",
      "664/664 [==============================] - ETA: 4s - loss: 0.2782 - acc: 0.920 - ETA: 3s - loss: 0.2843 - acc: 0.918 - ETA: 3s - loss: 0.2812 - acc: 0.919 - ETA: 2s - loss: 0.2729 - acc: 0.921 - ETA: 2s - loss: 0.2654 - acc: 0.925 - ETA: 1s - loss: 0.2624 - acc: 0.926 - ETA: 1s - loss: 0.2674 - acc: 0.925 - ETA: 1s - loss: 0.2694 - acc: 0.924 - ETA: 0s - loss: 0.2706 - acc: 0.923 - ETA: 0s - loss: 0.2720 - acc: 0.923 - 5s 8ms/step - loss: 0.2728 - acc: 0.9226 - val_loss: 0.5478 - val_acc: 0.8732\n",
      "Epoch 74/100\n",
      "664/664 [==============================] - ETA: 4s - loss: 0.2467 - acc: 0.929 - ETA: 3s - loss: 0.2610 - acc: 0.925 - ETA: 3s - loss: 0.2619 - acc: 0.924 - ETA: 2s - loss: 0.2652 - acc: 0.924 - ETA: 2s - loss: 0.2638 - acc: 0.924 - ETA: 1s - loss: 0.2646 - acc: 0.923 - ETA: 1s - loss: 0.2605 - acc: 0.925 - ETA: 1s - loss: 0.2615 - acc: 0.925 - ETA: 0s - loss: 0.2638 - acc: 0.925 - ETA: 0s - loss: 0.2670 - acc: 0.923 - 5s 8ms/step - loss: 0.2674 - acc: 0.9236 - val_loss: 0.5482 - val_acc: 0.8712\n",
      "Epoch 75/100\n",
      "664/664 [==============================] - ETA: 4s - loss: 0.2456 - acc: 0.933 - ETA: 3s - loss: 0.2674 - acc: 0.926 - ETA: 3s - loss: 0.2555 - acc: 0.929 - ETA: 2s - loss: 0.2639 - acc: 0.926 - ETA: 2s - loss: 0.2600 - acc: 0.926 - ETA: 2s - loss: 0.2581 - acc: 0.926 - ETA: 1s - loss: 0.2581 - acc: 0.927 - ETA: 1s - loss: 0.2593 - acc: 0.927 - ETA: 0s - loss: 0.2561 - acc: 0.928 - ETA: 0s - loss: 0.2579 - acc: 0.927 - 5s 8ms/step - loss: 0.2615 - acc: 0.9270 - val_loss: 0.5499 - val_acc: 0.8712\n",
      "Epoch 76/100\n",
      "664/664 [==============================] - ETA: 4s - loss: 0.2572 - acc: 0.924 - ETA: 3s - loss: 0.2666 - acc: 0.924 - ETA: 3s - loss: 0.2560 - acc: 0.928 - ETA: 2s - loss: 0.2607 - acc: 0.926 - ETA: 2s - loss: 0.2611 - acc: 0.926 - ETA: 1s - loss: 0.2613 - acc: 0.926 - ETA: 1s - loss: 0.2624 - acc: 0.926 - ETA: 1s - loss: 0.2599 - acc: 0.927 - ETA: 0s - loss: 0.2578 - acc: 0.927 - ETA: 0s - loss: 0.2565 - acc: 0.928 - 5s 8ms/step - loss: 0.2577 - acc: 0.9279 - val_loss: 0.5487 - val_acc: 0.8741\n",
      "Epoch 77/100\n",
      "664/664 [==============================] - ETA: 4s - loss: 0.2506 - acc: 0.930 - ETA: 3s - loss: 0.2774 - acc: 0.922 - ETA: 3s - loss: 0.2633 - acc: 0.926 - ETA: 2s - loss: 0.2568 - acc: 0.928 - ETA: 2s - loss: 0.2628 - acc: 0.926 - ETA: 1s - loss: 0.2574 - acc: 0.928 - ETA: 1s - loss: 0.2568 - acc: 0.928 - ETA: 1s - loss: 0.2574 - acc: 0.928 - ETA: 0s - loss: 0.2588 - acc: 0.927 - ETA: 0s - loss: 0.2575 - acc: 0.927 - 5s 8ms/step - loss: 0.2556 - acc: 0.9285 - val_loss: 0.5524 - val_acc: 0.8717\n",
      "Epoch 78/100\n",
      "664/664 [==============================] - ETA: 4s - loss: 0.2169 - acc: 0.943 - ETA: 3s - loss: 0.2256 - acc: 0.938 - ETA: 3s - loss: 0.2261 - acc: 0.937 - ETA: 2s - loss: 0.2387 - acc: 0.933 - ETA: 2s - loss: 0.2430 - acc: 0.931 - ETA: 1s - loss: 0.2461 - acc: 0.931 - ETA: 1s - loss: 0.2489 - acc: 0.929 - ETA: 1s - loss: 0.2462 - acc: 0.930 - ETA: 0s - loss: 0.2490 - acc: 0.929 - ETA: 0s - loss: 0.2500 - acc: 0.929 - 5s 8ms/step - loss: 0.2503 - acc: 0.9297 - val_loss: 0.5471 - val_acc: 0.8707\n",
      "Epoch 79/100\n",
      "664/664 [==============================] - ETA: 4s - loss: 0.2650 - acc: 0.923 - ETA: 3s - loss: 0.2558 - acc: 0.926 - ETA: 3s - loss: 0.2551 - acc: 0.927 - ETA: 2s - loss: 0.2532 - acc: 0.928 - ETA: 2s - loss: 0.2563 - acc: 0.927 - ETA: 1s - loss: 0.2542 - acc: 0.928 - ETA: 1s - loss: 0.2549 - acc: 0.928 - ETA: 1s - loss: 0.2514 - acc: 0.929 - ETA: 0s - loss: 0.2499 - acc: 0.929 - ETA: 0s - loss: 0.2504 - acc: 0.929 - 5s 8ms/step - loss: 0.2489 - acc: 0.9300 - val_loss: 0.5527 - val_acc: 0.8723\n",
      "Epoch 80/100\n",
      "664/664 [==============================] - ETA: 4s - loss: 0.2415 - acc: 0.934 - ETA: 3s - loss: 0.2420 - acc: 0.933 - ETA: 3s - loss: 0.2340 - acc: 0.935 - ETA: 2s - loss: 0.2448 - acc: 0.932 - ETA: 2s - loss: 0.2443 - acc: 0.932 - ETA: 1s - loss: 0.2443 - acc: 0.932 - ETA: 1s - loss: 0.2433 - acc: 0.932 - ETA: 1s - loss: 0.2482 - acc: 0.931 - ETA: 0s - loss: 0.2458 - acc: 0.931 - ETA: 0s - loss: 0.2476 - acc: 0.930 - 5s 8ms/step - loss: 0.2455 - acc: 0.9314 - val_loss: 0.5550 - val_acc: 0.8729\n"
     ]
    },
    {
     "name": "stdout",
     "output_type": "stream",
     "text": [
      "Epoch 81/100\n",
      "664/664 [==============================] - ETA: 4s - loss: 0.2461 - acc: 0.930 - ETA: 3s - loss: 0.2459 - acc: 0.930 - ETA: 3s - loss: 0.2327 - acc: 0.934 - ETA: 2s - loss: 0.2384 - acc: 0.932 - ETA: 2s - loss: 0.2410 - acc: 0.932 - ETA: 1s - loss: 0.2362 - acc: 0.933 - ETA: 1s - loss: 0.2398 - acc: 0.932 - ETA: 1s - loss: 0.2371 - acc: 0.933 - ETA: 0s - loss: 0.2357 - acc: 0.934 - ETA: 0s - loss: 0.2398 - acc: 0.932 - 5s 8ms/step - loss: 0.2419 - acc: 0.9324 - val_loss: 0.5509 - val_acc: 0.8731\n",
      "Epoch 82/100\n",
      "664/664 [==============================] - ETA: 4s - loss: 0.2622 - acc: 0.924 - ETA: 3s - loss: 0.2512 - acc: 0.930 - ETA: 3s - loss: 0.2475 - acc: 0.931 - ETA: 2s - loss: 0.2417 - acc: 0.931 - ETA: 2s - loss: 0.2489 - acc: 0.929 - ETA: 1s - loss: 0.2453 - acc: 0.930 - ETA: 1s - loss: 0.2436 - acc: 0.931 - ETA: 1s - loss: 0.2439 - acc: 0.931 - ETA: 0s - loss: 0.2413 - acc: 0.932 - ETA: 0s - loss: 0.2409 - acc: 0.932 - 5s 8ms/step - loss: 0.2403 - acc: 0.9323 - val_loss: 0.5458 - val_acc: 0.8747\n",
      "Epoch 83/100\n",
      "664/664 [==============================] - ETA: 3s - loss: 0.2759 - acc: 0.920 - ETA: 3s - loss: 0.2636 - acc: 0.922 - ETA: 3s - loss: 0.2582 - acc: 0.924 - ETA: 2s - loss: 0.2474 - acc: 0.928 - ETA: 2s - loss: 0.2498 - acc: 0.927 - ETA: 1s - loss: 0.2482 - acc: 0.928 - ETA: 1s - loss: 0.2467 - acc: 0.929 - ETA: 1s - loss: 0.2440 - acc: 0.930 - ETA: 0s - loss: 0.2403 - acc: 0.931 - ETA: 0s - loss: 0.2381 - acc: 0.932 - 5s 8ms/step - loss: 0.2393 - acc: 0.9318 - val_loss: 0.5533 - val_acc: 0.8756\n",
      "Epoch 84/100\n",
      "664/664 [==============================] - ETA: 4s - loss: 0.2607 - acc: 0.923 - ETA: 3s - loss: 0.2345 - acc: 0.933 - ETA: 3s - loss: 0.2324 - acc: 0.933 - ETA: 2s - loss: 0.2313 - acc: 0.935 - ETA: 2s - loss: 0.2290 - acc: 0.936 - ETA: 1s - loss: 0.2327 - acc: 0.934 - ETA: 1s - loss: 0.2339 - acc: 0.934 - ETA: 1s - loss: 0.2346 - acc: 0.934 - ETA: 0s - loss: 0.2350 - acc: 0.934 - ETA: 0s - loss: 0.2360 - acc: 0.933 - 5s 8ms/step - loss: 0.2360 - acc: 0.9337 - val_loss: 0.5511 - val_acc: 0.8745\n",
      "Epoch 85/100\n",
      "664/664 [==============================] - ETA: 4s - loss: 0.2377 - acc: 0.932 - ETA: 3s - loss: 0.2121 - acc: 0.940 - ETA: 3s - loss: 0.2235 - acc: 0.937 - ETA: 2s - loss: 0.2215 - acc: 0.938 - ETA: 2s - loss: 0.2236 - acc: 0.937 - ETA: 1s - loss: 0.2303 - acc: 0.934 - ETA: 1s - loss: 0.2335 - acc: 0.933 - ETA: 1s - loss: 0.2342 - acc: 0.933 - ETA: 0s - loss: 0.2313 - acc: 0.934 - ETA: 0s - loss: 0.2331 - acc: 0.934 - 5s 8ms/step - loss: 0.2327 - acc: 0.9340 - val_loss: 0.5611 - val_acc: 0.8743\n",
      "Epoch 86/100\n",
      "664/664 [==============================] - ETA: 3s - loss: 0.2281 - acc: 0.934 - ETA: 3s - loss: 0.2214 - acc: 0.937 - ETA: 3s - loss: 0.2213 - acc: 0.936 - ETA: 2s - loss: 0.2210 - acc: 0.937 - ETA: 2s - loss: 0.2234 - acc: 0.936 - ETA: 1s - loss: 0.2259 - acc: 0.936 - ETA: 1s - loss: 0.2232 - acc: 0.937 - ETA: 1s - loss: 0.2249 - acc: 0.936 - ETA: 0s - loss: 0.2250 - acc: 0.936 - ETA: 0s - loss: 0.2259 - acc: 0.936 - 5s 8ms/step - loss: 0.2285 - acc: 0.9352 - val_loss: 0.5609 - val_acc: 0.8710\n",
      "Epoch 87/100\n",
      "664/664 [==============================] - ETA: 3s - loss: 0.2570 - acc: 0.930 - ETA: 3s - loss: 0.2478 - acc: 0.930 - ETA: 3s - loss: 0.2375 - acc: 0.934 - ETA: 2s - loss: 0.2285 - acc: 0.936 - ETA: 2s - loss: 0.2332 - acc: 0.934 - ETA: 1s - loss: 0.2276 - acc: 0.936 - ETA: 1s - loss: 0.2252 - acc: 0.937 - ETA: 1s - loss: 0.2262 - acc: 0.936 - ETA: 0s - loss: 0.2254 - acc: 0.936 - ETA: 0s - loss: 0.2298 - acc: 0.934 - 5s 7ms/step - loss: 0.2276 - acc: 0.9355 - val_loss: 0.5507 - val_acc: 0.8773\n",
      "Epoch 88/100\n",
      "664/664 [==============================] - ETA: 4s - loss: 0.2259 - acc: 0.930 - ETA: 3s - loss: 0.2344 - acc: 0.930 - ETA: 3s - loss: 0.2267 - acc: 0.934 - ETA: 2s - loss: 0.2316 - acc: 0.932 - ETA: 2s - loss: 0.2275 - acc: 0.933 - ETA: 1s - loss: 0.2247 - acc: 0.934 - ETA: 1s - loss: 0.2230 - acc: 0.935 - ETA: 1s - loss: 0.2242 - acc: 0.935 - ETA: 0s - loss: 0.2210 - acc: 0.936 - ETA: 0s - loss: 0.2206 - acc: 0.936 - 5s 8ms/step - loss: 0.2206 - acc: 0.9364 - val_loss: 0.5518 - val_acc: 0.8761\n",
      "Epoch 89/100\n",
      "664/664 [==============================] - ETA: 5s - loss: 0.2539 - acc: 0.927 - ETA: 4s - loss: 0.2385 - acc: 0.932 - ETA: 3s - loss: 0.2273 - acc: 0.935 - ETA: 3s - loss: 0.2243 - acc: 0.935 - ETA: 2s - loss: 0.2244 - acc: 0.935 - ETA: 2s - loss: 0.2234 - acc: 0.935 - ETA: 1s - loss: 0.2227 - acc: 0.936 - ETA: 1s - loss: 0.2183 - acc: 0.937 - ETA: 0s - loss: 0.2196 - acc: 0.937 - ETA: 0s - loss: 0.2194 - acc: 0.937 - 5s 8ms/step - loss: 0.2180 - acc: 0.9379 - val_loss: 0.5507 - val_acc: 0.8770\n",
      "Epoch 90/100\n",
      "664/664 [==============================] - ETA: 4s - loss: 0.2078 - acc: 0.941 - ETA: 4s - loss: 0.2091 - acc: 0.941 - ETA: 3s - loss: 0.2116 - acc: 0.940 - ETA: 2s - loss: 0.2167 - acc: 0.937 - ETA: 2s - loss: 0.2171 - acc: 0.938 - ETA: 2s - loss: 0.2172 - acc: 0.937 - ETA: 1s - loss: 0.2148 - acc: 0.938 - ETA: 1s - loss: 0.2103 - acc: 0.939 - ETA: 0s - loss: 0.2125 - acc: 0.939 - ETA: 0s - loss: 0.2134 - acc: 0.939 - 5s 8ms/step - loss: 0.2144 - acc: 0.9388 - val_loss: 0.5565 - val_acc: 0.8745\n",
      "Epoch 91/100\n",
      "664/664 [==============================] - ETA: 4s - loss: 0.2027 - acc: 0.943 - ETA: 3s - loss: 0.2120 - acc: 0.940 - ETA: 3s - loss: 0.2143 - acc: 0.939 - ETA: 2s - loss: 0.2060 - acc: 0.942 - ETA: 2s - loss: 0.2065 - acc: 0.942 - ETA: 1s - loss: 0.2102 - acc: 0.940 - ETA: 1s - loss: 0.2119 - acc: 0.939 - ETA: 1s - loss: 0.2134 - acc: 0.939 - ETA: 0s - loss: 0.2110 - acc: 0.940 - ETA: 0s - loss: 0.2113 - acc: 0.940 - 5s 7ms/step - loss: 0.2129 - acc: 0.9397 - val_loss: 0.5585 - val_acc: 0.8750\n",
      "Epoch 92/100\n",
      "664/664 [==============================] - ETA: 4s - loss: 0.1996 - acc: 0.940 - ETA: 3s - loss: 0.1991 - acc: 0.943 - ETA: 3s - loss: 0.2041 - acc: 0.942 - ETA: 2s - loss: 0.2018 - acc: 0.942 - ETA: 2s - loss: 0.2094 - acc: 0.940 - ETA: 1s - loss: 0.2157 - acc: 0.937 - ETA: 1s - loss: 0.2179 - acc: 0.937 - ETA: 1s - loss: 0.2146 - acc: 0.938 - ETA: 0s - loss: 0.2131 - acc: 0.939 - ETA: 0s - loss: 0.2129 - acc: 0.939 - 5s 8ms/step - loss: 0.2131 - acc: 0.9392 - val_loss: 0.5567 - val_acc: 0.8737\n",
      "Epoch 93/100\n",
      "664/664 [==============================] - ETA: 4s - loss: 0.1943 - acc: 0.947 - ETA: 3s - loss: 0.2002 - acc: 0.944 - ETA: 3s - loss: 0.2094 - acc: 0.941 - ETA: 2s - loss: 0.2058 - acc: 0.942 - ETA: 2s - loss: 0.2075 - acc: 0.941 - ETA: 1s - loss: 0.2054 - acc: 0.941 - ETA: 1s - loss: 0.2073 - acc: 0.941 - ETA: 1s - loss: 0.2109 - acc: 0.939 - ETA: 0s - loss: 0.2122 - acc: 0.939 - ETA: 0s - loss: 0.2106 - acc: 0.939 - 5s 8ms/step - loss: 0.2089 - acc: 0.9400 - val_loss: 0.5582 - val_acc: 0.8775\n",
      "Epoch 94/100\n",
      "664/664 [==============================] - ETA: 4s - loss: 0.2104 - acc: 0.944 - ETA: 3s - loss: 0.2077 - acc: 0.942 - ETA: 3s - loss: 0.2105 - acc: 0.940 - ETA: 2s - loss: 0.2085 - acc: 0.940 - ETA: 2s - loss: 0.2086 - acc: 0.940 - ETA: 1s - loss: 0.2052 - acc: 0.941 - ETA: 1s - loss: 0.2069 - acc: 0.941 - ETA: 1s - loss: 0.2066 - acc: 0.941 - ETA: 0s - loss: 0.2062 - acc: 0.941 - ETA: 0s - loss: 0.2058 - acc: 0.941 - 5s 7ms/step - loss: 0.2057 - acc: 0.9415 - val_loss: 0.5598 - val_acc: 0.8739\n",
      "Epoch 95/100\n",
      "664/664 [==============================] - ETA: 3s - loss: 0.1822 - acc: 0.948 - ETA: 3s - loss: 0.1900 - acc: 0.946 - ETA: 3s - loss: 0.1844 - acc: 0.948 - ETA: 2s - loss: 0.1917 - acc: 0.946 - ETA: 2s - loss: 0.1914 - acc: 0.946 - ETA: 1s - loss: 0.1989 - acc: 0.943 - ETA: 1s - loss: 0.2008 - acc: 0.942 - ETA: 1s - loss: 0.2012 - acc: 0.942 - ETA: 0s - loss: 0.2004 - acc: 0.942 - ETA: 0s - loss: 0.2025 - acc: 0.941 - 5s 7ms/step - loss: 0.2026 - acc: 0.9418 - val_loss: 0.5509 - val_acc: 0.8764\n",
      "Epoch 96/100\n",
      "664/664 [==============================] - ETA: 4s - loss: 0.1804 - acc: 0.949 - ETA: 3s - loss: 0.1803 - acc: 0.948 - ETA: 3s - loss: 0.1847 - acc: 0.947 - ETA: 2s - loss: 0.1902 - acc: 0.945 - ETA: 2s - loss: 0.1981 - acc: 0.942 - ETA: 1s - loss: 0.1989 - acc: 0.942 - ETA: 1s - loss: 0.1989 - acc: 0.943 - ETA: 1s - loss: 0.1973 - acc: 0.943 - ETA: 0s - loss: 0.1977 - acc: 0.944 - ETA: 0s - loss: 0.1996 - acc: 0.943 - 5s 7ms/step - loss: 0.1994 - acc: 0.9434 - val_loss: 0.5567 - val_acc: 0.8772\n"
     ]
    },
    {
     "name": "stdout",
     "output_type": "stream",
     "text": [
      "Epoch 97/100\n",
      "664/664 [==============================] - ETA: 3s - loss: 0.1890 - acc: 0.946 - ETA: 3s - loss: 0.1936 - acc: 0.944 - ETA: 3s - loss: 0.1902 - acc: 0.945 - ETA: 2s - loss: 0.1907 - acc: 0.944 - ETA: 2s - loss: 0.1950 - acc: 0.944 - ETA: 1s - loss: 0.1928 - acc: 0.944 - ETA: 1s - loss: 0.1915 - acc: 0.945 - ETA: 1s - loss: 0.1896 - acc: 0.945 - ETA: 0s - loss: 0.1933 - acc: 0.944 - ETA: 0s - loss: 0.1968 - acc: 0.943 - 5s 7ms/step - loss: 0.1973 - acc: 0.9431 - val_loss: 0.5525 - val_acc: 0.8764\n",
      "Epoch 98/100\n",
      "664/664 [==============================] - ETA: 3s - loss: 0.2099 - acc: 0.937 - ETA: 3s - loss: 0.2044 - acc: 0.941 - ETA: 3s - loss: 0.1911 - acc: 0.946 - ETA: 2s - loss: 0.1882 - acc: 0.947 - ETA: 2s - loss: 0.1899 - acc: 0.945 - ETA: 1s - loss: 0.1912 - acc: 0.944 - ETA: 1s - loss: 0.1876 - acc: 0.946 - ETA: 1s - loss: 0.1883 - acc: 0.945 - ETA: 0s - loss: 0.1909 - acc: 0.944 - ETA: 0s - loss: 0.1933 - acc: 0.944 - 5s 7ms/step - loss: 0.1937 - acc: 0.9443 - val_loss: 0.5551 - val_acc: 0.8761\n",
      "Epoch 99/100\n",
      "664/664 [==============================] - ETA: 4s - loss: 0.1842 - acc: 0.947 - ETA: 3s - loss: 0.1918 - acc: 0.945 - ETA: 3s - loss: 0.1843 - acc: 0.948 - ETA: 2s - loss: 0.1888 - acc: 0.946 - ETA: 2s - loss: 0.1876 - acc: 0.945 - ETA: 1s - loss: 0.1861 - acc: 0.946 - ETA: 1s - loss: 0.1870 - acc: 0.946 - ETA: 1s - loss: 0.1880 - acc: 0.946 - ETA: 0s - loss: 0.1895 - acc: 0.946 - ETA: 0s - loss: 0.1891 - acc: 0.946 - 5s 8ms/step - loss: 0.1903 - acc: 0.9461 - val_loss: 0.5584 - val_acc: 0.8777\n",
      "Epoch 100/100\n",
      "664/664 [==============================] - ETA: 4s - loss: 0.1928 - acc: 0.943 - ETA: 3s - loss: 0.1881 - acc: 0.944 - ETA: 3s - loss: 0.1875 - acc: 0.944 - ETA: 2s - loss: 0.1957 - acc: 0.943 - ETA: 2s - loss: 0.1957 - acc: 0.943 - ETA: 1s - loss: 0.1943 - acc: 0.944 - ETA: 1s - loss: 0.1937 - acc: 0.944 - ETA: 1s - loss: 0.1915 - acc: 0.945 - ETA: 0s - loss: 0.1893 - acc: 0.946 - ETA: 0s - loss: 0.1873 - acc: 0.946 - 5s 7ms/step - loss: 0.1891 - acc: 0.9461 - val_loss: 0.5603 - val_acc: 0.8755\n"
     ]
    }
   ],
   "source": [
    "# Train the model\n",
    "r = model.fit(\n",
    "  [encoder_inputs, decoder_inputs], decoder_targets_one_hot,\n",
    "  batch_size=BATCH_SIZE,\n",
    "  epochs=EPOCHS,\n",
    "  validation_split=0.2,\n",
    "  verbose=1,\n",
    ")"
   ]
  },
  {
   "cell_type": "code",
   "execution_count": 56,
   "metadata": {},
   "outputs": [
    {
     "data": {
      "image/png": "[encoded data removed]",
      "text/plain": [
       "<matplotlib.figure.Figure at 0x21f81c342e8>"
      ]
     },
     "metadata": {},
     "output_type": "display_data"
    },
    {
     "data": {
      "image/png": "[encoded data removed]",
      "text/plain": [
       "<matplotlib.figure.Figure at 0x21f81c7eba8>"
      ]
     },
     "metadata": {},
     "output_type": "display_data"
    }
   ],
   "source": [
    "# plot some data\n",
    "plt.plot(r.history['loss'], label='loss')\n",
    "plt.plot(r.history['val_loss'], label='val_loss')\n",
    "plt.legend()\n",
    "plt.show()\n",
    "\n",
    "# accuracies\n",
    "plt.plot(r.history['acc'], label='acc')\n",
    "plt.plot(r.history['val_acc'], label='val_acc')\n",
    "plt.legend()\n",
    "plt.show()"
   ]
  },
  {
   "cell_type": "code",
   "execution_count": null,
   "metadata": {},
   "outputs": [],
   "source": [
    "# # Save model\n",
    "# model.save('...h5')"
   ]
  },
  {
   "cell_type": "code",
   "execution_count": 57,
   "metadata": {
    "collapsed": true
   },
   "outputs": [],
   "source": [
    "##### Make predictions #####\n",
    "# We need to create another model\n",
    "# that can take in the RNN state and previous word as input\n",
    "# and accept a T=1 sequence.\n",
    "\n",
    "# The encoder will be stand-alone. It is exactly as the encoder in the training model\n",
    "# From this we will get our initial decoder hidden state (h,c)\n",
    "encoder_model = Model(encoder_inputs_placeholder, encoder_states)"
   ]
  },
  {
   "cell_type": "code",
   "execution_count": 58,
   "metadata": {
    "collapsed": true
   },
   "outputs": [],
   "source": [
    "# These inputs are placeholders for the output of the encoder_model above\n",
    "decoder_state_input_h = Input(shape=(LATENT_DIM,)) \n",
    "decoder_state_input_c = Input(shape=(LATENT_DIM,)) \n",
    "decoder_states_inputs = [decoder_state_input_h, decoder_state_input_c]\n",
    "# decoder_states_inputs = [decoder_state_input_h] # gru"
   ]
  },
  {
   "cell_type": "code",
   "execution_count": 59,
   "metadata": {
    "collapsed": true
   },
   "outputs": [],
   "source": [
    "decoder_inputs_single = Input(shape=(1,))\n",
    "# The single word input (at its time) will be embedded\n",
    "decoder_inputs_single_x = decoder_embedding(decoder_inputs_single)"
   ]
  },
  {
   "cell_type": "code",
   "execution_count": 60,
   "metadata": {
    "collapsed": true
   },
   "outputs": [],
   "source": [
    "# this time, we want to keep the states too (h and c of the decoder), to be output\n",
    "# by our sampling model\n",
    "decoder_outputs, h, c = decoder_lstm(\n",
    "  decoder_inputs_single_x, # This is the input of the generated previous word in the prediction\n",
    "  initial_state=decoder_states_inputs # The h and c states from encoder_model\n",
    ")\n",
    "# decoder_outputs, state_h = decoder_lstm(\n",
    "#   decoder_inputs_single_x,\n",
    "#   initial_state=decoder_states_inputs\n",
    "# ) #gru"
   ]
  },
  {
   "cell_type": "code",
   "execution_count": 61,
   "metadata": {
    "collapsed": true
   },
   "outputs": [],
   "source": [
    "decoder_states = [h, c]\n",
    "# decoder_states = [h] # gru\n",
    "decoder_outputs = decoder_dense(decoder_outputs)"
   ]
  },
  {
   "cell_type": "code",
   "execution_count": 62,
   "metadata": {
    "collapsed": true
   },
   "outputs": [],
   "source": [
    "# The sampling model\n",
    "# inputs: y(t-1), h(t-1), c(t-1)\n",
    "# outputs: y(t), h(t), c(t)\n",
    "decoder_model = Model(\n",
    "  [decoder_inputs_single] + decoder_states_inputs, \n",
    "  [decoder_outputs] + decoder_states)"
   ]
  },
  {
   "cell_type": "code",
   "execution_count": 63,
   "metadata": {
    "collapsed": true
   },
   "outputs": [],
   "source": [
    "# map indexes back into real words\n",
    "# so we can view the results (it's the opposite, v:k instead k:v)\n",
    "idx2word_eng = {v:k for k, v in word2idx_inputs.items()}\n",
    "idx2word_trans = {v:k for k, v in nltk_word_index.items()} # nltk_word_index replaced word2idx_outputs"
   ]
  },
  {
   "cell_type": "code",
   "execution_count": 64,
   "metadata": {
    "collapsed": true
   },
   "outputs": [],
   "source": [
    "def decode_sequence(input_seq):\n",
    "    # Encode the input as state vectors.\n",
    "    states_value = encoder_model.predict(input_seq)\n",
    "\n",
    "    # Generate empty target sequence of length 1.\n",
    "    target_seq = np.zeros((1, 1))\n",
    "\n",
    "    # Populate the first character of target sequence with the start character.\n",
    "    # NOTE: tokenizer lower-cases all words\n",
    "    target_seq[0, 0] = nltk_word_index['<'] # Instead of <sos> till parsing is better (as input token). First Token\n",
    "\n",
    "    # if we get this we break\n",
    "    eos = nltk_word_index['>'] # Instead of <eos> till parsing is better (as input token). Last Token\n",
    "\n",
    "    # Create the translation - make prediction 7 (or any target length) times, and each time generate token, h, c\n",
    "    output_sentence = []\n",
    "    for _ in range(max_len_target):\n",
    "        output_tokens, h, c = decoder_model.predict([target_seq] + states_value)\n",
    "        # output_tokens, h = decoder_model.predict([target_seq] + states_value) # gru\n",
    "\n",
    "        # Get next word\n",
    "        idx = np.argmax(output_tokens[0, 0, :])\n",
    "\n",
    "        # End sentence of EOS\n",
    "        if eos == idx:\n",
    "            break\n",
    "\n",
    "        word = ''\n",
    "        if idx > 0:\n",
    "            word = idx2word_trans[idx]\n",
    "            output_sentence.append(word)\n",
    "\n",
    "        # Update the decoder input\n",
    "        # which is just the word just generated\n",
    "        target_seq[0, 0] = idx\n",
    "\n",
    "        # Update states\n",
    "        states_value = [h, c]\n",
    "        # states_value = [h] # gru\n",
    "\n",
    "    return ' '.join(output_sentence)"
   ]
  },
  {
   "cell_type": "code",
   "execution_count": 66,
   "metadata": {},
   "outputs": [
    {
     "name": "stdout",
     "output_type": "stream",
     "text": [
      "[[ 0  0  0  0  0  0  0  0  0  0  0  0  0  0  0  0  0  0  0  0  0  0  0  0\n",
      "   7 43  8 16  4 33  6  2 85]]\n",
      "-\n",
      "Input: find 2 consecutive odd integers whose sum is 56\n",
      "Translation: ['( 2 0 k 1 0 1 + 0 2 0 2 * + . )= . * . - . * . 1 . 1 = 0 ']\n",
      "Continue? [Y/n]Y\n",
      "[[ 0  0  0  0  0  0  0  0  0  0  0  0  0  0  0  0  0  0  0  0  0  0  1  6\n",
      "   3 40  8  4  2 79  7  1  4]]\n",
      "-\n",
      "Input: the sum of five consecutive integers is 0 . find the integers ?\n",
      "Translation: ['( x - . )+ . +( - . * - . )+( . * + )= . )= . < eos 0 eos <\n",
      "Continue? [Y/n]n\n"
     ]
    }
   ],
   "source": [
    "while True:\n",
    "    # Do some test translations\n",
    "    i = np.random.choice(len(input_texts))\n",
    "    input_seq = encoder_inputs[i:i+1]\n",
    "    print(input_seq)\n",
    "    translation = decode_sequence(input_seq)\n",
    "    print('-')\n",
    "    print('Input:', input_texts[i])\n",
    "    print('Translation:', translation)\n",
    "\n",
    "    ans = input(\"Continue? [Y/n]\")\n",
    "    if ans and ans.lower().startswith('n'):\n",
    "        break"
   ]
  },
  {
   "cell_type": "code",
   "execution_count": 67,
   "metadata": {
    "collapsed": true
   },
   "outputs": [],
   "source": [
    "example = [\"Two numbers have a difference of 10 and the sum of 34 . What are the numbers ?\"]"
   ]
  },
  {
   "cell_type": "code",
   "execution_count": 68,
   "metadata": {},
   "outputs": [
    {
     "name": "stdout",
     "output_type": "stream",
     "text": [
      "[[10, 12, 63, 23, 39, 3, 58, 15, 1, 6, 3, 120, 14, 25, 1, 12]]\n"
     ]
    }
   ],
   "source": [
    "example_sequences = tokenizer_inputs.texts_to_sequences(example)\n",
    "print(example_sequences)"
   ]
  },
  {
   "cell_type": "code",
   "execution_count": 69,
   "metadata": {},
   "outputs": [
    {
     "name": "stdout",
     "output_type": "stream",
     "text": [
      "[[  0   0   0   0   0   0   0   0   0   0   0   0   0   0   0   0   0  10\n",
      "   12  63  23  39   3  58  15   1   6   3 120  14  25   1  12]]\n"
     ]
    },
    {
     "data": {
      "text/plain": [
       "\"[' x y - = 0 . ', x y x y x 5 0 5 0 x y eos < ']\""
      ]
     },
     "execution_count": 69,
     "metadata": {},
     "output_type": "execute_result"
    }
   ],
   "source": [
    "example_inputs = pad_sequences(example_sequences, maxlen=max_len_input)\n",
    "print(example_inputs)\n",
    "example_translation = decode_sequence(example_inputs)\n",
    "example_translation"
   ]
  },
  {
   "cell_type": "code",
   "execution_count": null,
   "metadata": {
    "collapsed": true
   },
   "outputs": [],
   "source": []
  }
 ],
 "metadata": {
  "kernelspec": {
   "display_name": "Python 3",
   "language": "python",
   "name": "python3"
  },
  "language_info": {
   "codemirror_mode": {
    "name": "ipython",
    "version": 3
   },
   "file_extension": ".py",
   "mimetype": "text/x-python",
   "name": "python",
   "nbconvert_exporter": "python",
   "pygments_lexer": "ipython3",
   "version": "3.6.3"
  }
 },
 "nbformat": 4,
 "nbformat_minor": 2
}
