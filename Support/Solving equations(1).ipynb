{
 "cells": [
  {
   "cell_type": "code",
   "execution_count": 1,
   "metadata": {
    "collapsed": true
   },
   "outputs": [],
   "source": [
    "import sympy\n",
    "from sympy import solve, symbols,linsolve\n",
    "import numpy as np"
   ]
  },
  {
   "cell_type": "code",
   "execution_count": 2,
   "metadata": {
    "collapsed": true
   },
   "outputs": [],
   "source": [
    "vec1 = np.array([  8.88800000e+03,   1.00000000e+00,   1.00000000e+00,\n",
    "         0.00000000e+00,  -6.40000000e+01,\n",
    "         9.99900000e+03,   8.88800000e+03,   1.00000000e+00,\n",
    "        -2.00000000e+00,   0.00000000e+00,   \n",
    "        -1.60000000e+01,   9.99900000e+03,   0.00000000e+00,\n",
    "         0.00000000e+00,\n",
    "         0.00000000e+00,   0.00000000e+00])"
   ]
  },
  {
   "cell_type": "code",
   "execution_count": 3,
   "metadata": {
    "collapsed": true
   },
   "outputs": [],
   "source": [
    "vec2 = np.array([  8.88800000e+03,   1.00000000e+00,  -1.00000000e+00,\n",
    "         0.00000000e+00,   0.00000000e+00,   3.00000000e+00,\n",
    "         9.99900000e+03,   8.88800000e+03,   2.00000000e+00,\n",
    "        -5.00000000e+00,   0.00000000e+00,   0.00000000e+00,\n",
    "         1.20000000e+01,   9.99900000e+03,   0.00000000e+00,\n",
    "         0.00000000e+00,   0.00000000e+00,   0.00000000e+00,\n",
    "         0.00000000e+00,   0.00000000e+00,   0.00000000e+00])"
   ]
  },
  {
   "cell_type": "code",
   "execution_count": 4,
   "metadata": {
    "collapsed": true
   },
   "outputs": [],
   "source": [
    "vec3 = np.array([  8.88800000e+03,   1.00000000e+00,   1.00000000e+00,\n",
    "         0.00000000e+00,   0.00000000e+00,  -6.80000000e+01,\n",
    "         9.99900000e+03,   8.88800000e+03,   1.00000000e+00,\n",
    "        -1.00000000e+00,   0.00000000e+00,   0.00000000e+00,\n",
    "        -1.60000000e+01,   9.99900000e+03,   0.00000000e+00,\n",
    "         0.00000000e+00,   0.00000000e+00,   0.00000000e+00,\n",
    "         0.00000000e+00,   0.00000000e+00,   0.00000000e+00])"
   ]
  },
  {
   "cell_type": "code",
   "execution_count": 5,
   "metadata": {},
   "outputs": [
    {
     "data": {
      "text/plain": [
       "2"
      ]
     },
     "execution_count": 5,
     "metadata": {},
     "output_type": "execute_result"
    }
   ],
   "source": [
    "list(vec3).count(9999)"
   ]
  },
  {
   "cell_type": "code",
   "execution_count": 6,
   "metadata": {
    "collapsed": true
   },
   "outputs": [],
   "source": [
    "SHAPE = (3,7)"
   ]
  },
  {
   "cell_type": "code",
   "execution_count": 7,
   "metadata": {
    "collapsed": true
   },
   "outputs": [],
   "source": [
    "end_sent = 9999\n",
    "def count_eq(vector):\n",
    "    vector_sep = []\n",
    "    index = list(np.where(vector == end_sent))[0]\n",
    "    for i in index: \n",
    "        vector_sep.append(list(vector[i-4:i]))\n",
    "    return vector_sep"
   ]
  },
  {
   "cell_type": "code",
   "execution_count": 9,
   "metadata": {},
   "outputs": [
    {
     "data": {
      "text/plain": [
       "[[1.0, 1.0, 0.0, -64.0], [1.0, -2.0, 0.0, -16.0]]"
      ]
     },
     "execution_count": 9,
     "metadata": {},
     "output_type": "execute_result"
    }
   ],
   "source": [
    "list_input_eq = count_eq(vec1)\n",
    "list_input_eq"
   ]
  },
  {
   "cell_type": "code",
   "execution_count": 22,
   "metadata": {
    "collapsed": true
   },
   "outputs": [],
   "source": [
    "#list_input_eq = [first_eq,sec_eq,third_eq]\n",
    "def result_eq(list_input_eq):\n",
    "    x1,x2,x3 = symbols('x1,x2,x3')\n",
    "    unknown = sympy.Matrix((x1,x2,x3,1))\n",
    "    unknown = unknown.reshape(4,1)\n",
    "    if len(list_input_eq)>0\n",
    "        a = sympy.Matrix((list_input_eq[0]))\n",
    "        a = a.reshape(1,4)\n",
    "\n",
    "        eq_num_one = a*unknown\n",
    "        if len(list_input_eq)>1\n",
    "            b = sympy.Matrix((list_input_eq[1]))\n",
    "            b = b.reshape(1,4)\n",
    "\n",
    "            eq_num_two = b*unknown\n",
    "\n",
    "            if len(list_input_eq) == 3:\n",
    "                c = sympy.Matrix((list_input_eq[2]))\n",
    "                c = c.reshape(1,4)\n",
    "                eq_num_third = c*unknown\n",
    "                result = solve([eq_num_one , eq_num_two , eq_num_third], x1,x2,x3)\n",
    "                return result\n",
    "            else:\n",
    "                result = solve([eq_num_one , eq_num_two], x1,x2,x3)\n",
    "        else:\n",
    "            return result = solve([eq_num_one], x1,x2,x3)\n",
    "    else:\n",
    "        return [0]\n",
    "    return list(result.values())"
   ]
  },
  {
   "cell_type": "code",
   "execution_count": 23,
   "metadata": {},
   "outputs": [
    {
     "data": {
      "text/plain": [
       "[16.0000000000000, 48.0000000000000]"
      ]
     },
     "execution_count": 23,
     "metadata": {},
     "output_type": "execute_result"
    }
   ],
   "source": [
    "result_eq(list_input_eq)"
   ]
  },
  {
   "cell_type": "code",
   "execution_count": null,
   "metadata": {
    "collapsed": true
   },
   "outputs": [],
   "source": [
    "list_input_eq = [first_eq,sec_eq,third_eq]\n",
    "def result_eq(list_input_eq):"
   ]
  },
  {
   "cell_type": "code",
   "execution_count": 305,
   "metadata": {},
   "outputs": [
    {
     "name": "stdout",
     "output_type": "stream",
     "text": [
      "Matrix([[1.0*x1 + 1.0*x2 - 64.0]])\n",
      "Matrix([[1.0*x1 - 2.0*x2 - 16.0]])\n"
     ]
    },
    {
     "data": {
      "text/plain": [
       "{x2: 16.0000000000000, x1: 48.0000000000000}"
      ]
     },
     "execution_count": 305,
     "metadata": {},
     "output_type": "execute_result"
    }
   ],
   "source": [
    "result_eq([1.0, 1.0, 0.0, 0.0, -64.0],[1.0, -2.0, 0.0, 0.0, -16.0])"
   ]
  },
  {
   "cell_type": "code",
   "execution_count": 306,
   "metadata": {},
   "outputs": [
    {
     "data": {
      "text/plain": [
       "{x3: 30.0000000000000, x2: 16.0000000000000, x1: 48.0000000000000}"
      ]
     },
     "execution_count": 306,
     "metadata": {},
     "output_type": "execute_result"
    }
   ],
   "source": [
    "solve([1.0*x1 + 1.0*x2 - 64.0 ,1.0*x1 - 2.0*x2 - 16.0, 1.0*x3 - x2 - 14.0], x1,x2,x3,x4)"
   ]
  },
  {
   "cell_type": "code",
   "execution_count": null,
   "metadata": {
    "collapsed": true
   },
   "outputs": [],
   "source": []
  }
 ],
 "metadata": {
  "kernelspec": {
   "display_name": "Python 3",
   "language": "python",
   "name": "python3"
  },
  "language_info": {
   "codemirror_mode": {
    "name": "ipython",
    "version": 3
   },
   "file_extension": ".py",
   "mimetype": "text/x-python",
   "name": "python",
   "nbconvert_exporter": "python",
   "pygments_lexer": "ipython3",
   "version": "3.6.3"
  }
 },
 "nbformat": 4,
 "nbformat_minor": 2
}
