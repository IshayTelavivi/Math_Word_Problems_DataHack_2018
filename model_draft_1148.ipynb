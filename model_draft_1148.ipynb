{
 "cells": [
  {
   "cell_type": "code",
   "execution_count": 149,
   "metadata": {
    "collapsed": true
   },
   "outputs": [
    {
     "name": "stdout",
     "output_type": "stream",
     "text": [
      "Requirement already satisfied: joblib in /usr/local/lib/python3.6/site-packages (0.12.5)\n",
      "\u001b[31mmenpo 0.8.1 has requirement matplotlib<2.0,>=1.4, but you'll have matplotlib 2.2.3 which is incompatible.\u001b[0m\n",
      "\u001b[31mmenpo 0.8.1 has requirement pillow<5.0,>=3.0, but you'll have pillow 5.2.0 which is incompatible.\u001b[0m\n",
      "\u001b[31mmenpo 0.8.1 has requirement scipy<1.0,>=0.16, but you'll have scipy 1.1.0 which is incompatible.\u001b[0m\n",
      "\u001b[33mYou are using pip version 10.0.1, however version 18.1 is available.\n",
      "You should consider upgrading via the 'pip install --upgrade pip' command.\u001b[0m\n"
     ]
    }
   ],
   "source": [
    "!pip install joblib"
   ]
  },
  {
   "cell_type": "code",
   "execution_count": 151,
   "metadata": {
    "collapsed": true
   },
   "outputs": [],
   "source": [
    "import pandas as pd\n",
    "import matplotlib.pyplot as plt\n",
    "from tqdm import tqdm_notebook as tqdm\n",
    "from nltk.tokenize import PunktSentenceTokenizer\n",
    "from nltk import wordpunct_tokenize, pos_tag, RegexpParser\n",
    "from nltk.corpus import stopwords\n",
    "stop_words = set(stopwords.words('english')) - set(['more'])\n",
    "from nltk.stem import PorterStemmer\n",
    "import re\n",
    "import sympy\n",
    "from random import randint\n",
    "from collections import Counter\n",
    "from functools import reduce\n",
    "from keras.utils import to_categorical\n",
    "import nltk\n",
    "from keras.preprocessing.sequence import pad_sequences\n",
    "import numpy as np\n",
    "import joblib\n",
    "\n",
    "%matplotlib inline"
   ]
  },
  {
   "cell_type": "code",
   "execution_count": 150,
   "metadata": {},
   "outputs": [
    {
     "name": "stdout",
     "output_type": "stream",
     "text": [
      "[nltk_data] Downloading package stopwords to /root/nltk_data...\n",
      "[nltk_data]   Package stopwords is already up-to-date!\n"
     ]
    },
    {
     "data": {
      "text/plain": [
       "True"
      ]
     },
     "execution_count": 150,
     "metadata": {},
     "output_type": "execute_result"
    }
   ],
   "source": [
    "import nltk\n",
    "nltk.download('stopwords')"
   ]
  },
  {
   "cell_type": "code",
   "execution_count": 152,
   "metadata": {
    "collapsed": true
   },
   "outputs": [],
   "source": [
    "from keras.models import Model\n",
    "from keras.layers import Input, LSTM, GRU, Dense, Embedding\n",
    "import keras.backend as K\n",
    "if len(K.tensorflow_backend._get_available_gpus()) > 0:\n",
    "    from keras.layers import CuDNNLSTM as LSTM\n",
    "    from keras.layers import CuDNNGRU as GRU"
   ]
  },
  {
   "cell_type": "code",
   "execution_count": 153,
   "metadata": {
    "collapsed": true
   },
   "outputs": [],
   "source": [
    "numerals = set('1234567890,.-')\n",
    "textuals = set('abcdefghijklmnopqrstuvwxyz-.?')"
   ]
  },
  {
   "cell_type": "markdown",
   "metadata": {},
   "source": [
    "## First manipulations"
   ]
  },
  {
   "cell_type": "markdown",
   "metadata": {},
   "source": [
    "### Train"
   ]
  },
  {
   "cell_type": "code",
   "execution_count": 154,
   "metadata": {},
   "outputs": [
    {
     "data": {
      "text/html": [
       "<div>\n",
       "<style scoped>\n",
       "    .dataframe tbody tr th:only-of-type {\n",
       "        vertical-align: middle;\n",
       "    }\n",
       "\n",
       "    .dataframe tbody tr th {\n",
       "        vertical-align: top;\n",
       "    }\n",
       "\n",
       "    .dataframe thead th {\n",
       "        text-align: right;\n",
       "    }\n",
       "</style>\n",
       "<table border=\"1\" class=\"dataframe\">\n",
       "  <thead>\n",
       "    <tr style=\"text-align: right;\">\n",
       "      <th></th>\n",
       "      <th>text</th>\n",
       "      <th>equations</th>\n",
       "      <th>ans_simple</th>\n",
       "    </tr>\n",
       "    <tr>\n",
       "      <th>index</th>\n",
       "      <th></th>\n",
       "      <th></th>\n",
       "      <th></th>\n",
       "    </tr>\n",
       "  </thead>\n",
       "  <tbody>\n",
       "    <tr>\n",
       "      <th>1043</th>\n",
       "      <td>one number is 11 more than another number. fin...</td>\n",
       "      <td>[unkn: x,y, equ: x=y+11, equ: 3*x=4*y+4]</td>\n",
       "      <td>[40, 29]</td>\n",
       "    </tr>\n",
       "    <tr>\n",
       "      <th>1617</th>\n",
       "      <td>one number is 3 less than a second number. twi...</td>\n",
       "      <td>[unkn: x,y, equ: x + 3 = y, equ: 2*y + 12 = 5*x]</td>\n",
       "      <td>[6, 9]</td>\n",
       "    </tr>\n",
       "    <tr>\n",
       "      <th>49</th>\n",
       "      <td>find two numbers whose sum is 62 and whose dif...</td>\n",
       "      <td>[unkn: x,y, equ: x+y=62, equ: x-y=6]</td>\n",
       "      <td>[34, 28]</td>\n",
       "    </tr>\n",
       "    <tr>\n",
       "      <th>1032</th>\n",
       "      <td>the sum of two numbers is 68. their difference...</td>\n",
       "      <td>[unkn: x,y, equ: x+y=68, equ: x-y=16]</td>\n",
       "      <td>[42, 26]</td>\n",
       "    </tr>\n",
       "    <tr>\n",
       "      <th>1256</th>\n",
       "      <td>the sum of two numbers is 97. the difference o...</td>\n",
       "      <td>[unkn: x,y, equ: x+y=97, equ: x-y=57]</td>\n",
       "      <td>[77, 20]</td>\n",
       "    </tr>\n",
       "  </tbody>\n",
       "</table>\n",
       "</div>"
      ],
      "text/plain": [
       "                                                    text  \\\n",
       "index                                                      \n",
       "1043   one number is 11 more than another number. fin...   \n",
       "1617   one number is 3 less than a second number. twi...   \n",
       "49     find two numbers whose sum is 62 and whose dif...   \n",
       "1032   the sum of two numbers is 68. their difference...   \n",
       "1256   the sum of two numbers is 97. the difference o...   \n",
       "\n",
       "                                              equations ans_simple  \n",
       "index                                                               \n",
       "1043           [unkn: x,y, equ: x=y+11, equ: 3*x=4*y+4]   [40, 29]  \n",
       "1617   [unkn: x,y, equ: x + 3 = y, equ: 2*y + 12 = 5*x]     [6, 9]  \n",
       "49                 [unkn: x,y, equ: x+y=62, equ: x-y=6]   [34, 28]  \n",
       "1032              [unkn: x,y, equ: x+y=68, equ: x-y=16]   [42, 26]  \n",
       "1256              [unkn: x,y, equ: x+y=97, equ: x-y=57]   [77, 20]  "
      ]
     },
     "execution_count": 154,
     "metadata": {},
     "output_type": "execute_result"
    }
   ],
   "source": [
    "train = pd.read_json('/floyd/input/datahack/number_word_std.dev.json')\n",
    "train.set_index('index', inplace=True)\n",
    "train = train.loc[:,['text', 'equations', 'ans_simple']]\n",
    "train.text = train.text.str.lower()\n",
    "train.head()"
   ]
  },
  {
   "cell_type": "markdown",
   "metadata": {},
   "source": [
    "### Test"
   ]
  },
  {
   "cell_type": "code",
   "execution_count": 155,
   "metadata": {},
   "outputs": [
    {
     "data": {
      "text/html": [
       "<div>\n",
       "<style scoped>\n",
       "    .dataframe tbody tr th:only-of-type {\n",
       "        vertical-align: middle;\n",
       "    }\n",
       "\n",
       "    .dataframe tbody tr th {\n",
       "        vertical-align: top;\n",
       "    }\n",
       "\n",
       "    .dataframe thead th {\n",
       "        text-align: right;\n",
       "    }\n",
       "</style>\n",
       "<table border=\"1\" class=\"dataframe\">\n",
       "  <thead>\n",
       "    <tr style=\"text-align: right;\">\n",
       "      <th></th>\n",
       "      <th>text</th>\n",
       "      <th>equations</th>\n",
       "      <th>ans_simple</th>\n",
       "    </tr>\n",
       "    <tr>\n",
       "      <th>index</th>\n",
       "      <th></th>\n",
       "      <th></th>\n",
       "      <th></th>\n",
       "    </tr>\n",
       "  </thead>\n",
       "  <tbody>\n",
       "    <tr>\n",
       "      <th>1001</th>\n",
       "      <td>the difference of two integers is 9. five time...</td>\n",
       "      <td>[unkn: x,y, equ: x-y=9, equ: 5*y=3*x+7]</td>\n",
       "      <td>[26, 17]</td>\n",
       "    </tr>\n",
       "    <tr>\n",
       "      <th>1175</th>\n",
       "      <td>two numbers differ by 3. four times the lesser...</td>\n",
       "      <td>[unkn: x,y, equ: x-y=3, equ: 4*y-3*x=7]</td>\n",
       "      <td>[16, 19]</td>\n",
       "    </tr>\n",
       "    <tr>\n",
       "      <th>1269</th>\n",
       "      <td>one number is 9 more than the other number.  t...</td>\n",
       "      <td>[unkn: x,y, equ: x = y + 9, equ: 7*y - 2*x = 157]</td>\n",
       "      <td>[44, 35]</td>\n",
       "    </tr>\n",
       "    <tr>\n",
       "      <th>0</th>\n",
       "      <td>the difference between two numbers is -38. two...</td>\n",
       "      <td>[unkn: x,y, equ: x-y=(-38), equ: 2*x-5*y=(-217)]</td>\n",
       "      <td>[9, 47]</td>\n",
       "    </tr>\n",
       "    <tr>\n",
       "      <th>1734</th>\n",
       "      <td>one number is 4 less than another. the differe...</td>\n",
       "      <td>[unkn: x, y, equ: x = y - 4, equ: 2*x - 5*y = ...</td>\n",
       "      <td>[-3, 1]</td>\n",
       "    </tr>\n",
       "  </tbody>\n",
       "</table>\n",
       "</div>"
      ],
      "text/plain": [
       "                                                    text  \\\n",
       "index                                                      \n",
       "1001   the difference of two integers is 9. five time...   \n",
       "1175   two numbers differ by 3. four times the lesser...   \n",
       "1269   one number is 9 more than the other number.  t...   \n",
       "0      the difference between two numbers is -38. two...   \n",
       "1734   one number is 4 less than another. the differe...   \n",
       "\n",
       "                                               equations ans_simple  \n",
       "index                                                                \n",
       "1001             [unkn: x,y, equ: x-y=9, equ: 5*y=3*x+7]   [26, 17]  \n",
       "1175             [unkn: x,y, equ: x-y=3, equ: 4*y-3*x=7]   [16, 19]  \n",
       "1269   [unkn: x,y, equ: x = y + 9, equ: 7*y - 2*x = 157]   [44, 35]  \n",
       "0       [unkn: x,y, equ: x-y=(-38), equ: 2*x-5*y=(-217)]    [9, 47]  \n",
       "1734   [unkn: x, y, equ: x = y - 4, equ: 2*x - 5*y = ...    [-3, 1]  "
      ]
     },
     "execution_count": 155,
     "metadata": {},
     "output_type": "execute_result"
    }
   ],
   "source": [
    "test = pd.read_json('/floyd/input/datahack/number_word_std.test.json')\n",
    "test.set_index('index', inplace=True)\n",
    "test = test.loc[:,['text', 'equations', 'ans_simple']]\n",
    "test.text = test.text.str.lower()\n",
    "test.head()"
   ]
  },
  {
   "cell_type": "markdown",
   "metadata": {},
   "source": [
    "### Remove commas from number representation"
   ]
  },
  {
   "cell_type": "code",
   "execution_count": 156,
   "metadata": {
    "collapsed": true
   },
   "outputs": [],
   "source": [
    "def remove_commas_from_numbers(text):\n",
    "    return ' '.join([(s.replace(',', '') if set(s) <= numerals else s) for s in text.split()])"
   ]
  },
  {
   "cell_type": "code",
   "execution_count": 157,
   "metadata": {
    "collapsed": true
   },
   "outputs": [],
   "source": [
    "# Example\n",
    "# remove_commas_from_numbers('I have 2,123 ILS')\n",
    "# remove_commas_from_numbers('I gave me 2,123.')"
   ]
  },
  {
   "cell_type": "markdown",
   "metadata": {},
   "source": [
    "### Train"
   ]
  },
  {
   "cell_type": "code",
   "execution_count": 158,
   "metadata": {
    "collapsed": true
   },
   "outputs": [],
   "source": [
    "train.text = train.text.apply(remove_commas_from_numbers)"
   ]
  },
  {
   "cell_type": "markdown",
   "metadata": {},
   "source": [
    "### Test"
   ]
  },
  {
   "cell_type": "code",
   "execution_count": 159,
   "metadata": {
    "collapsed": true
   },
   "outputs": [],
   "source": [
    "test.text = test.text.apply(remove_commas_from_numbers)"
   ]
  },
  {
   "cell_type": "markdown",
   "metadata": {},
   "source": [
    "## Filtering questions in the train"
   ]
  },
  {
   "cell_type": "markdown",
   "metadata": {},
   "source": [
    "#### Problematic syntax"
   ]
  },
  {
   "cell_type": "code",
   "execution_count": 160,
   "metadata": {
    "collapsed": true
   },
   "outputs": [],
   "source": [
    "def is_legit_token(token):\n",
    "    if set(token) <= numerals:\n",
    "        return True\n",
    "    if set(token) <= textuals:\n",
    "        return True\n",
    "    return False"
   ]
  },
  {
   "cell_type": "code",
   "execution_count": 161,
   "metadata": {
    "collapsed": true
   },
   "outputs": [],
   "source": [
    "# Examples:\n",
    "# [is_legit_token(x) for x in ['ab', '12', 'a1', '12.', 'ab.']]"
   ]
  },
  {
   "cell_type": "code",
   "execution_count": 162,
   "metadata": {
    "collapsed": true
   },
   "outputs": [],
   "source": [
    "def is_syntactic(text):\n",
    "    return all(map(is_legit_token, text.split()))"
   ]
  },
  {
   "cell_type": "code",
   "execution_count": 163,
   "metadata": {
    "collapsed": true
   },
   "outputs": [],
   "source": [
    "# Examples of problematic texts\n",
    "# train.loc[~train.text.apply(is_syntactic)].text.sample(5).values"
   ]
  },
  {
   "cell_type": "code",
   "execution_count": 164,
   "metadata": {
    "collapsed": true
   },
   "outputs": [],
   "source": [
    "train = train.loc[train.text.apply(is_syntactic)]"
   ]
  },
  {
   "cell_type": "markdown",
   "metadata": {},
   "source": [
    "#### Too-difficult"
   ]
  },
  {
   "cell_type": "code",
   "execution_count": 165,
   "metadata": {
    "collapsed": true
   },
   "outputs": [],
   "source": [
    "forbidden_words = ['consecutive', 'reciprocal', 'factor', 'factors', \n",
    "                   'product', 'digit', 'many', 'square', 'squares', \n",
    "                   'sequence', 'opposite', 'quotient', 'first 100', \n",
    "                   'multiples', 'next', '+', '%', '^', '/']\n",
    "pure_indices = []\n",
    "for idx, text in train.text.iteritems():\n",
    "    conteminated = any((forbidden in text for forbidden in forbidden_words))\n",
    "    if not conteminated:\n",
    "        pure_indices.append(idx)"
   ]
  },
  {
   "cell_type": "code",
   "execution_count": 166,
   "metadata": {
    "collapsed": true
   },
   "outputs": [],
   "source": [
    "train = train.loc[pure_indices]"
   ]
  },
  {
   "cell_type": "code",
   "execution_count": 167,
   "metadata": {},
   "outputs": [
    {
     "data": {
      "text/plain": [
       "64"
      ]
     },
     "execution_count": 167,
     "metadata": {},
     "output_type": "execute_result"
    }
   ],
   "source": [
    "len(train)"
   ]
  },
  {
   "cell_type": "markdown",
   "metadata": {},
   "source": [
    "# Preprocessing"
   ]
  },
  {
   "cell_type": "markdown",
   "metadata": {},
   "source": [
    "## Replace numeric laterals"
   ]
  },
  {
   "cell_type": "markdown",
   "metadata": {},
   "source": [
    "* 'one' & 'two' are excluded\n",
    "* 'twice' is replaced by 'two times'"
   ]
  },
  {
   "cell_type": "code",
   "execution_count": 168,
   "metadata": {
    "collapsed": true
   },
   "outputs": [],
   "source": [
    "rep = {'three': '3', 'four': '4', \n",
    "       'five': '5', 'six': '6', 'seven': '7', 'eight': '8', \n",
    "       'nine': '9', 'ten': '10', 'eleven': '11', 'twelve': '12',\n",
    "       'twice': 'two times','fifteen': '15'}"
   ]
  },
  {
   "cell_type": "code",
   "execution_count": 169,
   "metadata": {
    "collapsed": true
   },
   "outputs": [],
   "source": [
    "def rep_string_numerals(text):\n",
    "    return reduce(lambda x, y: x.replace(y[0], y[1]), rep.items(),  text)"
   ]
  },
  {
   "cell_type": "markdown",
   "metadata": {},
   "source": [
    "### Train"
   ]
  },
  {
   "cell_type": "code",
   "execution_count": 170,
   "metadata": {},
   "outputs": [
    {
     "data": {
      "text/plain": [
       "index\n",
       "1043    one number is 11 more than another number. fin...\n",
       "1617    one number is 3 less than a second number. two...\n",
       "49      find two numbers whose sum is 62 and whose dif...\n",
       "1032    the sum of two numbers is 68. their difference...\n",
       "1256    the sum of two numbers is 97. the difference o...\n",
       "Name: text, dtype: object"
      ]
     },
     "execution_count": 170,
     "metadata": {},
     "output_type": "execute_result"
    }
   ],
   "source": [
    "train.text = train.text.map(rep_string_numerals)\n",
    "train.text.head()"
   ]
  },
  {
   "cell_type": "markdown",
   "metadata": {},
   "source": [
    "### Test"
   ]
  },
  {
   "cell_type": "code",
   "execution_count": 171,
   "metadata": {},
   "outputs": [
    {
     "data": {
      "text/plain": [
       "index\n",
       "1001    the difference of two integers is 9. 5 times t...\n",
       "1175    two numbers differ by 3. 4 times the lesser di...\n",
       "1269    one number is 9 more than the other number. th...\n",
       "0       the difference between two numbers is -38. two...\n",
       "1734    one number is 4 less than another. the differe...\n",
       "Name: text, dtype: object"
      ]
     },
     "execution_count": 171,
     "metadata": {},
     "output_type": "execute_result"
    }
   ],
   "source": [
    "test.text = test.text.map(rep_string_numerals)\n",
    "test.text.head()"
   ]
  },
  {
   "cell_type": "markdown",
   "metadata": {},
   "source": [
    "## Tokenizing"
   ]
  },
  {
   "cell_type": "markdown",
   "metadata": {},
   "source": [
    "Using wordpunkt due to the point at the end of the sentences."
   ]
  },
  {
   "cell_type": "code",
   "execution_count": 172,
   "metadata": {
    "collapsed": true
   },
   "outputs": [],
   "source": [
    "#train.text"
   ]
  },
  {
   "cell_type": "markdown",
   "metadata": {},
   "source": [
    "### Train"
   ]
  },
  {
   "cell_type": "code",
   "execution_count": 173,
   "metadata": {},
   "outputs": [
    {
     "data": {
      "text/plain": [
       "index\n",
       "1043    [one, number, is, 11, more, than, another, num...\n",
       "1617    [one, number, is, 3, less, than, a, second, nu...\n",
       "49      [find, two, numbers, whose, sum, is, 62, and, ...\n",
       "1032    [the, sum, of, two, numbers, is, 68, ., their,...\n",
       "1256    [the, sum, of, two, numbers, is, 97, ., the, d...\n",
       "Name: text, dtype: object"
      ]
     },
     "execution_count": 173,
     "metadata": {},
     "output_type": "execute_result"
    }
   ],
   "source": [
    "train.text = train.text.map(wordpunct_tokenize)\n",
    "train.text.head()"
   ]
  },
  {
   "cell_type": "markdown",
   "metadata": {},
   "source": [
    "### Test"
   ]
  },
  {
   "cell_type": "code",
   "execution_count": 174,
   "metadata": {},
   "outputs": [
    {
     "data": {
      "text/plain": [
       "index\n",
       "1001    [the, difference, of, two, integers, is, 9, .,...\n",
       "1175    [two, numbers, differ, by, 3, ., 4, times, the...\n",
       "1269    [one, number, is, 9, more, than, the, other, n...\n",
       "0       [the, difference, between, two, numbers, is, -...\n",
       "1734    [one, number, is, 4, less, than, another, ., t...\n",
       "Name: text, dtype: object"
      ]
     },
     "execution_count": 174,
     "metadata": {},
     "output_type": "execute_result"
    }
   ],
   "source": [
    "test.text = test.text.map(wordpunct_tokenize)\n",
    "test.text.head()"
   ]
  },
  {
   "cell_type": "markdown",
   "metadata": {},
   "source": [
    "## Clean stopwords"
   ]
  },
  {
   "cell_type": "code",
   "execution_count": 175,
   "metadata": {
    "collapsed": true
   },
   "outputs": [],
   "source": [
    "def clean_stopwords(lst):\n",
    "    return list(filter(lambda token: token not in stop_words, lst))"
   ]
  },
  {
   "cell_type": "markdown",
   "metadata": {},
   "source": [
    "### Train"
   ]
  },
  {
   "cell_type": "code",
   "execution_count": 176,
   "metadata": {},
   "outputs": [
    {
     "data": {
      "text/plain": [
       "index\n",
       "1043    [one, number, 11, more, another, number, ., fi...\n",
       "1617    [one, number, 3, less, second, number, ., two,...\n",
       "49      [find, two, numbers, whose, sum, 62, whose, di...\n",
       "1032    [sum, two, numbers, 68, ., difference, 16, ., ...\n",
       "1256    [sum, two, numbers, 97, ., difference, two, nu...\n",
       "Name: text, dtype: object"
      ]
     },
     "execution_count": 176,
     "metadata": {},
     "output_type": "execute_result"
    }
   ],
   "source": [
    "train.text = train.text.map(clean_stopwords)\n",
    "train.text.head()"
   ]
  },
  {
   "cell_type": "markdown",
   "metadata": {},
   "source": [
    "### Test"
   ]
  },
  {
   "cell_type": "code",
   "execution_count": 177,
   "metadata": {},
   "outputs": [
    {
     "data": {
      "text/plain": [
       "index\n",
       "1001    [difference, two, integers, 9, ., 5, times, sm...\n",
       "1175    [two, numbers, differ, 3, ., 4, times, lesser,...\n",
       "1269    [one, number, 9, more, number, ., difference, ...\n",
       "0       [difference, two, numbers, -, 38, ., two, time...\n",
       "1734    [one, number, 4, less, another, ., difference,...\n",
       "Name: text, dtype: object"
      ]
     },
     "execution_count": 177,
     "metadata": {},
     "output_type": "execute_result"
    }
   ],
   "source": [
    "test.text = test.text.map(clean_stopwords)\n",
    "test.text.head()"
   ]
  },
  {
   "cell_type": "markdown",
   "metadata": {},
   "source": [
    "## Stemming"
   ]
  },
  {
   "cell_type": "code",
   "execution_count": 178,
   "metadata": {
    "collapsed": true
   },
   "outputs": [],
   "source": [
    "stemmer = PorterStemmer()"
   ]
  },
  {
   "cell_type": "code",
   "execution_count": 179,
   "metadata": {
    "collapsed": true
   },
   "outputs": [],
   "source": [
    "def stem_tokens(lst):\n",
    "    return [stemmer.stem(token) for token in lst]"
   ]
  },
  {
   "cell_type": "markdown",
   "metadata": {},
   "source": [
    "### Train"
   ]
  },
  {
   "cell_type": "code",
   "execution_count": 180,
   "metadata": {
    "scrolled": true
   },
   "outputs": [
    {
     "data": {
      "text/plain": [
       "index\n",
       "1043    [one, number, 11, more, anoth, number, ., find...\n",
       "1617    [one, number, 3, less, second, number, ., two,...\n",
       "49      [find, two, number, whose, sum, 62, whose, dif...\n",
       "1032    [sum, two, number, 68, ., differ, 16, ., numbe...\n",
       "1256    [sum, two, number, 97, ., differ, two, number,...\n",
       "Name: text, dtype: object"
      ]
     },
     "execution_count": 180,
     "metadata": {},
     "output_type": "execute_result"
    }
   ],
   "source": [
    "train.text = train.text.apply(stem_tokens)\n",
    "train.text.head()"
   ]
  },
  {
   "cell_type": "markdown",
   "metadata": {},
   "source": [
    "### Test"
   ]
  },
  {
   "cell_type": "code",
   "execution_count": 181,
   "metadata": {},
   "outputs": [
    {
     "data": {
      "text/plain": [
       "index\n",
       "1001    [differ, two, integ, 9, ., 5, time, smaller, 7...\n",
       "1175    [two, number, differ, 3, ., 4, time, lesser, d...\n",
       "1269    [one, number, 9, more, number, ., differ, 7, t...\n",
       "0       [differ, two, number, -, 38, ., two, time, sma...\n",
       "1734    [one, number, 4, less, anoth, ., differ, two, ...\n",
       "Name: text, dtype: object"
      ]
     },
     "execution_count": 181,
     "metadata": {},
     "output_type": "execute_result"
    }
   ],
   "source": [
    "test.text = test.text.apply(stem_tokens)\n",
    "test.text.head()"
   ]
  },
  {
   "cell_type": "markdown",
   "metadata": {},
   "source": [
    "# Data enrichment"
   ]
  },
  {
   "cell_type": "markdown",
   "metadata": {},
   "source": [
    "Only for equations with full-compatibility between the numbers in the question to the numbers in the equations."
   ]
  },
  {
   "cell_type": "code",
   "execution_count": 182,
   "metadata": {
    "collapsed": true
   },
   "outputs": [],
   "source": [
    "nums_in_text = train.text.apply(lambda lst: sorted([x for x in lst if x.isdigit()]))"
   ]
  },
  {
   "cell_type": "code",
   "execution_count": 183,
   "metadata": {
    "collapsed": true
   },
   "outputs": [],
   "source": [
    "nums_in_equations = train.equations.apply(lambda lst: sorted(re.findall('\\d+', ' '.join(lst))))"
   ]
  },
  {
   "cell_type": "code",
   "execution_count": 184,
   "metadata": {},
   "outputs": [
    {
     "data": {
      "text/html": [
       "<div>\n",
       "<style scoped>\n",
       "    .dataframe tbody tr th:only-of-type {\n",
       "        vertical-align: middle;\n",
       "    }\n",
       "\n",
       "    .dataframe tbody tr th {\n",
       "        vertical-align: top;\n",
       "    }\n",
       "\n",
       "    .dataframe thead th {\n",
       "        text-align: right;\n",
       "    }\n",
       "</style>\n",
       "<table border=\"1\" class=\"dataframe\">\n",
       "  <thead>\n",
       "    <tr style=\"text-align: right;\">\n",
       "      <th></th>\n",
       "      <th>nums_in_equations</th>\n",
       "      <th>nums_in_text</th>\n",
       "    </tr>\n",
       "    <tr>\n",
       "      <th>index</th>\n",
       "      <th></th>\n",
       "      <th></th>\n",
       "    </tr>\n",
       "  </thead>\n",
       "  <tbody>\n",
       "    <tr>\n",
       "      <th>1043</th>\n",
       "      <td>[11, 3, 4, 4]</td>\n",
       "      <td>[11, 3, 4, 4]</td>\n",
       "    </tr>\n",
       "    <tr>\n",
       "      <th>1617</th>\n",
       "      <td>[12, 2, 3, 5]</td>\n",
       "      <td>[12, 3, 5]</td>\n",
       "    </tr>\n",
       "    <tr>\n",
       "      <th>49</th>\n",
       "      <td>[6, 62]</td>\n",
       "      <td>[6, 62]</td>\n",
       "    </tr>\n",
       "    <tr>\n",
       "      <th>1032</th>\n",
       "      <td>[16, 68]</td>\n",
       "      <td>[16, 68]</td>\n",
       "    </tr>\n",
       "    <tr>\n",
       "      <th>1256</th>\n",
       "      <td>[57, 97]</td>\n",
       "      <td>[57, 97]</td>\n",
       "    </tr>\n",
       "  </tbody>\n",
       "</table>\n",
       "</div>"
      ],
      "text/plain": [
       "      nums_in_equations   nums_in_text\n",
       "index                                 \n",
       "1043      [11, 3, 4, 4]  [11, 3, 4, 4]\n",
       "1617      [12, 2, 3, 5]     [12, 3, 5]\n",
       "49              [6, 62]        [6, 62]\n",
       "1032           [16, 68]       [16, 68]\n",
       "1256           [57, 97]       [57, 97]"
      ]
     },
     "execution_count": 184,
     "metadata": {},
     "output_type": "execute_result"
    }
   ],
   "source": [
    "compare = pd.DataFrame({'nums_in_equations': nums_in_equations, 'nums_in_text': nums_in_text})\n",
    "compare.head()"
   ]
  },
  {
   "cell_type": "code",
   "execution_count": 185,
   "metadata": {},
   "outputs": [
    {
     "data": {
      "text/plain": [
       "33"
      ]
     },
     "execution_count": 185,
     "metadata": {},
     "output_type": "execute_result"
    }
   ],
   "source": [
    "enriched_questions = train.loc[compare.nums_in_equations == compare.nums_in_text]\n",
    "len(enriched_questions)"
   ]
  },
  {
   "cell_type": "markdown",
   "metadata": {},
   "source": [
    "### Same numbers exactly"
   ]
  },
  {
   "cell_type": "code",
   "execution_count": 186,
   "metadata": {
    "collapsed": true
   },
   "outputs": [],
   "source": [
    "nums_in_equations = train.equations.apply(lambda lst: sorted(re.findall('\\d+', ' '.join(lst))))"
   ]
  },
  {
   "cell_type": "code",
   "execution_count": 187,
   "metadata": {},
   "outputs": [
    {
     "data": {
      "text/plain": [
       "33"
      ]
     },
     "execution_count": 187,
     "metadata": {},
     "output_type": "execute_result"
    }
   ],
   "source": [
    "same_nums = train.loc[nums_in_equations == nums_in_text].index\n",
    "enriched_questions = enriched_questions.loc[enriched_questions.index.isin(same_nums)]\n",
    "len(enriched_questions)"
   ]
  },
  {
   "cell_type": "markdown",
   "metadata": {},
   "source": [
    "### Enrichment"
   ]
  },
  {
   "cell_type": "code",
   "execution_count": 188,
   "metadata": {
    "collapsed": true
   },
   "outputs": [],
   "source": [
    "def enrich_single(tokenized, eqs, n=5):\n",
    "    texts = []\n",
    "    equations = []     \n",
    "    \n",
    "    nums = list(filter(lambda token: token.isdigit(), tokenized))\n",
    "   \n",
    "    for i in range(n):\n",
    "        reps = [str(randint(-100, 100)) for _ in nums]\n",
    "        rep_dict = dict(zip(nums, reps))  \n",
    "        \n",
    "        f1 = lambda token: rep_dict[token] if token in rep_dict else token\n",
    "        new_text = [f1(token) for token in tokenized]\n",
    "        texts.append(new_text)\n",
    "        \n",
    "        f2 = lambda sent: reduce(lambda text, rep_tup: text.replace(*rep_tup), rep_dict.items(), sent)\n",
    "        new_eqns = [f2(eq) for eq in eqs]\n",
    "        equations.append(new_eqns)\n",
    "    \n",
    "    return list(zip(texts, equations))"
   ]
  },
  {
   "cell_type": "code",
   "execution_count": 189,
   "metadata": {
    "collapsed": true
   },
   "outputs": [],
   "source": [
    "def enrich(questions, n=1000):\n",
    "    pairs = []\n",
    "    for idx, x in questions.iterrows():\n",
    "        pairs.extend(enrich_single(x.text, x.equations, n))\n",
    "    return pairs"
   ]
  },
  {
   "cell_type": "code",
   "execution_count": 190,
   "metadata": {},
   "outputs": [
    {
     "data": {
      "text/plain": [
       "(33000, 2)"
      ]
     },
     "execution_count": 190,
     "metadata": {},
     "output_type": "execute_result"
    }
   ],
   "source": [
    "texts, eqs = list(zip(*enrich(enriched_questions)))\n",
    "train_enriched = pd.DataFrame({'text': texts, 'equations': eqs})\n",
    "train_enriched.shape"
   ]
  },
  {
   "cell_type": "code",
   "execution_count": 191,
   "metadata": {},
   "outputs": [
    {
     "data": {
      "text/html": [
       "<div>\n",
       "<style scoped>\n",
       "    .dataframe tbody tr th:only-of-type {\n",
       "        vertical-align: middle;\n",
       "    }\n",
       "\n",
       "    .dataframe tbody tr th {\n",
       "        vertical-align: top;\n",
       "    }\n",
       "\n",
       "    .dataframe thead th {\n",
       "        text-align: right;\n",
       "    }\n",
       "</style>\n",
       "<table border=\"1\" class=\"dataframe\">\n",
       "  <thead>\n",
       "    <tr style=\"text-align: right;\">\n",
       "      <th></th>\n",
       "      <th>text</th>\n",
       "      <th>equations</th>\n",
       "    </tr>\n",
       "  </thead>\n",
       "  <tbody>\n",
       "    <tr>\n",
       "      <th>8704</th>\n",
       "      <td>[number, -16, less, anoth, ., sum, number, 3, ...</td>\n",
       "      <td>[unkn: m,n, equ: m = n - -16, equ: m + n = 3]</td>\n",
       "    </tr>\n",
       "    <tr>\n",
       "      <th>28960</th>\n",
       "      <td>[think, number, multipli, 97, answer, 52, ., n...</td>\n",
       "      <td>[unkn: x, equ: 97*x=52]</td>\n",
       "    </tr>\n",
       "    <tr>\n",
       "      <th>15467</th>\n",
       "      <td>[77, time, number, -31, more, -69, time, numbe...</td>\n",
       "      <td>[unkn: x, equ: 77*x=-69*x+--691]</td>\n",
       "    </tr>\n",
       "    <tr>\n",
       "      <th>8978</th>\n",
       "      <td>[number, -52, less, anoth, ., sum, number, 17,...</td>\n",
       "      <td>[unkn: m,n, equ: m = n - -52, equ: m + n = 17]</td>\n",
       "    </tr>\n",
       "    <tr>\n",
       "      <th>15696</th>\n",
       "      <td>[-30, time, number, 76, more, 21, time, number...</td>\n",
       "      <td>[unkn: x, equ: -210*x=21*x+76]</td>\n",
       "    </tr>\n",
       "    <tr>\n",
       "      <th>14099</th>\n",
       "      <td>[sum, two, number, 37, ., 73, time, one, numbe...</td>\n",
       "      <td>[unkn: x,y, equ: x + y = -447, equ: 7-44*x - -...</td>\n",
       "    </tr>\n",
       "    <tr>\n",
       "      <th>32964</th>\n",
       "      <td>[11, more, number, 22, time, number, ., number...</td>\n",
       "      <td>[unkn: n, equ: n + 11 = 22*n]</td>\n",
       "    </tr>\n",
       "    <tr>\n",
       "      <th>20715</th>\n",
       "      <td>[sum, two, number, -48, ., one, number, 10, ti...</td>\n",
       "      <td>[unkn: x,y, equ: x=10*y, equ: x+y=-48]</td>\n",
       "    </tr>\n",
       "    <tr>\n",
       "      <th>29602</th>\n",
       "      <td>[differ, two, number, 51, ., second, 49, less,...</td>\n",
       "      <td>[unkn: x,y, equ: x-y=891, equ: y = 89*x - 49]</td>\n",
       "    </tr>\n",
       "    <tr>\n",
       "      <th>32510</th>\n",
       "      <td>[6, more, number, 14, time, number, ., number, ?]</td>\n",
       "      <td>[unkn: n, equ: n + 6 = 14*n]</td>\n",
       "    </tr>\n",
       "  </tbody>\n",
       "</table>\n",
       "</div>"
      ],
      "text/plain": [
       "                                                    text  \\\n",
       "8704   [number, -16, less, anoth, ., sum, number, 3, ...   \n",
       "28960  [think, number, multipli, 97, answer, 52, ., n...   \n",
       "15467  [77, time, number, -31, more, -69, time, numbe...   \n",
       "8978   [number, -52, less, anoth, ., sum, number, 17,...   \n",
       "15696  [-30, time, number, 76, more, 21, time, number...   \n",
       "14099  [sum, two, number, 37, ., 73, time, one, numbe...   \n",
       "32964  [11, more, number, 22, time, number, ., number...   \n",
       "20715  [sum, two, number, -48, ., one, number, 10, ti...   \n",
       "29602  [differ, two, number, 51, ., second, 49, less,...   \n",
       "32510  [6, more, number, 14, time, number, ., number, ?]   \n",
       "\n",
       "                                               equations  \n",
       "8704       [unkn: m,n, equ: m = n - -16, equ: m + n = 3]  \n",
       "28960                            [unkn: x, equ: 97*x=52]  \n",
       "15467                   [unkn: x, equ: 77*x=-69*x+--691]  \n",
       "8978      [unkn: m,n, equ: m = n - -52, equ: m + n = 17]  \n",
       "15696                     [unkn: x, equ: -210*x=21*x+76]  \n",
       "14099  [unkn: x,y, equ: x + y = -447, equ: 7-44*x - -...  \n",
       "32964                      [unkn: n, equ: n + 11 = 22*n]  \n",
       "20715             [unkn: x,y, equ: x=10*y, equ: x+y=-48]  \n",
       "29602      [unkn: x,y, equ: x-y=891, equ: y = 89*x - 49]  \n",
       "32510                       [unkn: n, equ: n + 6 = 14*n]  "
      ]
     },
     "execution_count": 191,
     "metadata": {},
     "output_type": "execute_result"
    }
   ],
   "source": [
    "train_enriched.sample(10)"
   ]
  },
  {
   "cell_type": "markdown",
   "metadata": {},
   "source": [
    "### Concatenate the train dataframe and enriched dataframe"
   ]
  },
  {
   "cell_type": "code",
   "execution_count": 192,
   "metadata": {
    "collapsed": true
   },
   "outputs": [
    {
     "name": "stderr",
     "output_type": "stream",
     "text": [
      "/usr/local/lib/python3.6/site-packages/ipykernel_launcher.py:2: FutureWarning: Sorting because non-concatenation axis is not aligned. A future version\n",
      "of pandas will change to not sort by default.\n",
      "\n",
      "To accept the future behavior, pass 'sort=False'.\n",
      "\n",
      "To retain the current behavior and silence the warning, pass 'sort=True'.\n",
      "\n",
      "  \n"
     ]
    }
   ],
   "source": [
    "train_data_frame_to_concat = train[['equations','text']]\n",
    "train = pd.concat([train_data_frame_to_concat,train_enriched], ignore_index=True)"
   ]
  },
  {
   "cell_type": "code",
   "execution_count": 193,
   "metadata": {},
   "outputs": [
    {
     "data": {
      "text/plain": [
       "(33064, 2)"
      ]
     },
     "execution_count": 193,
     "metadata": {},
     "output_type": "execute_result"
    }
   ],
   "source": [
    "train.shape"
   ]
  },
  {
   "cell_type": "code",
   "execution_count": 194,
   "metadata": {},
   "outputs": [
    {
     "data": {
      "text/html": [
       "<div>\n",
       "<style scoped>\n",
       "    .dataframe tbody tr th:only-of-type {\n",
       "        vertical-align: middle;\n",
       "    }\n",
       "\n",
       "    .dataframe tbody tr th {\n",
       "        vertical-align: top;\n",
       "    }\n",
       "\n",
       "    .dataframe thead th {\n",
       "        text-align: right;\n",
       "    }\n",
       "</style>\n",
       "<table border=\"1\" class=\"dataframe\">\n",
       "  <thead>\n",
       "    <tr style=\"text-align: right;\">\n",
       "      <th></th>\n",
       "      <th>equations</th>\n",
       "      <th>text</th>\n",
       "    </tr>\n",
       "  </thead>\n",
       "  <tbody>\n",
       "    <tr>\n",
       "      <th>0</th>\n",
       "      <td>[unkn: x,y, equ: x=y+11, equ: 3*x=4*y+4]</td>\n",
       "      <td>[one, number, 11, more, anoth, number, ., find...</td>\n",
       "    </tr>\n",
       "    <tr>\n",
       "      <th>1</th>\n",
       "      <td>[unkn: x,y, equ: x + 3 = y, equ: 2*y + 12 = 5*x]</td>\n",
       "      <td>[one, number, 3, less, second, number, ., two,...</td>\n",
       "    </tr>\n",
       "    <tr>\n",
       "      <th>2</th>\n",
       "      <td>[unkn: x,y, equ: x+y=62, equ: x-y=6]</td>\n",
       "      <td>[find, two, number, whose, sum, 62, whose, dif...</td>\n",
       "    </tr>\n",
       "    <tr>\n",
       "      <th>3</th>\n",
       "      <td>[unkn: x,y, equ: x+y=68, equ: x-y=16]</td>\n",
       "      <td>[sum, two, number, 68, ., differ, 16, ., numbe...</td>\n",
       "    </tr>\n",
       "    <tr>\n",
       "      <th>4</th>\n",
       "      <td>[unkn: x,y, equ: x+y=97, equ: x-y=57]</td>\n",
       "      <td>[sum, two, number, 97, ., differ, two, number,...</td>\n",
       "    </tr>\n",
       "  </tbody>\n",
       "</table>\n",
       "</div>"
      ],
      "text/plain": [
       "                                          equations  \\\n",
       "0          [unkn: x,y, equ: x=y+11, equ: 3*x=4*y+4]   \n",
       "1  [unkn: x,y, equ: x + 3 = y, equ: 2*y + 12 = 5*x]   \n",
       "2              [unkn: x,y, equ: x+y=62, equ: x-y=6]   \n",
       "3             [unkn: x,y, equ: x+y=68, equ: x-y=16]   \n",
       "4             [unkn: x,y, equ: x+y=97, equ: x-y=57]   \n",
       "\n",
       "                                                text  \n",
       "0  [one, number, 11, more, anoth, number, ., find...  \n",
       "1  [one, number, 3, less, second, number, ., two,...  \n",
       "2  [find, two, number, whose, sum, 62, whose, dif...  \n",
       "3  [sum, two, number, 68, ., differ, 16, ., numbe...  \n",
       "4  [sum, two, number, 97, ., differ, two, number,...  "
      ]
     },
     "execution_count": 194,
     "metadata": {},
     "output_type": "execute_result"
    }
   ],
   "source": [
    "train.head()"
   ]
  },
  {
   "cell_type": "markdown",
   "metadata": {},
   "source": [
    "### Unify common bigrams"
   ]
  },
  {
   "cell_type": "code",
   "execution_count": 195,
   "metadata": {
    "collapsed": true
   },
   "outputs": [],
   "source": [
    "ubigrams = set(['two number', 'one number', 'second number', 'anoth number'])\n",
    "# NOTE: 'smaller number' is not ok because it can refer to both directions. \n",
    "# 'smaller' should be a unigram"
   ]
  },
  {
   "cell_type": "code",
   "execution_count": 196,
   "metadata": {
    "collapsed": true
   },
   "outputs": [],
   "source": [
    "def replace_ubigrams(lst):   \n",
    "    text = ' '.join(lst)\n",
    "    for ubigram in ubigrams:\n",
    "        unigram = '_'.join(ubigram.split())\n",
    "        text = text.replace(ubigram, unigram)\n",
    "    return text.split()"
   ]
  },
  {
   "cell_type": "markdown",
   "metadata": {},
   "source": [
    "### Train"
   ]
  },
  {
   "cell_type": "code",
   "execution_count": 197,
   "metadata": {
    "collapsed": true
   },
   "outputs": [],
   "source": [
    "train['text'] = train['text'].apply(replace_ubigrams)"
   ]
  },
  {
   "cell_type": "markdown",
   "metadata": {},
   "source": [
    "### Test"
   ]
  },
  {
   "cell_type": "code",
   "execution_count": 198,
   "metadata": {
    "collapsed": true
   },
   "outputs": [],
   "source": [
    "test['text'] = test['text'].apply(replace_ubigrams)"
   ]
  },
  {
   "cell_type": "markdown",
   "metadata": {},
   "source": [
    "# Tokens to index"
   ]
  },
  {
   "cell_type": "code",
   "execution_count": 199,
   "metadata": {},
   "outputs": [
    {
     "name": "stdout",
     "output_type": "stream",
     "text": [
      "[17 17  9 ...  9  9  9]\n"
     ]
    }
   ],
   "source": [
    "def quest_len(text):\n",
    "    len_sent = []\n",
    "    for line in text:\n",
    "        len_sent.append(len(line))\n",
    "    return len_sent\n",
    "\n",
    "len_text = np.array(quest_len(train.text))\n",
    "print(len_text)\n",
    "max_len_text = max(len_text)"
   ]
  },
  {
   "cell_type": "code",
   "execution_count": 200,
   "metadata": {},
   "outputs": [
    {
     "data": {
      "text/plain": [
       "24"
      ]
     },
     "execution_count": 200,
     "metadata": {},
     "output_type": "execute_result"
    }
   ],
   "source": [
    "max(len_text)"
   ]
  },
  {
   "cell_type": "code",
   "execution_count": 201,
   "metadata": {},
   "outputs": [
    {
     "data": {
      "text/plain": [
       "(array([1.000e+00, 0.000e+00, 0.000e+00, 1.001e+03, 0.000e+00, 7.008e+03,\n",
       "        2.003e+03, 0.000e+00, 3.006e+03, 0.000e+00, 3.004e+03, 2.007e+03,\n",
       "        0.000e+00, 2.005e+03, 0.000e+00, 4.005e+03, 2.009e+03, 0.000e+00,\n",
       "        2.005e+03, 0.000e+00, 3.004e+03, 1.002e+03, 0.000e+00, 0.000e+00,\n",
       "        0.000e+00, 1.000e+00, 1.002e+03, 0.000e+00, 0.000e+00, 1.000e+00]),\n",
       " array([ 6. ,  6.6,  7.2,  7.8,  8.4,  9. ,  9.6, 10.2, 10.8, 11.4, 12. ,\n",
       "        12.6, 13.2, 13.8, 14.4, 15. , 15.6, 16.2, 16.8, 17.4, 18. , 18.6,\n",
       "        19.2, 19.8, 20.4, 21. , 21.6, 22.2, 22.8, 23.4, 24. ]),\n",
       " <a list of 30 Patch objects>)"
      ]
     },
     "execution_count": 201,
     "metadata": {},
     "output_type": "execute_result"
    },
    {
     "data": {
      "image/png": "[encoded data removed]",
      "text/plain": [
       "<Figure size 432x288 with 1 Axes>"
      ]
     },
     "metadata": {},
     "output_type": "display_data"
    }
   ],
   "source": [
    "plt.hist(len_text,bins = 30)"
   ]
  },
  {
   "cell_type": "markdown",
   "metadata": {},
   "source": [
    "# Create the dictionary of unique words and the indexes"
   ]
  },
  {
   "cell_type": "code",
   "execution_count": 202,
   "metadata": {
    "collapsed": true
   },
   "outputs": [],
   "source": [
    "list_tokens = []\n",
    "for line in train['text']:\n",
    "    for word in line:\n",
    "        list_tokens.append(word)\n",
    "list_tokens_unique = pd.unique(list_tokens)\n",
    "len_list_tokens_unique = len(list_tokens_unique)\n",
    "index = range(0,len_list_tokens_unique)\n",
    "word_index = list(zip(list_tokens_unique,index))\n",
    "word_index_dict = dict(word_index)\n",
    "num_words = len(word_index)"
   ]
  },
  {
   "cell_type": "code",
   "execution_count": 203,
   "metadata": {
    "collapsed": true
   },
   "outputs": [],
   "source": [
    "def exchange_word_to_num_presentation(corpus):\n",
    "    convert_words_to_seq = []\n",
    "    for i,line in enumerate(corpus):\n",
    "        word2num = []\n",
    "        for word in line:\n",
    "            if word in word_index_dict.keys():\n",
    "                word2num.append(word_index_dict[word])  \n",
    "            else:\n",
    "                word2num.append(0)\n",
    "        convert_words_to_seq.append(word2num)\n",
    "    convert_words_to_seq_pad = pad_sequences(convert_words_to_seq, maxlen = max_len_text, padding='post')\n",
    "    print(convert_words_to_seq_pad)\n",
    "    return(convert_words_to_seq_pad)\n",
    "    "
   ]
  },
  {
   "cell_type": "markdown",
   "metadata": {},
   "source": [
    "### Train"
   ]
  },
  {
   "cell_type": "code",
   "execution_count": 204,
   "metadata": {},
   "outputs": [
    {
     "name": "stdout",
     "output_type": "stream",
     "text": [
      "[[  0   1   2 ...   0   0   0]\n",
      " [  0   7  14 ...   0   0   0]\n",
      " [  5   6  20 ...   0   0   0]\n",
      " ...\n",
      " [ 82   2  13 ...   0   0   0]\n",
      " [214   2  13 ...   0   0   0]\n",
      " [151   2  13 ...   0   0   0]]\n"
     ]
    }
   ],
   "source": [
    "convert_words_to_seq_train = exchange_word_to_num_presentation(train.text)\n",
    "train['convert_words_to_seq'] = pd.Series(list(convert_words_to_seq_train),index=train.index)"
   ]
  },
  {
   "cell_type": "markdown",
   "metadata": {},
   "source": [
    "### Test"
   ]
  },
  {
   "cell_type": "code",
   "execution_count": 205,
   "metadata": {},
   "outputs": [
    {
     "name": "stdout",
     "output_type": "stream",
     "text": [
      "[[23 16 35 ...  0  0  0]\n",
      " [ 6 23  7 ...  0  0  0]\n",
      " [ 0 33  2 ...  0  0  0]\n",
      " ...\n",
      " [ 5 21  0 ...  0  0  0]\n",
      " [ 0  0  0 ...  0  0  0]\n",
      " [ 0  0  0 ...  0  7  0]]\n"
     ]
    }
   ],
   "source": [
    "convert_words_to_seq_train = exchange_word_to_num_presentation(test.text)\n",
    "test['convert_words_to_seq'] = pd.Series(list(convert_words_to_seq_train),index=test.index)"
   ]
  },
  {
   "cell_type": "code",
   "execution_count": 206,
   "metadata": {},
   "outputs": [
    {
     "data": {
      "text/html": [
       "<div>\n",
       "<style scoped>\n",
       "    .dataframe tbody tr th:only-of-type {\n",
       "        vertical-align: middle;\n",
       "    }\n",
       "\n",
       "    .dataframe tbody tr th {\n",
       "        vertical-align: top;\n",
       "    }\n",
       "\n",
       "    .dataframe thead th {\n",
       "        text-align: right;\n",
       "    }\n",
       "</style>\n",
       "<table border=\"1\" class=\"dataframe\">\n",
       "  <thead>\n",
       "    <tr style=\"text-align: right;\">\n",
       "      <th></th>\n",
       "      <th>equations</th>\n",
       "      <th>text</th>\n",
       "      <th>convert_words_to_seq</th>\n",
       "    </tr>\n",
       "  </thead>\n",
       "  <tbody>\n",
       "    <tr>\n",
       "      <th>0</th>\n",
       "      <td>[unkn: x,y, equ: x=y+11, equ: 3*x=4*y+4]</td>\n",
       "      <td>[one_number, 11, more, anoth_number, ., find, ...</td>\n",
       "      <td>[0, 1, 2, 3, 4, 5, 6, 7, 8, 9, 10, 11, 8, 12, ...</td>\n",
       "    </tr>\n",
       "    <tr>\n",
       "      <th>1</th>\n",
       "      <td>[unkn: x,y, equ: x + 3 = y, equ: 2*y + 12 = 5*x]</td>\n",
       "      <td>[one_number, 3, less, second_number, ., two, t...</td>\n",
       "      <td>[0, 7, 14, 15, 4, 16, 8, 15, 17, 14, 18, 8, 19...</td>\n",
       "    </tr>\n",
       "    <tr>\n",
       "      <th>2</th>\n",
       "      <td>[unkn: x,y, equ: x+y=62, equ: x-y=6]</td>\n",
       "      <td>[find, two_number, whose, sum, 62, whose, diff...</td>\n",
       "      <td>[5, 6, 20, 21, 22, 20, 23, 24, 4, 0, 0, 0, 0, ...</td>\n",
       "    </tr>\n",
       "    <tr>\n",
       "      <th>3</th>\n",
       "      <td>[unkn: x,y, equ: x+y=68, equ: x-y=16]</td>\n",
       "      <td>[sum, two_number, 68, ., differ, 16, ., number...</td>\n",
       "      <td>[21, 6, 25, 4, 23, 26, 4, 13, 27, 0, 0, 0, 0, ...</td>\n",
       "    </tr>\n",
       "    <tr>\n",
       "      <th>4</th>\n",
       "      <td>[unkn: x,y, equ: x+y=97, equ: x-y=57]</td>\n",
       "      <td>[sum, two_number, 97, ., differ, two_number, 5...</td>\n",
       "      <td>[21, 6, 28, 4, 23, 6, 29, 4, 5, 6, 0, 0, 0, 0,...</td>\n",
       "    </tr>\n",
       "  </tbody>\n",
       "</table>\n",
       "</div>"
      ],
      "text/plain": [
       "                                          equations  \\\n",
       "0          [unkn: x,y, equ: x=y+11, equ: 3*x=4*y+4]   \n",
       "1  [unkn: x,y, equ: x + 3 = y, equ: 2*y + 12 = 5*x]   \n",
       "2              [unkn: x,y, equ: x+y=62, equ: x-y=6]   \n",
       "3             [unkn: x,y, equ: x+y=68, equ: x-y=16]   \n",
       "4             [unkn: x,y, equ: x+y=97, equ: x-y=57]   \n",
       "\n",
       "                                                text  \\\n",
       "0  [one_number, 11, more, anoth_number, ., find, ...   \n",
       "1  [one_number, 3, less, second_number, ., two, t...   \n",
       "2  [find, two_number, whose, sum, 62, whose, diff...   \n",
       "3  [sum, two_number, 68, ., differ, 16, ., number...   \n",
       "4  [sum, two_number, 97, ., differ, two_number, 5...   \n",
       "\n",
       "                                convert_words_to_seq  \n",
       "0  [0, 1, 2, 3, 4, 5, 6, 7, 8, 9, 10, 11, 8, 12, ...  \n",
       "1  [0, 7, 14, 15, 4, 16, 8, 15, 17, 14, 18, 8, 19...  \n",
       "2  [5, 6, 20, 21, 22, 20, 23, 24, 4, 0, 0, 0, 0, ...  \n",
       "3  [21, 6, 25, 4, 23, 26, 4, 13, 27, 0, 0, 0, 0, ...  \n",
       "4  [21, 6, 28, 4, 23, 6, 29, 4, 5, 6, 0, 0, 0, 0,...  "
      ]
     },
     "execution_count": 206,
     "metadata": {},
     "output_type": "execute_result"
    }
   ],
   "source": [
    "train.head()"
   ]
  },
  {
   "cell_type": "code",
   "execution_count": 207,
   "metadata": {},
   "outputs": [
    {
     "data": {
      "text/html": [
       "<div>\n",
       "<style scoped>\n",
       "    .dataframe tbody tr th:only-of-type {\n",
       "        vertical-align: middle;\n",
       "    }\n",
       "\n",
       "    .dataframe tbody tr th {\n",
       "        vertical-align: top;\n",
       "    }\n",
       "\n",
       "    .dataframe thead th {\n",
       "        text-align: right;\n",
       "    }\n",
       "</style>\n",
       "<table border=\"1\" class=\"dataframe\">\n",
       "  <thead>\n",
       "    <tr style=\"text-align: right;\">\n",
       "      <th></th>\n",
       "      <th>text</th>\n",
       "      <th>equations</th>\n",
       "      <th>ans_simple</th>\n",
       "      <th>convert_words_to_seq</th>\n",
       "    </tr>\n",
       "    <tr>\n",
       "      <th>index</th>\n",
       "      <th></th>\n",
       "      <th></th>\n",
       "      <th></th>\n",
       "      <th></th>\n",
       "    </tr>\n",
       "  </thead>\n",
       "  <tbody>\n",
       "    <tr>\n",
       "      <th>1001</th>\n",
       "      <td>[differ, two, integ, 9, ., 5, time, smaller, 7...</td>\n",
       "      <td>[unkn: x,y, equ: x-y=9, equ: 5*y=3*x+7]</td>\n",
       "      <td>[26, 17]</td>\n",
       "      <td>[23, 16, 35, 33, 4, 18, 8, 12, 37, 2, 7, 8, 9,...</td>\n",
       "    </tr>\n",
       "    <tr>\n",
       "      <th>1175</th>\n",
       "      <td>[two_number, differ, 3, ., 4, time, lesser, di...</td>\n",
       "      <td>[unkn: x,y, equ: x-y=3, equ: 4*y-3*x=7]</td>\n",
       "      <td>[16, 19]</td>\n",
       "      <td>[6, 23, 7, 4, 11, 8, 93, 84, 7, 8, 85, 37, 4, ...</td>\n",
       "    </tr>\n",
       "    <tr>\n",
       "      <th>1269</th>\n",
       "      <td>[one_number, 9, more, number, ., differ, 7, ti...</td>\n",
       "      <td>[unkn: x,y, equ: x = y + 9, equ: 7*y - 2*x = 157]</td>\n",
       "      <td>[44, 35]</td>\n",
       "      <td>[0, 33, 2, 13, 4, 23, 37, 8, 12, 13, 16, 8, 9,...</td>\n",
       "    </tr>\n",
       "    <tr>\n",
       "      <th>0</th>\n",
       "      <td>[differ, two_number, -, 38, ., two, time, smal...</td>\n",
       "      <td>[unkn: x,y, equ: x-y=(-38), equ: 2*x-5*y=(-217)]</td>\n",
       "      <td>[9, 47]</td>\n",
       "      <td>[23, 6, 39, 116, 4, 16, 8, 12, 13, 54, 18, 8, ...</td>\n",
       "    </tr>\n",
       "    <tr>\n",
       "      <th>1734</th>\n",
       "      <td>[one_number, 4, less, anoth, ., differ, two, t...</td>\n",
       "      <td>[unkn: x, y, equ: x = y - 4, equ: 2*x - 5*y = ...</td>\n",
       "      <td>[-3, 1]</td>\n",
       "      <td>[0, 11, 14, 42, 4, 23, 16, 8, 12, 18, 8, 9, 13...</td>\n",
       "    </tr>\n",
       "  </tbody>\n",
       "</table>\n",
       "</div>"
      ],
      "text/plain": [
       "                                                    text  \\\n",
       "index                                                      \n",
       "1001   [differ, two, integ, 9, ., 5, time, smaller, 7...   \n",
       "1175   [two_number, differ, 3, ., 4, time, lesser, di...   \n",
       "1269   [one_number, 9, more, number, ., differ, 7, ti...   \n",
       "0      [differ, two_number, -, 38, ., two, time, smal...   \n",
       "1734   [one_number, 4, less, anoth, ., differ, two, t...   \n",
       "\n",
       "                                               equations ans_simple  \\\n",
       "index                                                                 \n",
       "1001             [unkn: x,y, equ: x-y=9, equ: 5*y=3*x+7]   [26, 17]   \n",
       "1175             [unkn: x,y, equ: x-y=3, equ: 4*y-3*x=7]   [16, 19]   \n",
       "1269   [unkn: x,y, equ: x = y + 9, equ: 7*y - 2*x = 157]   [44, 35]   \n",
       "0       [unkn: x,y, equ: x-y=(-38), equ: 2*x-5*y=(-217)]    [9, 47]   \n",
       "1734   [unkn: x, y, equ: x = y - 4, equ: 2*x - 5*y = ...    [-3, 1]   \n",
       "\n",
       "                                    convert_words_to_seq  \n",
       "index                                                     \n",
       "1001   [23, 16, 35, 33, 4, 18, 8, 12, 37, 2, 7, 8, 9,...  \n",
       "1175   [6, 23, 7, 4, 11, 8, 93, 84, 7, 8, 85, 37, 4, ...  \n",
       "1269   [0, 33, 2, 13, 4, 23, 37, 8, 12, 13, 16, 8, 9,...  \n",
       "0      [23, 6, 39, 116, 4, 16, 8, 12, 13, 54, 18, 8, ...  \n",
       "1734   [0, 11, 14, 42, 4, 23, 16, 8, 12, 18, 8, 9, 13...  "
      ]
     },
     "execution_count": 207,
     "metadata": {},
     "output_type": "execute_result"
    }
   ],
   "source": [
    "test.head()"
   ]
  },
  {
   "cell_type": "markdown",
   "metadata": {},
   "source": [
    "# Equation"
   ]
  },
  {
   "cell_type": "code",
   "execution_count": 208,
   "metadata": {
    "collapsed": true
   },
   "outputs": [],
   "source": [
    "def is_linear(original_string_equation):\n",
    "    \"\"\" Checks if an equation is linear\"\"\"\n",
    "    try:    \n",
    "        # Strips the 'equ:\"\n",
    "        strip_equ = original_string_equation.lstrip(\"equ: \")\n",
    "        # Adds '*' where missing like in 2(k+1) to 2*(k+1)\n",
    "        reg = re.findall('\\d+\\(', strip_equ)\n",
    "        for item in reg:\n",
    "            reg_with_mul = reg[0][0] + \"*\" + reg[0][1]\n",
    "            strip_equ = strip_equ.replace(item, reg_with_mul)\n",
    "        # Finds the variables\n",
    "        list_of_var = []\n",
    "        variables = \"\"\n",
    "        for char in strip_equ:\n",
    "            if char in \"abcdefghijklmnopqrstuvwxyxABCDEFGHIJKLMNOPQRSTUVWXYZ\":\n",
    "                if char not in list_of_var:\n",
    "                    variables = variables + char + \" \"\n",
    "                    list_of_var.append(char)\n",
    "        # Generates an Eq object for separation of the sides of equation\n",
    "        eq_S = sympy.Eq(*map(sympy.S, strip_equ.split(\"=\")))\n",
    "        # Combines two sides of the equation\n",
    "        final_version = eq_S.args[0] + eq_S.args[1]*-1\n",
    "        # Put it in a list so that the 'linear_eq_to_matrix' can handle\n",
    "        if final_version.args_cnc()[0] == []:\n",
    "            final_as_list = final_version.args_cnc()[1]\n",
    "        else:\n",
    "            final_as_list = final_version.args_cnc()[0]\n",
    "        symb = sympy.symbols(variables)\n",
    "        A, b = sympy.linear_eq_to_matrix(final_as_list, symb)\n",
    "        if not any(list(A)) and list(b)[0] != 0:\n",
    "            return False\n",
    "        else:\n",
    "            return True\n",
    "    except:\n",
    "        return False"
   ]
  },
  {
   "cell_type": "code",
   "execution_count": 209,
   "metadata": {
    "collapsed": true
   },
   "outputs": [],
   "source": [
    "def is_set_linear(list_of_equations):\n",
    "    all_linear = True\n",
    "    list_without_unkn = list_of_equations[1:]\n",
    "    if not all(map(is_linear, list_without_unkn)):\n",
    "        return False\n",
    "    else:\n",
    "        return True"
   ]
  },
  {
   "cell_type": "code",
   "execution_count": 210,
   "metadata": {
    "collapsed": true
   },
   "outputs": [],
   "source": [
    "N_PARAMS = 3\n",
    "def convert_equation_to_vector(original_string_equation):\n",
    "    \"\"\" Converts an equation to a list of parameters of linear combination\"\"\" \n",
    "    \n",
    "    # Strips the 'equ:\"\n",
    "    strip_equ = original_string_equation.lstrip(\"equ: \")\n",
    "    # Adds '*' where missing like in 2(k+1) to 2*(k+1)\n",
    "    reg = re.findall('\\d+\\(', strip_equ)\n",
    "    for item in reg:\n",
    "        reg_with_mul = reg[0][0] + \"*\" + reg[0][1]\n",
    "        strip_equ = strip_equ.replace(item, reg_with_mul)\n",
    "    # Finds the variables\n",
    "    list_of_var = []\n",
    "    variables = \"\"\n",
    "    for char in strip_equ:\n",
    "        if char in \"abcdefghijklmnopqrstuvwxyxABCDEFGHIJKLMNOPQRSTUVWXYZ\":\n",
    "            if char not in list_of_var:\n",
    "                variables = variables + char + \" \"\n",
    "                list_of_var.append(char)\n",
    "    # Generates an Eq object for separation of the sides of equation\n",
    "    eq_S = sympy.Eq(*map(sympy.S, strip_equ.split(\"=\")))\n",
    "    # Combines two sides of the equation\n",
    "    final_version = eq_S.args[0] + eq_S.args[1]*-1\n",
    "    # Put it in a list so that the 'linear_eq_to_matrix' can handle\n",
    "    if final_version.args_cnc()[0] == []:\n",
    "        final_as_list = final_version.args_cnc()[1]\n",
    "    else:\n",
    "        final_as_list = final_version.args_cnc()[0]\n",
    "    symb = sympy.symbols(variables)\n",
    "    A, b = sympy.linear_eq_to_matrix(final_as_list, symb)\n",
    "    negative_b = list(b)[0]\n",
    "    A_params = list(A)\n",
    "    params = [*list(A)] #, list(b)[0]*-1]\n",
    "    # Now vectorizing\n",
    "    param_A_vector = np.zeros((N_PARAMS,))\n",
    "    for i, num in enumerate(params):\n",
    "        param_A_vector[i] = num\n",
    "    param_vector = np.hstack((param_A_vector, list(b)[0]*-1))\n",
    "    param_vector_with_closure = np.hstack((8888, param_vector, 9999)) # 8888 - start equation; 9999 - end equation\n",
    "    \n",
    "    return param_vector_with_closure"
   ]
  },
  {
   "cell_type": "code",
   "execution_count": 211,
   "metadata": {
    "collapsed": true
   },
   "outputs": [],
   "source": [
    "N_EQUATIONS = 3\n",
    "def form_vectorized_matrix(list_of_unkn_and_equations):\n",
    "    \"\"\"Generates a vectoer based on the equations parameters\"\"\"\n",
    "    \n",
    "    matrix = np.zeros((N_EQUATIONS, N_PARAMS+3)) # Added 3, one for the b in the matrix, and two for the 9999/8888 breakers\n",
    "    list_of_equtions = list_of_unkn_and_equations[1:]\n",
    "    for i, equaition in enumerate(list_of_equtions):\n",
    "        vector = convert_equation_to_vector(equaition)\n",
    "        matrix[i] = vector\n",
    "    vectorized_matrix = matrix.reshape(N_EQUATIONS * (N_PARAMS+3),)\n",
    "    \n",
    "    return vectorized_matrix"
   ]
  },
  {
   "cell_type": "code",
   "execution_count": 212,
   "metadata": {
    "collapsed": true
   },
   "outputs": [],
   "source": [
    "train['is_linear'] = train['equations'].map(is_set_linear)"
   ]
  },
  {
   "cell_type": "code",
   "execution_count": 213,
   "metadata": {},
   "outputs": [
    {
     "data": {
      "text/plain": [
       "33064"
      ]
     },
     "execution_count": 213,
     "metadata": {},
     "output_type": "execute_result"
    }
   ],
   "source": [
    "len(train)"
   ]
  },
  {
   "cell_type": "code",
   "execution_count": 214,
   "metadata": {
    "collapsed": true
   },
   "outputs": [],
   "source": [
    "# def delete_non_linear(data_frame):\n",
    "#     indexes_of_lines_to_delete = data_frame[data_frame.is_linear == False].index\n",
    "#     data_frame.drop(index = indexes_of_lines_to_delete, inplace = True)\n",
    "#     print('There were deleted ' + str(len(indexes_of_lines_to_delete)) + ' lines because of non-linearity')"
   ]
  },
  {
   "cell_type": "code",
   "execution_count": 215,
   "metadata": {},
   "outputs": [
    {
     "data": {
      "text/plain": [
       "32839"
      ]
     },
     "execution_count": 215,
     "metadata": {},
     "output_type": "execute_result"
    }
   ],
   "source": [
    "train = train[train[\"is_linear\"]]\n",
    "len(train)"
   ]
  },
  {
   "cell_type": "code",
   "execution_count": 216,
   "metadata": {},
   "outputs": [
    {
     "data": {
      "text/html": [
       "<div>\n",
       "<style scoped>\n",
       "    .dataframe tbody tr th:only-of-type {\n",
       "        vertical-align: middle;\n",
       "    }\n",
       "\n",
       "    .dataframe tbody tr th {\n",
       "        vertical-align: top;\n",
       "    }\n",
       "\n",
       "    .dataframe thead th {\n",
       "        text-align: right;\n",
       "    }\n",
       "</style>\n",
       "<table border=\"1\" class=\"dataframe\">\n",
       "  <thead>\n",
       "    <tr style=\"text-align: right;\">\n",
       "      <th></th>\n",
       "      <th>equations</th>\n",
       "      <th>text</th>\n",
       "      <th>convert_words_to_seq</th>\n",
       "      <th>is_linear</th>\n",
       "    </tr>\n",
       "  </thead>\n",
       "  <tbody>\n",
       "  </tbody>\n",
       "</table>\n",
       "</div>"
      ],
      "text/plain": [
       "Empty DataFrame\n",
       "Columns: [equations, text, convert_words_to_seq, is_linear]\n",
       "Index: []"
      ]
     },
     "execution_count": 216,
     "metadata": {},
     "output_type": "execute_result"
    }
   ],
   "source": [
    "train[train[\"is_linear\"] == False]"
   ]
  },
  {
   "cell_type": "code",
   "execution_count": 217,
   "metadata": {},
   "outputs": [
    {
     "data": {
      "application/vnd.jupyter.widget-view+json": {
       "model_id": "b5e0ef1a668441fab64db94641438b1b",
       "version_major": 2,
       "version_minor": 0
      },
      "text/plain": [
       "HBox(children=(IntProgress(value=1, bar_style='info', max=1), HTML(value='')))"
      ]
     },
     "metadata": {},
     "output_type": "display_data"
    },
    {
     "name": "stdout",
     "output_type": "stream",
     "text": [
      "non\n",
      "non\n",
      "non\n",
      "non\n",
      "non\n",
      "non\n",
      "non\n",
      "non\n",
      "non\n",
      "non\n",
      "non\n",
      "non\n",
      "non\n",
      "non\n",
      "non\n",
      "non\n",
      "\n"
     ]
    }
   ],
   "source": [
    "decoder_target = []\n",
    "non_convertibles = []\n",
    "for i, row in tqdm(train.iterrows()):\n",
    "    try:\n",
    "        vect = form_vectorized_matrix(row.equations)\n",
    "        decoder_target.append(vect)\n",
    "    except:\n",
    "        non_convertibles.append(i)\n",
    "        print(\"non\")"
   ]
  },
  {
   "cell_type": "code",
   "execution_count": 218,
   "metadata": {
    "collapsed": true
   },
   "outputs": [],
   "source": [
    "# joblib.dump(decoder_target, 'decoder_target_1000')"
   ]
  },
  {
   "cell_type": "code",
   "execution_count": 219,
   "metadata": {
    "collapsed": true
   },
   "outputs": [],
   "source": [
    "# decoder_target = joblib.load('decoder_target_1000')"
   ]
  },
  {
   "cell_type": "code",
   "execution_count": 220,
   "metadata": {
    "collapsed": true
   },
   "outputs": [],
   "source": [
    "# non_convertibles"
   ]
  },
  {
   "cell_type": "code",
   "execution_count": 221,
   "metadata": {},
   "outputs": [
    {
     "data": {
      "text/plain": [
       "(32839, 32823)"
      ]
     },
     "execution_count": 221,
     "metadata": {},
     "output_type": "execute_result"
    }
   ],
   "source": [
    "len(train), len(decoder_target)"
   ]
  },
  {
   "cell_type": "code",
   "execution_count": 222,
   "metadata": {
    "collapsed": true
   },
   "outputs": [],
   "source": [
    "train.drop(non_convertibles, inplace=True)"
   ]
  },
  {
   "cell_type": "code",
   "execution_count": 223,
   "metadata": {},
   "outputs": [
    {
     "data": {
      "text/plain": [
       "32823"
      ]
     },
     "execution_count": 223,
     "metadata": {},
     "output_type": "execute_result"
    }
   ],
   "source": [
    "len(decoder_target)"
   ]
  },
  {
   "cell_type": "code",
   "execution_count": 224,
   "metadata": {},
   "outputs": [
    {
     "data": {
      "text/plain": [
       "32823"
      ]
     },
     "execution_count": 224,
     "metadata": {},
     "output_type": "execute_result"
    }
   ],
   "source": [
    "len(train)"
   ]
  },
  {
   "cell_type": "code",
   "execution_count": 225,
   "metadata": {
    "collapsed": true
   },
   "outputs": [],
   "source": [
    "decoder_target_mat = np.array([np.array(x) for x in decoder_target])\n",
    "unique_eq_char = pd.Series(decoder_target_mat.flatten()).unique()\n",
    "num_words_output = len(unique_eq_char)"
   ]
  },
  {
   "cell_type": "code",
   "execution_count": 226,
   "metadata": {
    "collapsed": true
   },
   "outputs": [],
   "source": [
    "eq_index = dict([(val, i) for i, val in enumerate(unique_eq_char)])"
   ]
  },
  {
   "cell_type": "code",
   "execution_count": 227,
   "metadata": {
    "collapsed": true
   },
   "outputs": [],
   "source": [
    "decoder_target_new = []\n",
    "for line in decoder_target:\n",
    "    temp_vec = []\n",
    "    for char in line:\n",
    "        temp_vec.append(eq_index[char])\n",
    "    decoder_target_new.append(temp_vec)"
   ]
  },
  {
   "cell_type": "code",
   "execution_count": 228,
   "metadata": {
    "collapsed": true
   },
   "outputs": [],
   "source": [
    "# decoder_target_new"
   ]
  },
  {
   "cell_type": "markdown",
   "metadata": {},
   "source": [
    "### Train"
   ]
  },
  {
   "cell_type": "code",
   "execution_count": 229,
   "metadata": {},
   "outputs": [
    {
     "data": {
      "text/plain": [
       "32823"
      ]
     },
     "execution_count": 229,
     "metadata": {},
     "output_type": "execute_result"
    }
   ],
   "source": [
    "encoder_input = list(train.convert_words_to_seq)\n",
    "len(encoder_input)"
   ]
  },
  {
   "cell_type": "code",
   "execution_count": 230,
   "metadata": {
    "collapsed": true
   },
   "outputs": [],
   "source": [
    "# encoder_input"
   ]
  },
  {
   "cell_type": "markdown",
   "metadata": {},
   "source": [
    "### Test"
   ]
  },
  {
   "cell_type": "code",
   "execution_count": 231,
   "metadata": {},
   "outputs": [
    {
     "data": {
      "text/plain": [
       "1504"
      ]
     },
     "execution_count": 231,
     "metadata": {},
     "output_type": "execute_result"
    }
   ],
   "source": [
    "encoder_input_test = list(test.convert_words_to_seq)\n",
    "len(encoder_input_test)"
   ]
  },
  {
   "cell_type": "code",
   "execution_count": 232,
   "metadata": {
    "collapsed": true
   },
   "outputs": [],
   "source": [
    "decoder_target_input = [np.hstack((1111,line)) for line in decoder_target_new]\n",
    "decoder_target_output = [np.hstack((line,2222)) for line in decoder_target_new]"
   ]
  },
  {
   "cell_type": "code",
   "execution_count": 233,
   "metadata": {},
   "outputs": [
    {
     "data": {
      "text/plain": [
       "32823"
      ]
     },
     "execution_count": 233,
     "metadata": {},
     "output_type": "execute_result"
    }
   ],
   "source": [
    "len(decoder_target_input)\n",
    "len(decoder_target_output)"
   ]
  },
  {
   "cell_type": "markdown",
   "metadata": {},
   "source": [
    "# The Model"
   ]
  },
  {
   "cell_type": "code",
   "execution_count": 234,
   "metadata": {
    "collapsed": true
   },
   "outputs": [],
   "source": [
    "EMBEDDING_DIM = 150\n",
    "max_len_target = N_EQUATIONS*(N_PARAMS+3) + 1 \n",
    "LATENT_DIM = 220\n",
    "max_len_text = len(encoder_input[0])"
   ]
  },
  {
   "cell_type": "code",
   "execution_count": 235,
   "metadata": {},
   "outputs": [
    {
     "data": {
      "text/plain": [
       "24"
      ]
     },
     "execution_count": 235,
     "metadata": {},
     "output_type": "execute_result"
    }
   ],
   "source": [
    "len(encoder_input[0])"
   ]
  },
  {
   "cell_type": "code",
   "execution_count": 236,
   "metadata": {
    "collapsed": true
   },
   "outputs": [],
   "source": [
    "# create embedding layer\n",
    "embedding_layer = Embedding(\n",
    "  num_words,\n",
    "  EMBEDDING_DIM,\n",
    "  #weights=[embedding_matrix],\n",
    "  input_length=max_len_text,\n",
    "  # trainable=True\n",
    ")"
   ]
  },
  {
   "cell_type": "code",
   "execution_count": 237,
   "metadata": {
    "collapsed": true
   },
   "outputs": [],
   "source": [
    "# create targets, since we cannot use sparse\n",
    "# categorical cross entropy when we have sequences\n",
    "decoder_targets_one_hot = np.zeros(\n",
    "  (\n",
    "    len(train),\n",
    "    max_len_target,\n",
    "    num_words_output \n",
    "  ),\n",
    "  dtype='float32'\n",
    ")"
   ]
  },
  {
   "cell_type": "code",
   "execution_count": 238,
   "metadata": {},
   "outputs": [
    {
     "data": {
      "text/plain": [
       "3108"
      ]
     },
     "execution_count": 238,
     "metadata": {},
     "output_type": "execute_result"
    }
   ],
   "source": [
    "num_words_output"
   ]
  },
  {
   "cell_type": "code",
   "execution_count": 239,
   "metadata": {
    "collapsed": true
   },
   "outputs": [],
   "source": [
    "# assign the values. So the one hot has three dimensions: the first is the 10000 data rows, the second is the 7 words of the \n",
    "# target, and the third is the 'num_word_output' which is the number of unique words in the target. So the 'word' varaible is the\n",
    "# value in the 'decoder_output', for example 147, so this will be the index in the third dimension of the one_hot\n",
    "for i, d in enumerate(decoder_target_output):\n",
    "    for t, word in enumerate(d):\n",
    "        try:\n",
    "            decoder_targets_one_hot[i, t, word] = 1\n",
    "        except:\n",
    "            pass#print(i, d, word)"
   ]
  },
  {
   "cell_type": "code",
   "execution_count": 240,
   "metadata": {},
   "outputs": [
    {
     "data": {
      "text/plain": [
       "(32823, 19, 3108)"
      ]
     },
     "execution_count": 240,
     "metadata": {},
     "output_type": "execute_result"
    }
   ],
   "source": [
    "decoder_targets_one_hot.shape"
   ]
  },
  {
   "cell_type": "code",
   "execution_count": 241,
   "metadata": {},
   "outputs": [
    {
     "data": {
      "text/plain": [
       "24"
      ]
     },
     "execution_count": 241,
     "metadata": {},
     "output_type": "execute_result"
    }
   ],
   "source": [
    "max_len_text"
   ]
  },
  {
   "cell_type": "code",
   "execution_count": 242,
   "metadata": {
    "collapsed": true
   },
   "outputs": [],
   "source": [
    "##### build the model #####\n",
    "encoder_inputs_placeholder = Input(shape=(max_len_text,))\n",
    "\n",
    "embed_encod = embedding_layer(encoder_inputs_placeholder)\n",
    "encoder = LSTM(\n",
    "  LATENT_DIM,\n",
    "  return_state=True, # Because I use return_state=True I can have h and c, otherwise I would get only the encoder outputs\n",
    "  #dropout=0.3 # dropout not available on gpu\n",
    ")\n",
    "encoder_outputs, h, c = encoder(embed_encod)\n",
    "# encoder_outputs, h = encoder(embed_encod) #gru\n",
    "\n",
    "# keep only the states to pass into decoder\n",
    "encoder_states = [h, c]\n",
    "# encoder_states = [state_h] # gru\n",
    "\n",
    "# Set up the decoder, using [h, c] as initial state.\n",
    "decoder_inputs_placeholder = Input(shape=(max_len_target,)) # Important. I am using the max_len of the target(!) here\n",
    "\n",
    "# this word embedding will not use pre-trained vectors\n",
    "# although you could\n",
    "decoder_embedding = Embedding(num_words_output, LATENT_DIM)\n",
    "decoder_inputs_x = decoder_embedding(decoder_inputs_placeholder)\n",
    "\n",
    "# since the decoder is a \"to-many\" model we want to have\n",
    "# return_sequences=True\n",
    "decoder_lstm = LSTM(\n",
    "  LATENT_DIM,\n",
    "  return_sequences=True,\n",
    "  return_state=True,\n",
    "  #dropout=0.3 # dropout not available on gpu\n",
    ")\n",
    "# Below - like the encoder receives an input of 'embed_encode', here are two inputs: 1. the target text, represented by \n",
    "# decoder_input_x, 2. the the encoder_state (h,c) from the encoder\n",
    "# Also, I don't need the h and c as outputs (as I willl need them in the prediction)\n",
    "decoder_outputs, _, _ = decoder_lstm(decoder_inputs_x, initial_state=encoder_states)\n",
    "\n",
    "# decoder_outputs, _ = decoder_gru(\n",
    "#   decoder_inputs_x,\n",
    "#   initial_state=encoder_states\n",
    "# )\n",
    "\n",
    "# final dense layer for predictions\n",
    "decoder_dense = Dense(num_words_output, activation='softmax')\n",
    "decoder_outputs = decoder_dense(decoder_outputs)"
   ]
  },
  {
   "cell_type": "code",
   "execution_count": 243,
   "metadata": {
    "collapsed": true
   },
   "outputs": [],
   "source": [
    "# Create the model object\n",
    "model = Model([encoder_inputs_placeholder, decoder_inputs_placeholder], decoder_outputs)"
   ]
  },
  {
   "cell_type": "code",
   "execution_count": 244,
   "metadata": {
    "collapsed": true
   },
   "outputs": [],
   "source": [
    "# Compile the model\n",
    "\n",
    "# from keras import optimizers\n",
    "# epochs = 50\n",
    "# learning_rate = 0.0007\n",
    "# decay_rate = learning_rate / epochs\n",
    "# adam = optimizers.Adam(lr=learning_rate, decay=decay_rate, amsgrad=False)\n",
    "\n",
    "model.compile(\n",
    "  optimizer='adam',\n",
    "  loss='categorical_crossentropy',\n",
    "  metrics=['accuracy']\n",
    ")"
   ]
  },
  {
   "cell_type": "code",
   "execution_count": 245,
   "metadata": {},
   "outputs": [
    {
     "name": "stdout",
     "output_type": "stream",
     "text": [
      "__________________________________________________________________________________________________\n",
      "Layer (type)                    Output Shape         Param #     Connected to                     \n",
      "==================================================================================================\n",
      "input_6 (InputLayer)            (None, 24)           0                                            \n",
      "__________________________________________________________________________________________________\n",
      "input_7 (InputLayer)            (None, 19)           0                                            \n",
      "__________________________________________________________________________________________________\n",
      "embedding_3 (Embedding)         (None, 24, 150)      39000       input_6[0][0]                    \n",
      "__________________________________________________________________________________________________\n",
      "embedding_4 (Embedding)         (None, 19, 220)      683760      input_7[0][0]                    \n",
      "__________________________________________________________________________________________________\n",
      "cu_dnnlstm_3 (CuDNNLSTM)        [(None, 220), (None, 327360      embedding_3[0][0]                \n",
      "__________________________________________________________________________________________________\n",
      "cu_dnnlstm_4 (CuDNNLSTM)        [(None, 19, 220), (N 388960      embedding_4[0][0]                \n",
      "                                                                 cu_dnnlstm_3[0][1]               \n",
      "                                                                 cu_dnnlstm_3[0][2]               \n",
      "__________________________________________________________________________________________________\n",
      "dense_2 (Dense)                 (None, 19, 3108)     686868      cu_dnnlstm_4[0][0]               \n",
      "==================================================================================================\n",
      "Total params: 2,125,948\n",
      "Trainable params: 2,125,948\n",
      "Non-trainable params: 0\n",
      "__________________________________________________________________________________________________\n"
     ]
    }
   ],
   "source": [
    "model.summary()"
   ]
  },
  {
   "cell_type": "code",
   "execution_count": 246,
   "metadata": {
    "collapsed": true
   },
   "outputs": [],
   "source": [
    "BATCH_SIZE = 160\n",
    "EPOCHS = 50"
   ]
  },
  {
   "cell_type": "code",
   "execution_count": 247,
   "metadata": {},
   "outputs": [
    {
     "name": "stdout",
     "output_type": "stream",
     "text": [
      "Train on 26258 samples, validate on 6565 samples\n",
      "Epoch 1/50\n",
      "26258/26258 [==============================] - 18s 691us/step - loss: 2.4307 - acc: 0.5396 - val_loss: 2.0390 - val_acc: 0.6498\n",
      "Epoch 2/50\n",
      "26258/26258 [==============================] - 17s 660us/step - loss: 1.4254 - acc: 0.7369 - val_loss: 1.4499 - val_acc: 0.7636\n",
      "Epoch 3/50\n",
      "26258/26258 [==============================] - 17s 660us/step - loss: 1.0139 - acc: 0.8055 - val_loss: 1.7849 - val_acc: 0.6812\n",
      "Epoch 4/50\n",
      "26258/26258 [==============================] - 17s 664us/step - loss: 0.9046 - acc: 0.8443 - val_loss: 1.3844 - val_acc: 0.8067\n",
      "Epoch 5/50\n",
      "26258/26258 [==============================] - 17s 661us/step - loss: 0.8561 - acc: 0.8626 - val_loss: 1.4097 - val_acc: 0.8112\n",
      "Epoch 6/50\n",
      "26258/26258 [==============================] - 17s 657us/step - loss: 0.8325 - acc: 0.8642 - val_loss: 3.2211 - val_acc: 0.5882\n",
      "Epoch 7/50\n",
      "26258/26258 [==============================] - 17s 650us/step - loss: 0.8192 - acc: 0.8638 - val_loss: 1.3910 - val_acc: 0.8217\n",
      "Epoch 8/50\n",
      "26258/26258 [==============================] - 17s 651us/step - loss: 0.8045 - acc: 0.8644 - val_loss: 1.3838 - val_acc: 0.8254\n",
      "Epoch 9/50\n",
      "26258/26258 [==============================] - 17s 655us/step - loss: 0.7971 - acc: 0.8645 - val_loss: 1.4612 - val_acc: 0.8266\n",
      "Epoch 10/50\n",
      "26258/26258 [==============================] - 17s 653us/step - loss: 0.7907 - acc: 0.8645 - val_loss: 1.4604 - val_acc: 0.8267\n",
      "Epoch 11/50\n",
      "26258/26258 [==============================] - 17s 651us/step - loss: 0.7859 - acc: 0.8648 - val_loss: 1.4360 - val_acc: 0.8268\n",
      "Epoch 12/50\n",
      "26258/26258 [==============================] - 17s 656us/step - loss: 0.7800 - acc: 0.8648 - val_loss: 1.2796 - val_acc: 0.8244\n",
      "Epoch 13/50\n",
      "26258/26258 [==============================] - 17s 661us/step - loss: 0.7702 - acc: 0.8651 - val_loss: 1.2787 - val_acc: 0.8119\n",
      "Epoch 14/50\n",
      "26258/26258 [==============================] - 17s 658us/step - loss: 0.7784 - acc: 0.8620 - val_loss: 1.1323 - val_acc: 0.8290\n",
      "Epoch 15/50\n",
      "26258/26258 [==============================] - 17s 657us/step - loss: 0.7509 - acc: 0.8652 - val_loss: 1.1188 - val_acc: 0.8304\n",
      "Epoch 16/50\n",
      "26258/26258 [==============================] - 17s 660us/step - loss: 0.7374 - acc: 0.8656 - val_loss: 1.2125 - val_acc: 0.8279\n",
      "Epoch 17/50\n",
      "26258/26258 [==============================] - 17s 652us/step - loss: 0.7249 - acc: 0.8662 - val_loss: 1.1390 - val_acc: 0.8343\n",
      "Epoch 18/50\n",
      "26258/26258 [==============================] - 17s 651us/step - loss: 0.7130 - acc: 0.8666 - val_loss: 1.2786 - val_acc: 0.8277\n",
      "Epoch 19/50\n",
      "26258/26258 [==============================] - 17s 657us/step - loss: 0.7002 - acc: 0.8671 - val_loss: 1.1890 - val_acc: 0.8306\n",
      "Epoch 20/50\n",
      "26258/26258 [==============================] - 17s 660us/step - loss: 0.6850 - acc: 0.8679 - val_loss: 1.1902 - val_acc: 0.8316\n",
      "Epoch 21/50\n",
      "26258/26258 [==============================] - 17s 659us/step - loss: 0.6695 - acc: 0.8690 - val_loss: 1.1679 - val_acc: 0.8301\n",
      "Epoch 22/50\n",
      "26258/26258 [==============================] - 17s 663us/step - loss: 0.6485 - acc: 0.8705 - val_loss: 1.1393 - val_acc: 0.8331\n",
      "Epoch 23/50\n",
      "26258/26258 [==============================] - 17s 658us/step - loss: 0.6306 - acc: 0.8723 - val_loss: 1.1433 - val_acc: 0.8341\n",
      "Epoch 24/50\n",
      "26258/26258 [==============================] - 17s 654us/step - loss: 0.6116 - acc: 0.8743 - val_loss: 1.1326 - val_acc: 0.8350\n",
      "Epoch 25/50\n",
      "26258/26258 [==============================] - 17s 652us/step - loss: 0.5925 - acc: 0.8768 - val_loss: 1.1486 - val_acc: 0.8337\n",
      "Epoch 26/50\n",
      "26258/26258 [==============================] - 17s 651us/step - loss: 0.5746 - acc: 0.8794 - val_loss: 1.1585 - val_acc: 0.8326\n",
      "Epoch 27/50\n",
      "26258/26258 [==============================] - 17s 654us/step - loss: 0.5529 - acc: 0.8827 - val_loss: 1.2636 - val_acc: 0.8118\n",
      "Epoch 28/50\n",
      "26258/26258 [==============================] - 17s 651us/step - loss: 0.5521 - acc: 0.8811 - val_loss: 1.1462 - val_acc: 0.8335\n",
      "Epoch 29/50\n",
      "26258/26258 [==============================] - 17s 657us/step - loss: 0.5158 - acc: 0.8894 - val_loss: 1.2300 - val_acc: 0.8330\n",
      "Epoch 30/50\n",
      "26258/26258 [==============================] - 17s 654us/step - loss: 0.4944 - acc: 0.8932 - val_loss: 1.2532 - val_acc: 0.8304\n",
      "Epoch 31/50\n",
      "26258/26258 [==============================] - 17s 651us/step - loss: 0.4756 - acc: 0.8964 - val_loss: 1.2719 - val_acc: 0.8310\n",
      "Epoch 32/50\n",
      "26258/26258 [==============================] - 17s 657us/step - loss: 0.4536 - acc: 0.9010 - val_loss: 1.2225 - val_acc: 0.8385\n",
      "Epoch 33/50\n",
      "26258/26258 [==============================] - 17s 658us/step - loss: 0.4356 - acc: 0.9040 - val_loss: 1.2624 - val_acc: 0.8307\n",
      "Epoch 34/50\n",
      "26258/26258 [==============================] - 17s 661us/step - loss: 0.4186 - acc: 0.9069 - val_loss: 1.2299 - val_acc: 0.8382\n",
      "Epoch 35/50\n",
      "26258/26258 [==============================] - 17s 656us/step - loss: 0.4019 - acc: 0.9097 - val_loss: 1.2942 - val_acc: 0.8343\n",
      "Epoch 36/50\n",
      "26258/26258 [==============================] - 17s 656us/step - loss: 0.3873 - acc: 0.9128 - val_loss: 1.2820 - val_acc: 0.8370\n",
      "Epoch 37/50\n",
      "26258/26258 [==============================] - 17s 663us/step - loss: 0.3728 - acc: 0.9154 - val_loss: 1.3437 - val_acc: 0.8357\n",
      "Epoch 38/50\n",
      "26258/26258 [==============================] - 17s 660us/step - loss: 0.3608 - acc: 0.9178 - val_loss: 1.3363 - val_acc: 0.8352\n",
      "Epoch 39/50\n",
      "26258/26258 [==============================] - 17s 658us/step - loss: 0.3463 - acc: 0.9208 - val_loss: 1.3410 - val_acc: 0.8374\n",
      "Epoch 40/50\n",
      "26258/26258 [==============================] - 17s 662us/step - loss: 0.3344 - acc: 0.9234 - val_loss: 1.3344 - val_acc: 0.8372\n",
      "Epoch 41/50\n",
      "26258/26258 [==============================] - 17s 665us/step - loss: 0.3236 - acc: 0.9258 - val_loss: 1.3559 - val_acc: 0.8361\n",
      "Epoch 42/50\n",
      "26258/26258 [==============================] - 17s 661us/step - loss: 0.3121 - acc: 0.9289 - val_loss: 1.3751 - val_acc: 0.8359\n",
      "Epoch 43/50\n",
      "26258/26258 [==============================] - 18s 667us/step - loss: 0.3025 - acc: 0.9312 - val_loss: 1.3610 - val_acc: 0.8426\n",
      "Epoch 44/50\n",
      "26258/26258 [==============================] - 18s 678us/step - loss: 0.2917 - acc: 0.9342 - val_loss: 1.3320 - val_acc: 0.8429\n",
      "Epoch 45/50\n",
      "26258/26258 [==============================] - 18s 667us/step - loss: 0.2823 - acc: 0.9367 - val_loss: 1.4375 - val_acc: 0.8377\n",
      "Epoch 46/50\n",
      "26258/26258 [==============================] - 17s 655us/step - loss: 0.2728 - acc: 0.9393 - val_loss: 1.4156 - val_acc: 0.8378\n",
      "Epoch 47/50\n",
      "26258/26258 [==============================] - 17s 655us/step - loss: 0.2630 - acc: 0.9420 - val_loss: 1.3979 - val_acc: 0.8421\n",
      "Epoch 48/50\n",
      "26258/26258 [==============================] - 17s 654us/step - loss: 0.2571 - acc: 0.9435 - val_loss: 1.4124 - val_acc: 0.8302\n",
      "Epoch 49/50\n",
      "26258/26258 [==============================] - 17s 655us/step - loss: 0.2445 - acc: 0.9469 - val_loss: 1.4112 - val_acc: 0.8354\n",
      "Epoch 50/50\n",
      "26258/26258 [==============================] - 17s 655us/step - loss: 0.2349 - acc: 0.9497 - val_loss: 1.4406 - val_acc: 0.8363\n"
     ]
    }
   ],
   "source": [
    "# Train the model\n",
    "r = model.fit(\n",
    "  [encoder_input, decoder_target_input], decoder_targets_one_hot,\n",
    "  batch_size=BATCH_SIZE,\n",
    "  epochs=EPOCHS,\n",
    "  validation_split=0.2,\n",
    "  verbose=1,\n",
    ")"
   ]
  },
  {
   "cell_type": "code",
   "execution_count": 248,
   "metadata": {},
   "outputs": [
    {
     "data": {
      "image/png": "[encoded data removed]",
      "text/plain": [
       "<Figure size 432x288 with 1 Axes>"
      ]
     },
     "metadata": {},
     "output_type": "display_data"
    },
    {
     "data": {
      "image/png": "[encoded data removed]",
      "text/plain": [
       "<Figure size 432x288 with 1 Axes>"
      ]
     },
     "metadata": {},
     "output_type": "display_data"
    }
   ],
   "source": [
    "# plot some data\n",
    "plt.plot(r.history['loss'], label='loss')\n",
    "plt.plot(r.history['val_loss'], label='val_loss')\n",
    "plt.legend()\n",
    "plt.show()\n",
    "\n",
    "# accuracies\n",
    "plt.plot(r.history['acc'], label='acc')\n",
    "plt.plot(r.history['val_acc'], label='val_acc')\n",
    "plt.legend()\n",
    "plt.show()"
   ]
  },
  {
   "cell_type": "code",
   "execution_count": 249,
   "metadata": {
    "collapsed": true
   },
   "outputs": [],
   "source": [
    "##### Make predictions #####\n",
    "# We need to create another model\n",
    "# that can take in the RNN state and previous word as input\n",
    "# and accept a T=1 sequence.\n",
    "\n",
    "# The encoder will be stand-alone. It is exactly as the encoder in the training model\n",
    "# From this we will get our initial decoder hidden state (h,c)\n",
    "encoder_model = Model(encoder_inputs_placeholder, encoder_states)"
   ]
  },
  {
   "cell_type": "code",
   "execution_count": 250,
   "metadata": {
    "collapsed": true
   },
   "outputs": [],
   "source": [
    "# These inputs are placeholders for the output of the encoder_model above\n",
    "decoder_state_input_h = Input(shape=(LATENT_DIM,)) \n",
    "decoder_state_input_c = Input(shape=(LATENT_DIM,)) \n",
    "decoder_states_inputs = [decoder_state_input_h, decoder_state_input_c]\n",
    "# decoder_states_inputs = [decoder_state_input_h] # gru"
   ]
  },
  {
   "cell_type": "code",
   "execution_count": 251,
   "metadata": {
    "collapsed": true
   },
   "outputs": [],
   "source": [
    "decoder_inputs_single = Input(shape=(1,))\n",
    "# The single word input (at its time) will be embedded\n",
    "decoder_inputs_single_x = decoder_embedding(decoder_inputs_single)"
   ]
  },
  {
   "cell_type": "code",
   "execution_count": 252,
   "metadata": {
    "collapsed": true
   },
   "outputs": [],
   "source": [
    "# this time, we want to keep the states too (h and c of the decoder), to be output\n",
    "# by our sampling model\n",
    "decoder_outputs, h, c = decoder_lstm(\n",
    "  decoder_inputs_single_x, # This is the input of the generated previous word in the prediction\n",
    "  initial_state=decoder_states_inputs # The h and c states from encoder_model\n",
    ")\n",
    "# decoder_outputs, state_h = decoder_lstm(\n",
    "#   decoder_inputs_single_x,\n",
    "#   initial_state=decoder_states_inputs\n",
    "# ) #gru"
   ]
  },
  {
   "cell_type": "code",
   "execution_count": 253,
   "metadata": {
    "collapsed": true
   },
   "outputs": [],
   "source": [
    "decoder_states = [h, c]\n",
    "# decoder_states = [h] # gru\n",
    "decoder_outputs = decoder_dense(decoder_outputs)"
   ]
  },
  {
   "cell_type": "code",
   "execution_count": 254,
   "metadata": {
    "collapsed": true
   },
   "outputs": [],
   "source": [
    "# The sampling model\n",
    "# inputs: y(t-1), h(t-1), c(t-1)\n",
    "# outputs: y(t), h(t), c(t)\n",
    "decoder_model = Model(\n",
    "  [decoder_inputs_single] + decoder_states_inputs, \n",
    "  [decoder_outputs] + decoder_states)"
   ]
  },
  {
   "cell_type": "code",
   "execution_count": 255,
   "metadata": {
    "collapsed": true
   },
   "outputs": [],
   "source": [
    "# map indexes back into real words\n",
    "# so we can view the results (it's the opposite, v:k instead k:v)\n",
    "idx2word_eng = {v:k for k, v in word_index_dict.items()}\n",
    "idx2word_trans = {v:k for k, v in eq_index.items()} # nltk_word_index replaced word2idx_outputs"
   ]
  },
  {
   "cell_type": "code",
   "execution_count": 256,
   "metadata": {
    "collapsed": true
   },
   "outputs": [],
   "source": [
    "def decode_sequence(input_seq):\n",
    "    # Encode the input as state vectors.\n",
    "    states_value = encoder_model.predict(input_seq)\n",
    "\n",
    "    # Generate empty target sequence of length 1.\n",
    "    target_seq = np.zeros((1, 1))\n",
    "\n",
    "    # Populate the first character of target sequence with the start character.\n",
    "    # NOTE: tokenizer lower-cases all words\n",
    "    target_seq[0, 0] = 1111 # Instead of <sos> till parsing is better (as input token). First Token\n",
    "\n",
    "    # if we get this we break\n",
    "    eos = 2222 # Instead of <eos> till parsing is better (as input token). Last Token\n",
    "\n",
    "    # Create the translation - make prediction 7 (or any target length) times, and each time generate token, h, c\n",
    "    output_sentence = []\n",
    "    for _ in range(max_len_target):\n",
    "        output_tokens, h, c = decoder_model.predict([target_seq] + states_value)\n",
    "        # output_tokens, h = decoder_model.predict([target_seq] + states_value) # gru\n",
    "\n",
    "        # Get next word\n",
    "        idx = np.argmax(output_tokens[0, 0, :])\n",
    "\n",
    "        # End sentence of EOS\n",
    "        if eos == idx:\n",
    "            break\n",
    "\n",
    "        word = ''\n",
    "        if idx > 0:\n",
    "            word = idx2word_trans[idx]\n",
    "            output_sentence.append(word)\n",
    "\n",
    "        # Update the decoder input\n",
    "        # which is just the word just generated\n",
    "        target_seq[0, 0] = idx\n",
    "\n",
    "        # Update states\n",
    "        states_value = [h, c] # or decoder_states\n",
    "        # states_value = [h] # gru\n",
    "    return (output_sentence)"
   ]
  },
  {
   "cell_type": "code",
   "execution_count": 257,
   "metadata": {
    "collapsed": true
   },
   "outputs": [],
   "source": [
    "# while True:\n",
    "#     # Do some test translations\n",
    "#     i = np.random.choice(len(input_texts))\n",
    "#     input_seq = encoder_inputs[i:i+1]\n",
    "#     print(input_seq)\n",
    "#     translation = decode_sequence(input_seq)\n",
    "#     print('-')\n",
    "#     print('Input:', input_texts[i])\n",
    "#     print('Translation:', translation)\n",
    "\n",
    "#     ans = input(\"Continue? [Y/n]\")\n",
    "#     if ans and ans.lower().startswith('n'):\n",
    "#         break"
   ]
  },
  {
   "cell_type": "markdown",
   "metadata": {},
   "source": [
    "**Example from test set**"
   ]
  },
  {
   "cell_type": "code",
   "execution_count": 258,
   "metadata": {},
   "outputs": [
    {
     "data": {
      "text/plain": [
       "array([21,  6, 46,  4, 23, 11,  4,  5,  6,  4,  0,  0,  0,  0,  0,  0,  0,\n",
       "        0,  0,  0,  0,  0,  0,  0], dtype=int32)"
      ]
     },
     "execution_count": 258,
     "metadata": {},
     "output_type": "execute_result"
    }
   ],
   "source": [
    "example_input = encoder_input_test[10]\n",
    "example_input"
   ]
  },
  {
   "cell_type": "code",
   "execution_count": 259,
   "metadata": {
    "collapsed": true
   },
   "outputs": [],
   "source": [
    "reshaped = example_input.reshape(1,24)"
   ]
  },
  {
   "cell_type": "code",
   "execution_count": 260,
   "metadata": {
    "collapsed": true
   },
   "outputs": [],
   "source": [
    "idx2word_eng = {v:k for k, v in word_index_dict.items()}"
   ]
  },
  {
   "cell_type": "code",
   "execution_count": 261,
   "metadata": {},
   "outputs": [
    {
     "data": {
      "text/plain": [
       "['sum',\n",
       " 'two_number',\n",
       " '20',\n",
       " '.',\n",
       " 'differ',\n",
       " '4',\n",
       " '.',\n",
       " 'find',\n",
       " 'two_number',\n",
       " '.',\n",
       " 'one_number',\n",
       " 'one_number',\n",
       " 'one_number',\n",
       " 'one_number',\n",
       " 'one_number',\n",
       " 'one_number',\n",
       " 'one_number',\n",
       " 'one_number',\n",
       " 'one_number',\n",
       " 'one_number',\n",
       " 'one_number',\n",
       " 'one_number',\n",
       " 'one_number',\n",
       " 'one_number']"
      ]
     },
     "execution_count": 261,
     "metadata": {},
     "output_type": "execute_result"
    }
   ],
   "source": [
    "question = [idx2word_eng[num] for num in example_input]\n",
    "question"
   ]
  },
  {
   "cell_type": "code",
   "execution_count": 262,
   "metadata": {},
   "outputs": [
    {
     "data": {
      "text/plain": [
       "[1.0,\n",
       " 1.0,\n",
       " 0.0,\n",
       " -20.0,\n",
       " 9999.0,\n",
       " 1.0,\n",
       " -1.0,\n",
       " 0.0,\n",
       " -4.0,\n",
       " 9999.0,\n",
       " 0.0,\n",
       " 0.0,\n",
       " 0.0,\n",
       " 0.0,\n",
       " 0.0,\n",
       " 0.0]"
      ]
     },
     "execution_count": 262,
     "metadata": {},
     "output_type": "execute_result"
    }
   ],
   "source": [
    "example_translation = decode_sequence(reshaped)\n",
    "example_translation"
   ]
  },
  {
   "cell_type": "markdown",
   "metadata": {},
   "source": [
    "**Prediction functions**"
   ]
  },
  {
   "cell_type": "code",
   "execution_count": 263,
   "metadata": {
    "collapsed": true
   },
   "outputs": [],
   "source": [
    "end_sent = 9999\n",
    "def count_eq(vector):\n",
    "    vector_sep = []\n",
    "    index = [i for i, x in enumerate(vector) if x == end_sent]\n",
    "    for i in index: \n",
    "        vector_sep.append(list(vector[i-4:i]))\n",
    "    return vector_sep"
   ]
  },
  {
   "cell_type": "code",
   "execution_count": 264,
   "metadata": {},
   "outputs": [
    {
     "data": {
      "text/plain": [
       "[[1.0, 1.0, 0.0, -20.0], [1.0, -1.0, 0.0, -4.0]]"
      ]
     },
     "execution_count": 264,
     "metadata": {},
     "output_type": "execute_result"
    }
   ],
   "source": [
    "list_input_eq = count_eq(example_translation)\n",
    "list_input_eq"
   ]
  },
  {
   "cell_type": "code",
   "execution_count": 265,
   "metadata": {
    "collapsed": true
   },
   "outputs": [],
   "source": [
    "# [i for i, x in enumerate(example_translation) if x == 9999]"
   ]
  },
  {
   "cell_type": "code",
   "execution_count": 266,
   "metadata": {
    "collapsed": true
   },
   "outputs": [],
   "source": [
    "# example_translation[5:7]"
   ]
  },
  {
   "cell_type": "code",
   "execution_count": 267,
   "metadata": {
    "collapsed": true
   },
   "outputs": [],
   "source": [
    "from sympy import solve, symbols"
   ]
  },
  {
   "cell_type": "code",
   "execution_count": 268,
   "metadata": {
    "collapsed": true
   },
   "outputs": [],
   "source": [
    "def result_eq(list_input_eq):\n",
    "    x1,x2,x3 = symbols('x1,x2,x3') ## sympy.symbols\n",
    "    unknown = sympy.Matrix((x1,x2,x3,1))\n",
    "    unknown = unknown.reshape(4,1)\n",
    "    if len(list_input_eq)>0:\n",
    "        a = sympy.Matrix((list_input_eq[0]))\n",
    "        a = a.reshape(1,4)\n",
    "\n",
    "        eq_num_one = a*unknown\n",
    "        if len(list_input_eq)>1:\n",
    "            b = sympy.Matrix((list_input_eq[1]))\n",
    "            b = b.reshape(1,4)\n",
    "\n",
    "            eq_num_two = b*unknown\n",
    "\n",
    "            if len(list_input_eq) == 3:\n",
    "                c = sympy.Matrix((list_input_eq[2]))\n",
    "                c = c.reshape(1,4)\n",
    "                eq_num_third = c*unknown\n",
    "                result = solve([eq_num_one , eq_num_two , eq_num_third], x1,x2,x3)\n",
    "                return result\n",
    "            else:\n",
    "                result = solve([eq_num_one , eq_num_two], x1,x2,x3)\n",
    "        else:\n",
    "            result = solve([eq_num_one], x1,x2,x3)\n",
    "    else:\n",
    "        return [0]\n",
    "    return result"
   ]
  },
  {
   "cell_type": "code",
   "execution_count": 269,
   "metadata": {},
   "outputs": [
    {
     "data": {
      "text/plain": [
       "{x2: 8.00000000000000, x1: 12.0000000000000}"
      ]
     },
     "execution_count": 269,
     "metadata": {},
     "output_type": "execute_result"
    }
   ],
   "source": [
    "answer_dict = result_eq(list_input_eq)\n",
    "answer_dict"
   ]
  },
  {
   "cell_type": "code",
   "execution_count": 270,
   "metadata": {
    "collapsed": true
   },
   "outputs": [],
   "source": [
    "def answer_list(var):\n",
    "    result = None\n",
    "    if type(var) == dict:\n",
    "        result = list(var.values())\n",
    "    return result"
   ]
  },
  {
   "cell_type": "code",
   "execution_count": 271,
   "metadata": {},
   "outputs": [
    {
     "data": {
      "text/plain": [
       "[8.00000000000000, 12.0000000000000]"
      ]
     },
     "execution_count": 271,
     "metadata": {},
     "output_type": "execute_result"
    }
   ],
   "source": [
    "answer_list(answer_dict)"
   ]
  },
  {
   "cell_type": "code",
   "execution_count": 272,
   "metadata": {
    "collapsed": true
   },
   "outputs": [],
   "source": [
    "from sympy import symbols"
   ]
  },
  {
   "cell_type": "markdown",
   "metadata": {},
   "source": [
    "## Test data prediction"
   ]
  },
  {
   "cell_type": "code",
   "execution_count": 273,
   "metadata": {
    "collapsed": true
   },
   "outputs": [],
   "source": [
    "test = test.reset_index()"
   ]
  },
  {
   "cell_type": "code",
   "execution_count": 274,
   "metadata": {
    "collapsed": true
   },
   "outputs": [
    {
     "data": {
      "application/vnd.jupyter.widget-view+json": {
       "model_id": "e35634fa920d4ec3bb575ceb489bd3ab",
       "version_major": 2,
       "version_minor": 0
      },
      "text/plain": [
       "HBox(children=(IntProgress(value=0, max=1504), HTML(value='')))"
      ]
     },
     "metadata": {},
     "output_type": "display_data"
    },
    {
     "name": "stdout",
     "output_type": "stream",
     "text": [
      "\n"
     ]
    }
   ],
   "source": [
    "solution_list = []\n",
    "counter = 0\n",
    "for input_vect in tqdm(encoder_input_test):\n",
    "    try:\n",
    "        reshaped = input_vect.reshape(1,24)\n",
    "        predicted_vect = decode_sequence(reshaped)\n",
    "        predicted_equations = count_eq(predicted_vect)\n",
    "        solution = result_eq(predicted_equations)\n",
    "        solution_as_list = answer_list(solution)\n",
    "        rounded_as_list = [round(x) for x in solution_as_list]\n",
    "    except:\n",
    "        solution = [0]\n",
    "        counter +=1\n",
    "    solution_list.append(rounded_as_list)"
   ]
  },
  {
   "cell_type": "code",
   "execution_count": 275,
   "metadata": {},
   "outputs": [
    {
     "name": "stdout",
     "output_type": "stream",
     "text": [
      "No. of errors:  188\n"
     ]
    }
   ],
   "source": [
    "print(\"No. of errors: \",  counter)"
   ]
  },
  {
   "cell_type": "code",
   "execution_count": 276,
   "metadata": {},
   "outputs": [
    {
     "data": {
      "text/plain": [
       "[[6, -2],\n",
       " [-45, -1],\n",
       " [2, -5],\n",
       " [-6, 79],\n",
       " [3, -1],\n",
       " [18, 14],\n",
       " [9, 13],\n",
       " [9, 13],\n",
       " [13, 25],\n",
       " [-10, -4],\n",
       " [8, 12]]"
      ]
     },
     "execution_count": 276,
     "metadata": {},
     "output_type": "execute_result"
    }
   ],
   "source": [
    "solution_list[:11]"
   ]
  },
  {
   "cell_type": "code",
   "execution_count": 277,
   "metadata": {
    "collapsed": true
   },
   "outputs": [],
   "source": [
    "test[\"predicted_solution\"] = pd.Series(solution_list)"
   ]
  },
  {
   "cell_type": "code",
   "execution_count": 278,
   "metadata": {},
   "outputs": [
    {
     "data": {
      "text/plain": [
       "0       [6, -2]\n",
       "1     [-45, -1]\n",
       "2       [2, -5]\n",
       "3      [-6, 79]\n",
       "4       [3, -1]\n",
       "5      [18, 14]\n",
       "6       [9, 13]\n",
       "7       [9, 13]\n",
       "8      [13, 25]\n",
       "9     [-10, -4]\n",
       "10      [8, 12]\n",
       "Name: predicted_solution, dtype: object"
      ]
     },
     "execution_count": 278,
     "metadata": {},
     "output_type": "execute_result"
    }
   ],
   "source": [
    "test[\"predicted_solution\"][:11]"
   ]
  },
  {
   "cell_type": "markdown",
   "metadata": {},
   "source": [
    "# Accuracy"
   ]
  },
  {
   "cell_type": "code",
   "execution_count": 279,
   "metadata": {
    "collapsed": true
   },
   "outputs": [],
   "source": [
    "ys = pd.DataFrame({'sol_true': test[\"ans_simple\"], 'sol_pred': test[\"predicted_solution\"]})"
   ]
  },
  {
   "cell_type": "code",
   "execution_count": 280,
   "metadata": {
    "collapsed": true
   },
   "outputs": [],
   "source": [
    "is_same_sol = ys.sol_true.map(set) == ys.sol_pred.map(set)\n",
    "accuracy = is_same_sol.value_counts(normalize=True)"
   ]
  },
  {
   "cell_type": "code",
   "execution_count": 281,
   "metadata": {},
   "outputs": [
    {
     "name": "stdout",
     "output_type": "stream",
     "text": [
      "accuracy:  0.011303191489361703\n"
     ]
    }
   ],
   "source": [
    "print(\"accuracy: \", accuracy[1])"
   ]
  },
  {
   "cell_type": "code",
   "execution_count": 282,
   "metadata": {},
   "outputs": [
    {
     "name": "stdout",
     "output_type": "stream",
     "text": [
      "Number of equations solved:  17.0\n"
     ]
    }
   ],
   "source": [
    "num_solved = accuracy[1]* len(ys)\n",
    "print(\"Number of equations solved: \", num_solved)"
   ]
  },
  {
   "cell_type": "code",
   "execution_count": null,
   "metadata": {
    "collapsed": true
   },
   "outputs": [],
   "source": []
  }
 ],
 "metadata": {
  "kernelspec": {
   "display_name": "Python 3",
   "language": "python",
   "name": "python3"
  },
  "language_info": {
   "codemirror_mode": {
    "name": "ipython",
    "version": 3
   },
   "file_extension": ".py",
   "mimetype": "text/x-python",
   "name": "python",
   "nbconvert_exporter": "python",
   "pygments_lexer": "ipython3",
   "version": "3.6.3"
  }
 },
 "nbformat": 4,
 "nbformat_minor": 2
}
